{
 "cells": [
  {
   "cell_type": "markdown",
   "metadata": {},
   "source": [
    "---"
   ]
  },
  {
   "cell_type": "markdown",
   "metadata": {
    "id": "BlwQRqffGEqb",
    "toc-hr-collapsed": false
   },
   "source": [
    "Lambda School Data Science\n",
    "\n",
    "*Unit 4, Sprint 1, Module 1*\n",
    "\n",
    "---\n",
    "<h1 id=\"moduleTitle\"> Natural Language Processing Introduction (Prepare)</h1>\n",
    "\n",
    "\"Natural\" meaning - not computer languages but spoken/written human languages. The hard thing about NLP is that human languages are far less structured or consistent than computer languages. This is perhaps the largest source of difficulty when trying to get computers to \"understand\" human languages. How do you get a machine to understand sarcasm, and irony, and synonyms, connotation, denotation, nuance, and tone of voice --all without it having lived a lifetime of experience for context? If you think about it, our human brains have been exposed to quite a lot of training data to help us interpret languages, and even then we misunderstand each other pretty frequently. \n",
    "    \n",
    "\n",
    "<h2 id='moduleObjectives'>Learning Objectives</h2>\n",
    "\n",
    "By the end of end of this module, a student should be able to:\n",
    "* <a href=\"#p1\">Objective 1</a>: Tokenize text\n",
    "* <a href=\"#p1\">Objective 2</a>: Remove stop words from text\n",
    "* <a href=\"#p3\">Objective 3</a>: Perform stemming and lemmatization on tokens\n",
    "\n",
    "## Conda Environments\n",
    "\n",
    "You will be completing each module this sprint on your machine. We will be using conda environments to manage the packages and their dependencies for this sprint's content. In a classroom setting, instructors typically abstract away environment for you. However, environment management is an important professional data science skill. We showed you how to manage environments using pipvirtual env during Unit 3, but in this sprint, we will introduce an environment management tool common in the data science community: \n",
    "\n",
    "> __conda__: Package, dependency and environment management for any language—Python, R, Ruby, Lua, Scala, Java, JavaScript, C/ C++, FORTRAN, and more.\n",
    "\n",
    "The easiest way to install conda on your machine is via the [Anaconda Distribution](https://www.anaconda.com/distribution/) of Python & R. Once you have conda installed, read [\"A Guide to Conda Environments\"](https://towardsdatascience.com/a-guide-to-conda-environments-bc6180fc533). This article will provide an introduce into some of the conda basics. If you need some additional help getting started, the official [\"Setting started with conda\"](https://conda.io/projects/conda/en/latest/user-guide/getting-started.html) guide will point you in the right direction. \n",
    "\n",
    ":snake: \n",
    "\n",
    "To get the sprint environment setup: \n",
    "\n",
    "1. Open your command line tool (Terminal for MacOS, Anaconda Prompt for Windows)\n",
    "2. Navigate to the folder with this sprint's content. There should be a `requirements.txt`\n",
    "3. Run `conda create -n U4-S1-NLP python==3.7` => You can also rename the environment if you would like. Once the command completes, your conda environment should be ready.\n",
    "4. Now, we are going to add in the require python packages for this sprint. You will need to 'activate' the conda environment: `source activate U4-S1-NLP` on Terminal or `conda activate U4-S1-NLP` on Anaconda Prompt. Once your environment is activate, run `pip install -r requirements.txt` which will install the required packages into your environment.\n",
    "5. We are going to also add an Ipython Kernel reference to your conda environment, so we can use it from JupyterLab. \n",
    "6. Next run `python -m ipykernel install --user --name U4-S1-NLP --display-name \"U4-S1-NLP (Python3)\"` => This will add a json object to an ipython file, so JupterLab will know that it can use this isolated instance of Python. :) \n",
    "7. Last step, we need to install the models for Spacy. Run these commands `python -m spacy download en_core_web_md` and `python -m spacy download en_core_web_lg`\n",
    "8. Deactivate your conda environment and launch JupyterLab. You should know see \"U4-S1-NLP (Python3)\" in the list of available kernels on launch screen. "
   ]
  },
  {
   "cell_type": "code",
   "execution_count": 1,
   "metadata": {},
   "outputs": [],
   "source": [
    "# Dependencies for the week (instead of conda)\n",
    "# Run if you're using colab, otherwise you should have a local copy of the data\n",
    "#!wget https://raw.githubusercontent.com/LambdaSchool/DS-Unit-4-Sprint-1-NLP/main/requirements.txt\n",
    "# !pip install -r requirements.txt"
   ]
  },
  {
   "cell_type": "code",
   "execution_count": 2,
   "metadata": {
    "collapsed": true,
    "jupyter": {
     "outputs_hidden": true
    }
   },
   "outputs": [
    {
     "name": "stdout",
     "output_type": "stream",
     "text": [
      "Collecting en_core_web_lg==2.2.5\r\n",
      "  Downloading https://github.com/explosion/spacy-models/releases/download/en_core_web_lg-2.2.5/en_core_web_lg-2.2.5.tar.gz (827.9 MB)\r\n",
      "\u001B[K     |████████████████████████████████| 827.9 MB 13.7 MB/s eta 0:00:01     |█████████▎                      | 239.6 MB 11.3 MB/s eta 0:00:53     |███████████████▌                | 401.2 MB 13.2 MB/s eta 0:00:33\r\n",
      "\u001B[?25hRequirement already satisfied: spacy>=2.2.2 in /opt/anaconda3/envs/Unit_4/lib/python3.7/site-packages (from en_core_web_lg==2.2.5) (2.2.3)\r\n",
      "Requirement already satisfied: setuptools in /opt/anaconda3/envs/Unit_4/lib/python3.7/site-packages (from spacy>=2.2.2->en_core_web_lg==2.2.5) (49.6.0.post20210108)\r\n",
      "Requirement already satisfied: wasabi<1.1.0,>=0.4.0 in /opt/anaconda3/envs/Unit_4/lib/python3.7/site-packages (from spacy>=2.2.2->en_core_web_lg==2.2.5) (0.8.2)\r\n",
      "Requirement already satisfied: blis<0.5.0,>=0.4.0 in /opt/anaconda3/envs/Unit_4/lib/python3.7/site-packages (from spacy>=2.2.2->en_core_web_lg==2.2.5) (0.4.1)\r\n",
      "Requirement already satisfied: preshed<3.1.0,>=3.0.2 in /opt/anaconda3/envs/Unit_4/lib/python3.7/site-packages (from spacy>=2.2.2->en_core_web_lg==2.2.5) (3.0.5)\r\n",
      "Requirement already satisfied: requests<3.0.0,>=2.13.0 in /opt/anaconda3/envs/Unit_4/lib/python3.7/site-packages (from spacy>=2.2.2->en_core_web_lg==2.2.5) (2.25.1)\r\n",
      "Requirement already satisfied: plac<1.2.0,>=0.9.6 in /opt/anaconda3/envs/Unit_4/lib/python3.7/site-packages (from spacy>=2.2.2->en_core_web_lg==2.2.5) (1.1.3)\r\n",
      "Requirement already satisfied: murmurhash<1.1.0,>=0.28.0 in /opt/anaconda3/envs/Unit_4/lib/python3.7/site-packages (from spacy>=2.2.2->en_core_web_lg==2.2.5) (1.0.5)\r\n",
      "Requirement already satisfied: catalogue<1.1.0,>=0.0.7 in /opt/anaconda3/envs/Unit_4/lib/python3.7/site-packages (from spacy>=2.2.2->en_core_web_lg==2.2.5) (1.0.0)\r\n",
      "Requirement already satisfied: thinc<7.4.0,>=7.3.0 in /opt/anaconda3/envs/Unit_4/lib/python3.7/site-packages (from spacy>=2.2.2->en_core_web_lg==2.2.5) (7.3.1)\r\n",
      "Requirement already satisfied: numpy>=1.15.0 in /opt/anaconda3/envs/Unit_4/lib/python3.7/site-packages (from spacy>=2.2.2->en_core_web_lg==2.2.5) (1.21.0)\r\n",
      "Requirement already satisfied: srsly<1.1.0,>=0.1.0 in /opt/anaconda3/envs/Unit_4/lib/python3.7/site-packages (from spacy>=2.2.2->en_core_web_lg==2.2.5) (1.0.5)\r\n",
      "Requirement already satisfied: cymem<2.1.0,>=2.0.2 in /opt/anaconda3/envs/Unit_4/lib/python3.7/site-packages (from spacy>=2.2.2->en_core_web_lg==2.2.5) (2.0.5)\r\n",
      "Requirement already satisfied: importlib-metadata>=0.20 in /opt/anaconda3/envs/Unit_4/lib/python3.7/site-packages (from catalogue<1.1.0,>=0.0.7->spacy>=2.2.2->en_core_web_lg==2.2.5) (3.10.1)\r\n",
      "Requirement already satisfied: typing-extensions>=3.6.4 in /opt/anaconda3/envs/Unit_4/lib/python3.7/site-packages (from importlib-metadata>=0.20->catalogue<1.1.0,>=0.0.7->spacy>=2.2.2->en_core_web_lg==2.2.5) (3.10.0.0)\r\n",
      "Requirement already satisfied: zipp>=0.5 in /opt/anaconda3/envs/Unit_4/lib/python3.7/site-packages (from importlib-metadata>=0.20->catalogue<1.1.0,>=0.0.7->spacy>=2.2.2->en_core_web_lg==2.2.5) (3.5.0)\r\n",
      "Requirement already satisfied: certifi>=2017.4.17 in /opt/anaconda3/envs/Unit_4/lib/python3.7/site-packages (from requests<3.0.0,>=2.13.0->spacy>=2.2.2->en_core_web_lg==2.2.5) (2021.5.30)\r\n",
      "Requirement already satisfied: chardet<5,>=3.0.2 in /opt/anaconda3/envs/Unit_4/lib/python3.7/site-packages (from requests<3.0.0,>=2.13.0->spacy>=2.2.2->en_core_web_lg==2.2.5) (4.0.0)\r\n",
      "Requirement already satisfied: idna<3,>=2.5 in /opt/anaconda3/envs/Unit_4/lib/python3.7/site-packages (from requests<3.0.0,>=2.13.0->spacy>=2.2.2->en_core_web_lg==2.2.5) (2.10)\r\n",
      "Requirement already satisfied: urllib3<1.27,>=1.21.1 in /opt/anaconda3/envs/Unit_4/lib/python3.7/site-packages (from requests<3.0.0,>=2.13.0->spacy>=2.2.2->en_core_web_lg==2.2.5) (1.26.6)\r\n",
      "Requirement already satisfied: tqdm<5.0.0,>=4.10.0 in /opt/anaconda3/envs/Unit_4/lib/python3.7/site-packages (from thinc<7.4.0,>=7.3.0->spacy>=2.2.2->en_core_web_lg==2.2.5) (4.61.2)\r\n",
      "Building wheels for collected packages: en-core-web-lg\r\n",
      "  Building wheel for en-core-web-lg (setup.py) ... \u001B[?25l-\b \b\\\b \b|\b \b/\b \b-\b \b\\\b \b|\b \b/\b \b-\b \b\\\b \b|\b \b/\b \b-\b \b\\\b \b|\b \b/\b \b-\b \bdone\r\n",
      "\u001B[?25h  Created wheel for en-core-web-lg: filename=en_core_web_lg-2.2.5-py3-none-any.whl size=829180943 sha256=24f6d0f2ce9f6ed0cbd15cc5fa75389fb6fef229b2ef5a4eac96372e5f332b70\r\n",
      "  Stored in directory: /private/var/folders/mg/_r0tzxlj51xd5dqszvs8fvth0000gn/T/pip-ephem-wheel-cache-ic8500by/wheels/11/95/ba/2c36cc368c0bd339b44a791c2c1881a1fb714b78c29a4cb8f5\r\n",
      "Successfully built en-core-web-lg\r\n",
      "Installing collected packages: en-core-web-lg\r\n",
      "Successfully installed en-core-web-lg-2.2.5\r\n",
      "\u001B[38;5;2m✔ Download and installation successful\u001B[0m\r\n",
      "You can now load the model via spacy.load('en_core_web_lg')\r\n"
     ]
    }
   ],
   "source": [
    "# You'll use en_core_web_sm for the sprint challenge due memory constraints on Codegrader\n",
    "#!python -m spacy download en_core_web_sm \n",
    "\n",
    "# Locally (or on colab) let's use en_core_web_lg \n",
    "!python -m spacy download en_core_web_lg # Can do lg, takes awhile\n",
    "# Also on Colab, need to restart runtime after this step!"
   ]
  },
  {
   "cell_type": "markdown",
   "metadata": {
    "id": "I0ssyXeiGEqc",
    "toc-hr-collapsed": false
   },
   "source": [
    "# Tokenze Text (Learn)\n",
    "<a id=\"p1\"></a>"
   ]
  },
  {
   "cell_type": "markdown",
   "metadata": {
    "id": "sd6cxaNTGEqc",
    "toc-hr-collapsed": true
   },
   "source": [
    "## Overview\n",
    "\n",
    "> **token**: an instance of a sequence of characters in some particular document that are grouped together as a useful semantic unit for processing\n",
    "\n",
    "> [_*Introduction to Information Retrival*_](https://nlp.stanford.edu/IR-book/)\n",
    "\n",
    "\n",
    "### The attributes of good tokens\n",
    "\n",
    "* Should be stored in an iterable data structure\n",
    "  - Allows analysis of the \"semantic unit\"\n",
    "* Should be all the same case\n",
    "  - Reduces the complexity of our data\n",
    "* Should be free of non-alphanumeric characters (ie punctuation, whitespace)\n",
    "  - Removes information that is probably not relevant to the analysis"
   ]
  },
  {
   "cell_type": "markdown",
   "metadata": {
    "id": "dK-EKGVNGEqd"
   },
   "source": [
    "Let's pretend we are trying analyze the random sequence here. Question: what is the most common character in this sequence?"
   ]
  },
  {
   "cell_type": "code",
   "execution_count": 3,
   "metadata": {
    "id": "NODbGehhGEqe"
   },
   "outputs": [],
   "source": [
    "random_seq = \"AABAAFBBBBCGCDDEEEFCFFDFFAFFZFGGGGHEAFJAAZBBFCZ\""
   ]
  },
  {
   "cell_type": "markdown",
   "metadata": {
    "id": "Uj0FHiJEGEqh"
   },
   "source": [
    "A useful unit of analysis for us is going to be a letter or character"
   ]
  },
  {
   "cell_type": "code",
   "execution_count": 5,
   "metadata": {
    "colab": {
     "base_uri": "https://localhost:8080/",
     "height": 54
    },
    "id": "OFWePC6XGEqh",
    "outputId": "41945a1a-6a50-4419-fcad-a08b4fe536cc"
   },
   "outputs": [
    {
     "name": "stdout",
     "output_type": "stream",
     "text": [
      "['A', 'A', 'B', 'A', 'A', 'F', 'B', 'B', 'B', 'B', 'C', 'G', 'C', 'D', 'D', 'E', 'E', 'E', 'F', 'C', 'F', 'F', 'D', 'F', 'F', 'A', 'F', 'F', 'Z', 'F', 'G', 'G', 'G', 'G', 'H', 'E', 'A', 'F', 'J', 'A', 'A', 'Z', 'B', 'B', 'F', 'C', 'Z']\n",
      "['A', 'A', 'B', 'A', 'A', 'F', 'B', 'B', 'B', 'B', 'C', 'G', 'C', 'D', 'D', 'E', 'E', 'E', 'F', 'C', 'F', 'F', 'D', 'F', 'F', 'A', 'F', 'F', 'Z', 'F', 'G', 'G', 'G', 'G', 'H', 'E', 'A', 'F', 'J', 'A', 'A', 'Z', 'B', 'B', 'F', 'C', 'Z']\n"
     ]
    }
   ],
   "source": [
    "tokens = list(random_seq)\n",
    "print(tokens)"
   ]
  },
  {
   "cell_type": "markdown",
   "metadata": {
    "id": "8tbp-hyDGEql"
   },
   "source": [
    "Our tokens are already \"good\": in an iterable datastructure, all the same case, and free of noise characters (punctuation, whitespace), so we can jump straight into analysis."
   ]
  },
  {
   "cell_type": "code",
   "execution_count": 6,
   "metadata": {
    "colab": {
     "base_uri": "https://localhost:8080/",
     "height": 319
    },
    "id": "mFQcACruGEql",
    "outputId": "5f37008f-1886-498a-b4f6-6356a65059a3"
   },
   "outputs": [
    {
     "data": {
      "text/plain": "<Figure size 432x288 with 1 Axes>",
      "image/png": "[encoded data removed]"
     },
     "metadata": {
      "needs_background": "light"
     },
     "output_type": "display_data"
    }
   ],
   "source": [
    "import seaborn as sns\n",
    "\n",
    "sns.countplot(tokens);"
   ]
  },
  {
   "cell_type": "markdown",
   "metadata": {
    "id": "o3TbbxfHGEqo"
   },
   "source": [
    "The most common character in our sequence is  \"F\". We can't just glance at the the sequence to know which character is the most common. We (humans) struggle to subitize complex data (like random text sequences).\n",
    "\n",
    "> __Subitize__ is the ability to tell the number of objects in a set, quickly, without counting.  \n",
    "\n",
    "We need to chunk the data into countable pieces \"tokens\" for us to analyze them. This inability subitize text data is the motivation for our discussion today."
   ]
  },
  {
   "cell_type": "markdown",
   "metadata": {
    "id": "UMa8NJjlGEqo",
    "toc-hr-collapsed": true
   },
   "source": [
    "### Tokenizing with Pure Python"
   ]
  },
  {
   "cell_type": "code",
   "execution_count": 7,
   "metadata": {
    "id": "im96HX4XGEqp"
   },
   "outputs": [],
   "source": [
    "sample = \"Friends, Romans, countrymen, lend me your ears;\""
   ]
  },
  {
   "cell_type": "markdown",
   "metadata": {
    "id": "Q8ACUekrGEqr"
   },
   "source": [
    "##### Iterable Tokens\n",
    "\n",
    "A string object in Python is already iterable. However, the item you iterate over is a character not a token:\n",
    "\n",
    "```\n",
    "from time import sleep\n",
    "for num, character in enumerate(sample):\n",
    "    sleep(.5)\n",
    "    print(f\"Char {num} - {character}\", end=\"\\r\")\n",
    "```\n",
    "\n",
    "If we instead care about the words in our sample (our semantic unit), we can use the string method `.split()` to separate the whitespace and create iterable units. :)"
   ]
  },
  {
   "cell_type": "code",
   "execution_count": 8,
   "metadata": {
    "colab": {
     "base_uri": "https://localhost:8080/",
     "height": 34
    },
    "id": "Q5Vh69V5GEqr",
    "outputId": "c16dd32b-fb89-4598-ef93-8a7b8c17122d"
   },
   "outputs": [
    {
     "data": {
      "text/plain": "['Friends,', 'Romans,', 'countrymen,', 'lend', 'me', 'your', 'ears;']"
     },
     "execution_count": 8,
     "metadata": {},
     "output_type": "execute_result"
    }
   ],
   "source": [
    "sample.split(\" \")"
   ]
  },
  {
   "cell_type": "markdown",
   "metadata": {
    "id": "3h3fMFY0GEqu"
   },
   "source": [
    "##### Case Normalization\n",
    "A common data cleaning data cleaning task with token is to standardize or normalize the case. Normalizing case reduces the chance that you have duplicate records for things which have practically the same semantic meaning. You can use either the `.lower()` or `.upper()` string methods to normalize case.\n",
    "\n",
    "Consider the following example: "
   ]
  },
  {
   "cell_type": "code",
   "execution_count": 11,
   "metadata": {
    "id": "i2K43cyJGEqu"
   },
   "outputs": [],
   "source": [
    "import pandas as pd\n",
    "df = pd.read_csv('./data/Datafiniti_Amazon_Consumer_Reviews_of_Amazon_Products_May19.csv')"
   ]
  },
  {
   "cell_type": "code",
   "execution_count": 12,
   "metadata": {},
   "outputs": [
    {
     "data": {
      "text/plain": "                     id             dateAdded           dateUpdated  \\\n0  AVpgNzjwLJeJML43Kpxn  2015-10-30T08:59:32Z  2019-04-25T09:08:16Z   \n1  AVpgNzjwLJeJML43Kpxn  2015-10-30T08:59:32Z  2019-04-25T09:08:16Z   \n2  AVpgNzjwLJeJML43Kpxn  2015-10-30T08:59:32Z  2019-04-25T09:08:16Z   \n3  AVpgNzjwLJeJML43Kpxn  2015-10-30T08:59:32Z  2019-04-25T09:08:16Z   \n4  AVpgNzjwLJeJML43Kpxn  2015-10-30T08:59:32Z  2019-04-25T09:08:16Z   \n\n                                                name                  asins  \\\n0  AmazonBasics AAA Performance Alkaline Batterie...  B00QWO9P0O,B00LH3DMUO   \n1  AmazonBasics AAA Performance Alkaline Batterie...  B00QWO9P0O,B00LH3DMUO   \n2  AmazonBasics AAA Performance Alkaline Batterie...  B00QWO9P0O,B00LH3DMUO   \n3  AmazonBasics AAA Performance Alkaline Batterie...  B00QWO9P0O,B00LH3DMUO   \n4  AmazonBasics AAA Performance Alkaline Batterie...  B00QWO9P0O,B00LH3DMUO   \n\n          brand                                         categories  \\\n0  Amazonbasics  AA,AAA,Health,Electronics,Health & Household,C...   \n1  Amazonbasics  AA,AAA,Health,Electronics,Health & Household,C...   \n2  Amazonbasics  AA,AAA,Health,Electronics,Health & Household,C...   \n3  Amazonbasics  AA,AAA,Health,Electronics,Health & Household,C...   \n4  Amazonbasics  AA,AAA,Health,Electronics,Health & Household,C...   \n\n  primaryCategories                                          imageURLs  \\\n0   Health & Beauty  https://images-na.ssl-images-amazon.com/images...   \n1   Health & Beauty  https://images-na.ssl-images-amazon.com/images...   \n2   Health & Beauty  https://images-na.ssl-images-amazon.com/images...   \n3   Health & Beauty  https://images-na.ssl-images-amazon.com/images...   \n4   Health & Beauty  https://images-na.ssl-images-amazon.com/images...   \n\n                                                keys  ... reviews.didPurchase  \\\n0  amazonbasics/hl002619,amazonbasicsaaaperforman...  ...                 NaN   \n1  amazonbasics/hl002619,amazonbasicsaaaperforman...  ...                 NaN   \n2  amazonbasics/hl002619,amazonbasicsaaaperforman...  ...                 NaN   \n3  amazonbasics/hl002619,amazonbasicsaaaperforman...  ...                 NaN   \n4  amazonbasics/hl002619,amazonbasicsaaaperforman...  ...                 NaN   \n\n  reviews.doRecommend reviews.id reviews.numHelpful reviews.rating  \\\n0                 NaN        NaN                NaN              3   \n1                 NaN        NaN                NaN              4   \n2                 NaN        NaN                NaN              5   \n3                 NaN        NaN                NaN              5   \n4                 NaN        NaN                NaN              5   \n\n                                  reviews.sourceURLs  \\\n0  https://www.amazon.com/product-reviews/B00QWO9...   \n1  https://www.amazon.com/product-reviews/B00QWO9...   \n2  https://www.amazon.com/product-reviews/B00QWO9...   \n3  https://www.amazon.com/product-reviews/B00QWO9...   \n4  https://www.amazon.com/product-reviews/B00QWO9...   \n\n                                        reviews.text  \\\n0  I order 3 of them and one of the item is bad q...   \n1  Bulk is always the less expensive way to go fo...   \n2  Well they are not Duracell but for the price i...   \n3  Seem to work as well as name brand batteries a...   \n4  These batteries are very long lasting the pric...   \n\n                                       reviews.title  reviews.username  \\\n0  ... 3 of them and one of the item is bad quali...        Byger yang   \n1  ... always the less expensive way to go for pr...              ByMG   \n2  ... are not Duracell but for the price i am ha...  BySharon Lambert   \n3  ... as well as name brand batteries at a much ...     Bymark sexson   \n4  ... batteries are very long lasting the price ...           Bylinda   \n\n                                          sourceURLs  \n0  https://www.barcodable.com/upc/841710106442,ht...  \n1  https://www.barcodable.com/upc/841710106442,ht...  \n2  https://www.barcodable.com/upc/841710106442,ht...  \n3  https://www.barcodable.com/upc/841710106442,ht...  \n4  https://www.barcodable.com/upc/841710106442,ht...  \n\n[5 rows x 24 columns]",
      "text/html": "<div>\n<style scoped>\n    .dataframe tbody tr th:only-of-type {\n        vertical-align: middle;\n    }\n\n    .dataframe tbody tr th {\n        vertical-align: top;\n    }\n\n    .dataframe thead th {\n        text-align: right;\n    }\n</style>\n<table border=\"1\" class=\"dataframe\">\n  <thead>\n    <tr style=\"text-align: right;\">\n      <th></th>\n      <th>id</th>\n      <th>dateAdded</th>\n      <th>dateUpdated</th>\n      <th>name</th>\n      <th>asins</th>\n      <th>brand</th>\n      <th>categories</th>\n      <th>primaryCategories</th>\n      <th>imageURLs</th>\n      <th>keys</th>\n      <th>...</th>\n      <th>reviews.didPurchase</th>\n      <th>reviews.doRecommend</th>\n      <th>reviews.id</th>\n      <th>reviews.numHelpful</th>\n      <th>reviews.rating</th>\n      <th>reviews.sourceURLs</th>\n      <th>reviews.text</th>\n      <th>reviews.title</th>\n      <th>reviews.username</th>\n      <th>sourceURLs</th>\n    </tr>\n  </thead>\n  <tbody>\n    <tr>\n      <th>0</th>\n      <td>AVpgNzjwLJeJML43Kpxn</td>\n      <td>2015-10-30T08:59:32Z</td>\n      <td>2019-04-25T09:08:16Z</td>\n      <td>AmazonBasics AAA Performance Alkaline Batterie...</td>\n      <td>B00QWO9P0O,B00LH3DMUO</td>\n      <td>Amazonbasics</td>\n      <td>AA,AAA,Health,Electronics,Health &amp; Household,C...</td>\n      <td>Health &amp; Beauty</td>\n      <td>https://images-na.ssl-images-amazon.com/images...</td>\n      <td>amazonbasics/hl002619,amazonbasicsaaaperforman...</td>\n      <td>...</td>\n      <td>NaN</td>\n      <td>NaN</td>\n      <td>NaN</td>\n      <td>NaN</td>\n      <td>3</td>\n      <td>https://www.amazon.com/product-reviews/B00QWO9...</td>\n      <td>I order 3 of them and one of the item is bad q...</td>\n      <td>... 3 of them and one of the item is bad quali...</td>\n      <td>Byger yang</td>\n      <td>https://www.barcodable.com/upc/841710106442,ht...</td>\n    </tr>\n    <tr>\n      <th>1</th>\n      <td>AVpgNzjwLJeJML43Kpxn</td>\n      <td>2015-10-30T08:59:32Z</td>\n      <td>2019-04-25T09:08:16Z</td>\n      <td>AmazonBasics AAA Performance Alkaline Batterie...</td>\n      <td>B00QWO9P0O,B00LH3DMUO</td>\n      <td>Amazonbasics</td>\n      <td>AA,AAA,Health,Electronics,Health &amp; Household,C...</td>\n      <td>Health &amp; Beauty</td>\n      <td>https://images-na.ssl-images-amazon.com/images...</td>\n      <td>amazonbasics/hl002619,amazonbasicsaaaperforman...</td>\n      <td>...</td>\n      <td>NaN</td>\n      <td>NaN</td>\n      <td>NaN</td>\n      <td>NaN</td>\n      <td>4</td>\n      <td>https://www.amazon.com/product-reviews/B00QWO9...</td>\n      <td>Bulk is always the less expensive way to go fo...</td>\n      <td>... always the less expensive way to go for pr...</td>\n      <td>ByMG</td>\n      <td>https://www.barcodable.com/upc/841710106442,ht...</td>\n    </tr>\n    <tr>\n      <th>2</th>\n      <td>AVpgNzjwLJeJML43Kpxn</td>\n      <td>2015-10-30T08:59:32Z</td>\n      <td>2019-04-25T09:08:16Z</td>\n      <td>AmazonBasics AAA Performance Alkaline Batterie...</td>\n      <td>B00QWO9P0O,B00LH3DMUO</td>\n      <td>Amazonbasics</td>\n      <td>AA,AAA,Health,Electronics,Health &amp; Household,C...</td>\n      <td>Health &amp; Beauty</td>\n      <td>https://images-na.ssl-images-amazon.com/images...</td>\n      <td>amazonbasics/hl002619,amazonbasicsaaaperforman...</td>\n      <td>...</td>\n      <td>NaN</td>\n      <td>NaN</td>\n      <td>NaN</td>\n      <td>NaN</td>\n      <td>5</td>\n      <td>https://www.amazon.com/product-reviews/B00QWO9...</td>\n      <td>Well they are not Duracell but for the price i...</td>\n      <td>... are not Duracell but for the price i am ha...</td>\n      <td>BySharon Lambert</td>\n      <td>https://www.barcodable.com/upc/841710106442,ht...</td>\n    </tr>\n    <tr>\n      <th>3</th>\n      <td>AVpgNzjwLJeJML43Kpxn</td>\n      <td>2015-10-30T08:59:32Z</td>\n      <td>2019-04-25T09:08:16Z</td>\n      <td>AmazonBasics AAA Performance Alkaline Batterie...</td>\n      <td>B00QWO9P0O,B00LH3DMUO</td>\n      <td>Amazonbasics</td>\n      <td>AA,AAA,Health,Electronics,Health &amp; Household,C...</td>\n      <td>Health &amp; Beauty</td>\n      <td>https://images-na.ssl-images-amazon.com/images...</td>\n      <td>amazonbasics/hl002619,amazonbasicsaaaperforman...</td>\n      <td>...</td>\n      <td>NaN</td>\n      <td>NaN</td>\n      <td>NaN</td>\n      <td>NaN</td>\n      <td>5</td>\n      <td>https://www.amazon.com/product-reviews/B00QWO9...</td>\n      <td>Seem to work as well as name brand batteries a...</td>\n      <td>... as well as name brand batteries at a much ...</td>\n      <td>Bymark sexson</td>\n      <td>https://www.barcodable.com/upc/841710106442,ht...</td>\n    </tr>\n    <tr>\n      <th>4</th>\n      <td>AVpgNzjwLJeJML43Kpxn</td>\n      <td>2015-10-30T08:59:32Z</td>\n      <td>2019-04-25T09:08:16Z</td>\n      <td>AmazonBasics AAA Performance Alkaline Batterie...</td>\n      <td>B00QWO9P0O,B00LH3DMUO</td>\n      <td>Amazonbasics</td>\n      <td>AA,AAA,Health,Electronics,Health &amp; Household,C...</td>\n      <td>Health &amp; Beauty</td>\n      <td>https://images-na.ssl-images-amazon.com/images...</td>\n      <td>amazonbasics/hl002619,amazonbasicsaaaperforman...</td>\n      <td>...</td>\n      <td>NaN</td>\n      <td>NaN</td>\n      <td>NaN</td>\n      <td>NaN</td>\n      <td>5</td>\n      <td>https://www.amazon.com/product-reviews/B00QWO9...</td>\n      <td>These batteries are very long lasting the pric...</td>\n      <td>... batteries are very long lasting the price ...</td>\n      <td>Bylinda</td>\n      <td>https://www.barcodable.com/upc/841710106442,ht...</td>\n    </tr>\n  </tbody>\n</table>\n<p>5 rows × 24 columns</p>\n</div>"
     },
     "execution_count": 12,
     "metadata": {},
     "output_type": "execute_result"
    }
   ],
   "source": [
    "df.head()"
   ]
  },
  {
   "cell_type": "code",
   "execution_count": 18,
   "metadata": {
    "colab": {
     "base_uri": "https://localhost:8080/",
     "height": 85
    },
    "deletable": false,
    "id": "vbsvd0VvGEqx",
    "nbgrader": {
     "cell_type": "code",
     "checksum": "e986ee4afc96df48ac674f9b99732272",
     "grade": false,
     "grade_id": "cell-a170e7dda094d54e",
     "locked": false,
     "schema_version": 3,
     "solution": true,
     "task": false
    },
    "outputId": "ee9a8342-c843-449e-ac69-b52d6668bb05"
   },
   "outputs": [
    {
     "name": "stdout",
     "output_type": "stream",
     "text": [
      "3\n"
     ]
    }
   ],
   "source": [
    "# Get the count of how many times each unique brand occurs \n",
    "\n",
    "# YOUR CODE HERE\n",
    "count = df['brand'].nunique()\n",
    "print(count)"
   ]
  },
  {
   "cell_type": "markdown",
   "metadata": {
    "id": "YkhFYsNXGEq1"
   },
   "source": [
    "##### Keep Only Alphanumeric Characters\n",
    "Yes, we only want letters and numbers. Everything else is probably noise: punctuation, whitespace, and other notation. This one is little bit more complicated than our previous example. Here we will have to import the base package `re` (regular expressions). \n",
    "\n",
    "The only regex expression pattern you need for this is `'[^a-zA-Z 0-9]'` which keeps lower case letters, upper case letters, spaces, and numbers."
   ]
  },
  {
   "cell_type": "code",
   "execution_count": 14,
   "metadata": {
    "colab": {
     "base_uri": "https://localhost:8080/",
     "height": 37
    },
    "id": "YRY7kKSAGEq4",
    "outputId": "050ddca4-0c50-40bb-95be-c06c4e3d1055"
   },
   "outputs": [
    {
     "name": "stdout",
     "output_type": "stream",
     "text": [
      "Friends, Romans, countrymen, lend me your ears; 911\n"
     ]
    }
   ],
   "source": [
    "sample = sample +\" 911\"\n",
    "print(sample)"
   ]
  },
  {
   "cell_type": "code",
   "execution_count": 15,
   "metadata": {
    "colab": {
     "base_uri": "https://localhost:8080/",
     "height": 37
    },
    "id": "YRY7kKSAGEq4",
    "outputId": "050ddca4-0c50-40bb-95be-c06c4e3d1055"
   },
   "outputs": [
    {
     "data": {
      "text/plain": "'Friends Romans countrymen lend me your ears 911'"
     },
     "execution_count": 15,
     "metadata": {},
     "output_type": "execute_result"
    }
   ],
   "source": [
    "import re\n",
    "\n",
    "re.sub('[^a-zA-Z 0-9]', '', sample)"
   ]
  },
  {
   "cell_type": "markdown",
   "metadata": {
    "id": "obloLh7rGEq7"
   },
   "source": [
    "#### Two Minute Challenge \n",
    "- Complete the function `tokenize` below\n",
    "- Combine the methods which we discussed above to clean text before we analyze it\n",
    "- You can put the methods in any order you want"
   ]
  },
  {
   "cell_type": "code",
   "execution_count": 16,
   "metadata": {
    "deletable": false,
    "id": "0zgbOnoIGEq7",
    "nbgrader": {
     "cell_type": "code",
     "checksum": "0f09207520f5a3a425756889e9cf78aa",
     "grade": false,
     "grade_id": "cell-42630c1891924a1a",
     "locked": false,
     "schema_version": 3,
     "solution": true,
     "task": false
    }
   },
   "outputs": [],
   "source": [
    "def tokenize(text):\n",
    "    \"\"\"Parses a string into a list of semantic units (words)\n",
    "\n",
    "    Args:\n",
    "        text (str): The string that the function will tokenize.\n",
    "\n",
    "    Returns:\n",
    "        list: tokens parsed out by the mechanics of your choice\n",
    "    \"\"\"\n",
    "    \n",
    "    tokens = re.sub('[^a-zA-Z 0-9]', '', text)\n",
    "    tokens = tokens.lower().split()\n",
    "    return tokens"
   ]
  },
  {
   "cell_type": "code",
   "execution_count": 17,
   "metadata": {
    "colab": {
     "base_uri": "https://localhost:8080/",
     "height": 34
    },
    "id": "qWsYy-LqGEq9",
    "outputId": "22ff3fdc-2185-4224-b42e-42ccaeb9663e"
   },
   "outputs": [
    {
     "data": {
      "text/plain": "['friends', 'romans', 'countrymen', 'lend', 'me', 'your', 'ears', '911']"
     },
     "execution_count": 17,
     "metadata": {},
     "output_type": "execute_result"
    }
   ],
   "source": [
    "# this should be your output\n",
    "tokenize(sample)"
   ]
  },
  {
   "cell_type": "markdown",
   "metadata": {
    "id": "erSMd4diGEq_",
    "toc-hr-collapsed": true
   },
   "source": [
    "## Follow Along\n",
    "\n",
    "Our inability to analyze text data becomes quickly amplified in a business context. Consider the following: \n",
    "\n",
    "A business which sells widgets also collects customer reviews of those widgets. When the business first started out, they had a human read the reviews to look for patterns. Now, the business sells thousands of widgets a month. The human readers can't keep up with the pace of reviews to synthesize an accurate analysis. They need some science to help them analyze their data.\n",
    "\n",
    "Now, let's pretend that business is Amazon, and the widgets are Amazon products such as the Alexa, Echo, or other AmazonBasics products. Let's analyze their reviews with some counts. This dataset is available on [Kaggle](https://www.kaggle.com/datafiniti/consumer-reviews-of-amazon-products/)."
   ]
  },
  {
   "cell_type": "code",
   "execution_count": 19,
   "metadata": {
    "id": "8Ap1zL81GErA"
   },
   "outputs": [],
   "source": [
    "\"\"\"\n",
    "Import Statements\n",
    "\"\"\"\n",
    "\n",
    "# Base\n",
    "\n",
    "import re\n",
    "from collections import Counter\n",
    " \n",
    "import pandas as pd\n",
    "\n",
    "# Plotting\n",
    "import squarify\n",
    "import matplotlib.pyplot as plt\n",
    "import seaborn as sns\n",
    "\n",
    "# NLP Libraries\n",
    "import spacy\n",
    "from spacy.tokenizer import Tokenizer\n",
    "from nltk.stem import PorterStemmer\n",
    "\n",
    "nlp = spacy.load('en_core_web_lg')"
   ]
  },
  {
   "cell_type": "code",
   "execution_count": 28,
   "outputs": [
    {
     "data": {
      "text/plain": "good             0.002118\ngreat            0.001729\nGood             0.001482\nGreat            0.001341\nok               0.001165\nGreat price      0.001059\ngreat price      0.000988\nExcellent        0.000988\nGreat value      0.000953\ngood price       0.000812\ngreat value      0.000777\nGreat price!     0.000635\ngood value       0.000600\ngood deal        0.000565\nGreat value.     0.000565\nGreat deal       0.000529\nAs expected      0.000529\nGood deal        0.000529\nOK               0.000529\nGreat product    0.000529\nName: reviews.text, dtype: float64"
     },
     "execution_count": 28,
     "metadata": {},
     "output_type": "execute_result"
    }
   ],
   "source": [
    "df['reviews.text'].value_counts(normalize=True)[:20]"
   ],
   "metadata": {
    "collapsed": false,
    "pycharm": {
     "name": "#%%\n"
    }
   }
  },
  {
   "cell_type": "code",
   "execution_count": 27,
   "metadata": {
    "colab": {
     "base_uri": "https://localhost:8080/",
     "height": 267
    },
    "id": "ydhFysF-GErC",
    "outputId": "a6ba71f2-a186-441c-a00f-0bb9f0b6dc76"
   },
   "outputs": [
    {
     "data": {
      "text/plain": "Index(['id', 'dateAdded', 'dateUpdated', 'name', 'asins', 'brand',\n       'categories', 'primaryCategories', 'imageURLs', 'keys', 'manufacturer',\n       'manufacturerNumber', 'reviews.date', 'reviews.dateSeen',\n       'reviews.didPurchase', 'reviews.doRecommend', 'reviews.id',\n       'reviews.numHelpful', 'reviews.rating', 'reviews.sourceURLs',\n       'reviews.text', 'reviews.title', 'reviews.username', 'sourceURLs'],\n      dtype='object')"
     },
     "execution_count": 27,
     "metadata": {},
     "output_type": "execute_result"
    }
   ],
   "source": [
    "df.columns"
   ]
  },
  {
   "cell_type": "code",
   "execution_count": 31,
   "metadata": {
    "colab": {
     "base_uri": "https://localhost:8080/",
     "height": 884
    },
    "deletable": false,
    "id": "Lkl_l_3KGErH",
    "nbgrader": {
     "cell_type": "code",
     "checksum": "c9af223b0b92d4f38bf65a8a59b77553",
     "grade": false,
     "grade_id": "cell-afe39f461a4852ac",
     "locked": false,
     "schema_version": 3,
     "solution": true,
     "task": false
    },
    "outputId": "23b1f11e-5349-46d7-8823-e1a46a93747f"
   },
   "outputs": [
    {
     "data": {
      "text/plain": "0    [i, order, 3, of, them, and, one, of, the, ite...\n1    [bulk, is, always, the, less, expensive, way, ...\n2    [well, they, are, not, duracell, but, for, the...\n3    [seem, to, work, as, well, as, name, brand, ba...\n4    [these, batteries, are, very, long, lasting, t...\nName: tokens, dtype: object"
     },
     "execution_count": 31,
     "metadata": {},
     "output_type": "execute_result"
    }
   ],
   "source": [
    "# YOUR CODE HERE\n",
    "df['tokens'] = df['reviews.text'].apply(lambda x: tokenize(x))\n",
    "df['tokens'].head()"
   ]
  },
  {
   "cell_type": "markdown",
   "metadata": {
    "id": "8hOBAw2yGErU"
   },
   "source": [
    "#### Analyzing Tokens"
   ]
  },
  {
   "cell_type": "code",
   "execution_count": 34,
   "metadata": {
    "colab": {
     "base_uri": "https://localhost:8080/",
     "height": 187
    },
    "deletable": false,
    "id": "6jVvZAvJGErU",
    "nbgrader": {
     "cell_type": "code",
     "checksum": "4fcf360b68c204e6742580d513c4239e",
     "grade": false,
     "grade_id": "cell-1df54ac52c426166",
     "locked": false,
     "schema_version": 3,
     "solution": true,
     "task": false
    },
    "outputId": "79b4c6c6-5dda-4903-e472-94b4530cd049"
   },
   "outputs": [
    {
     "data": {
      "text/plain": "[('the', 28836),\n ('and', 22302),\n ('i', 20588),\n ('to', 19537),\n ('for', 17918),\n ('a', 17599),\n ('it', 16793),\n ('is', 11482),\n ('my', 11149),\n ('this', 10420),\n ('great', 9362),\n ('of', 8408),\n ('batteries', 8044),\n ('as', 7656),\n ('tablet', 6580),\n ('with', 6044),\n ('in', 5892),\n ('good', 5845),\n ('that', 5654),\n ('have', 5635),\n ('on', 5620),\n ('they', 5503),\n ('price', 5138),\n ('but', 4856),\n ('so', 4680),\n ('are', 4586),\n ('these', 4578),\n ('use', 4416),\n ('you', 4398),\n ('not', 4353),\n ('was', 4182),\n ('very', 3770),\n ('amazon', 3705),\n ('love', 3520),\n ('bought', 3174),\n ('them', 3149),\n ('its', 3002),\n ('can', 2980),\n ('easy', 2903),\n ('kindle', 2839),\n ('just', 2795),\n ('one', 2781),\n ('all', 2653),\n ('be', 2588),\n ('kids', 2544),\n ('at', 2538),\n ('she', 2483),\n ('like', 2481),\n ('long', 2463),\n ('well', 2437),\n ('has', 2422),\n ('work', 2342),\n ('last', 2322),\n ('buy', 2261),\n ('loves', 2213),\n ('we', 2189),\n ('fire', 2174),\n ('than', 2167),\n ('more', 2134),\n ('an', 2115),\n ('or', 2102),\n ('had', 2095),\n ('old', 2079),\n ('time', 2059),\n ('would', 2058),\n ('battery', 2054),\n ('product', 2045),\n ('will', 1941),\n ('up', 1868),\n ('if', 1853),\n ('from', 1837),\n ('get', 1822),\n ('other', 1808),\n ('apps', 1747),\n ('year', 1715),\n ('when', 1700),\n ('no', 1662),\n ('games', 1659),\n ('much', 1617),\n ('he', 1600),\n ('do', 1581),\n ('only', 1539),\n ('screen', 1527),\n ('works', 1510),\n ('her', 1498),\n ('dont', 1495),\n ('what', 1476),\n ('better', 1429),\n ('really', 1414),\n ('out', 1403),\n ('books', 1382),\n ('best', 1371),\n ('me', 1368),\n ('purchased', 1357),\n ('quality', 1354),\n ('any', 1310),\n ('brand', 1285),\n ('also', 1273),\n ('got', 1251),\n ('far', 1230),\n ('about', 1228),\n ('nice', 1200),\n ('play', 1169),\n ('reading', 1150),\n ('name', 1148),\n ('read', 1148),\n ('used', 1146),\n ('perfect', 1116),\n ('value', 1116),\n ('recommend', 1106),\n ('been', 1080),\n ('am', 1057),\n ('gift', 1046),\n ('im', 1038),\n ('some', 1028),\n ('device', 1011),\n ('cant', 1008),\n ('how', 995),\n ('there', 981),\n ('little', 981),\n ('life', 980),\n ('store', 979),\n ('because', 974),\n ('new', 972),\n ('now', 964),\n ('size', 958),\n ('purchase', 947),\n ('2', 947),\n ('lot', 936),\n ('your', 932),\n ('son', 932),\n ('need', 927),\n ('our', 919),\n ('daughter', 912),\n ('too', 903),\n ('brands', 901),\n ('seem', 900),\n ('using', 900),\n ('christmas', 898),\n ('does', 894),\n ('were', 893),\n ('which', 887),\n ('deal', 884),\n ('go', 880),\n ('again', 865),\n ('happy', 820),\n ('set', 807),\n ('case', 803),\n ('ive', 792),\n ('many', 787),\n ('even', 755),\n ('ipad', 754),\n ('still', 749),\n ('money', 736),\n ('first', 733),\n ('excellent', 733),\n ('their', 733),\n ('tablets', 715),\n ('light', 703),\n ('after', 703),\n ('fast', 673),\n ('two', 666),\n ('his', 666),\n ('8', 665),\n ('everything', 663),\n ('3', 646),\n ('4', 641),\n ('could', 635),\n ('way', 625),\n ('duracell', 611),\n ('free', 610),\n ('movies', 605),\n ('same', 593),\n ('by', 583),\n ('while', 574),\n ('cheap', 571),\n ('able', 571),\n ('want', 566),\n ('awesome', 558),\n ('put', 555),\n ('over', 555),\n ('then', 552),\n ('fine', 551),\n ('charge', 548),\n ('always', 547),\n ('did', 547),\n ('since', 543),\n ('every', 540),\n ('pretty', 539),\n ('who', 534),\n ('things', 533),\n ('years', 533),\n ('features', 528),\n ('through', 525),\n ('wanted', 523),\n ('few', 522),\n ('buying', 521),\n ('never', 521),\n ('enough', 520),\n ('say', 516),\n ('without', 515),\n ('big', 511),\n ('watch', 510),\n ('having', 504),\n ('app', 504),\n ('hd', 499),\n ('5', 498),\n ('right', 494),\n ('didnt', 492),\n ('music', 491),\n ('definitely', 487),\n ('most', 485),\n ('box', 484),\n ('small', 483),\n ('grandson', 482),\n ('needed', 481),\n ('expensive', 480),\n ('internet', 480),\n ('around', 478),\n ('less', 474),\n ('worth', 473),\n ('download', 472),\n ('back', 471),\n ('prime', 471),\n ('aa', 470),\n ('beat', 466),\n ('seems', 464),\n ('longer', 461),\n ('google', 458),\n ('day', 454),\n ('keep', 452),\n ('take', 451),\n ('cheaper', 446),\n ('before', 446),\n ('see', 445),\n ('think', 444),\n ('7', 442),\n ('thing', 442),\n ('learning', 438),\n ('find', 437),\n ('know', 435),\n ('kid', 434),\n ('looking', 433),\n ('make', 430),\n ('him', 426),\n ('child', 423),\n ('cost', 422),\n ('another', 417),\n ('going', 417),\n ('down', 417),\n ('something', 416),\n ('sure', 414),\n ('doesnt', 414),\n ('access', 414),\n ('getting', 412),\n ('videos', 412),\n ('granddaughter', 411),\n ('parental', 406),\n ('wife', 405),\n ('item', 403),\n ('off', 401),\n ('sound', 400),\n ('loved', 398),\n ('ones', 397),\n ('toys', 395),\n ('being', 392),\n ('performance', 391),\n ('makes', 391),\n ('children', 389),\n ('needs', 385),\n ('expected', 382),\n ('into', 381),\n ('uses', 381),\n ('camera', 380),\n ('come', 373),\n ('working', 372),\n ('made', 370),\n ('issues', 370),\n ('times', 369),\n ('found', 369),\n ('worked', 367),\n ('several', 366),\n ('reader', 366),\n ('storage', 365),\n ('havent', 364),\n ('amazing', 364),\n ('lots', 364),\n ('ever', 364),\n ('friendly', 363),\n ('power', 362),\n ('playing', 362),\n ('controls', 361),\n ('low', 357),\n ('aaa', 356),\n ('enjoy', 355),\n ('highly', 354),\n ('replace', 350),\n ('durable', 350),\n ('hold', 348),\n ('hours', 348),\n ('months', 347),\n ('products', 344),\n ('etc', 343),\n ('alexa', 342),\n ('overall', 342),\n ('came', 341),\n ('available', 337),\n ('theyre', 336),\n ('comes', 335),\n ('both', 334),\n ('lasting', 332),\n ('pack', 332),\n ('basic', 331),\n ('different', 331),\n ('yet', 328),\n ('quickly', 328),\n ('devices', 328),\n ('book', 325),\n ('energizer', 324),\n ('ok', 324),\n ('problem', 323),\n ('own', 323),\n ('user', 321),\n ('days', 320),\n ('remote', 319),\n ('order', 318),\n ('already', 317),\n ('amazonbasics', 315),\n ('home', 314),\n ('bit', 308),\n ('though', 308),\n ('memory', 308),\n ('however', 307),\n ('phone', 306),\n ('easier', 305),\n ('lasted', 305),\n ('wont', 303),\n ('wifi', 303),\n ('basics', 302),\n ('thought', 302),\n ('pay', 301),\n ('version', 300),\n ('anything', 300),\n ('run', 298),\n ('tap', 296),\n ('should', 294),\n ('pleased', 293),\n ('such', 293),\n ('warranty', 291),\n ('older', 291),\n ('problems', 289),\n ('card', 287),\n ('give', 283),\n ('decent', 282),\n ('web', 282),\n ('6', 280),\n ('each', 280),\n ('fun', 278),\n ('android', 278),\n ('bad', 277),\n ('especially', 277),\n ('black', 277),\n ('absolutely', 276),\n ('echo', 276),\n ('wish', 275),\n ('watching', 274),\n ('thats', 273),\n ('plus', 272),\n ('house', 271),\n ('simple', 270),\n ('difference', 269),\n ('compared', 269),\n ('control', 268),\n ('hard', 266),\n ('second', 266),\n ('clear', 265),\n ('tried', 264),\n ('tv', 263),\n ('high', 261),\n ('easily', 261),\n ('top', 260),\n ('netflix', 259),\n ('look', 258),\n ('decided', 256),\n ('navigate', 256),\n ('hand', 255),\n ('super', 254),\n ('mom', 254),\n ('family', 253),\n ('keeps', 253),\n ('packaging', 251),\n ('slow', 251),\n ('amount', 250),\n ('10', 250),\n ('sale', 250),\n ('quite', 249),\n ('job', 248),\n ('speaker', 248),\n ('almost', 247),\n ('color', 247),\n ('reviews', 245),\n ('those', 243),\n ('faster', 242),\n ('items', 241),\n ('charging', 240),\n ('educational', 239),\n ('others', 236),\n ('affordable', 235),\n ('1', 235),\n ('remotes', 233),\n ('cover', 233),\n ('why', 232),\n ('inexpensive', 230),\n ('online', 229),\n ('age', 229),\n ('ill', 228),\n ('went', 228),\n ('anyone', 228),\n ('voyage', 228),\n ('account', 227),\n ('tell', 227),\n ('content', 227),\n ('yr', 227),\n ('may', 226),\n ('alkaline', 225),\n ('picture', 224),\n ('thanks', 222),\n ('turn', 222),\n ('week', 221),\n ('extra', 221),\n ('video', 221),\n ('laptop', 221),\n ('display', 219),\n ('else', 218),\n ('game', 216),\n ('weeks', 215),\n ('once', 215),\n ('portable', 215),\n ('shows', 215),\n ('feel', 214),\n ('said', 214),\n ('where', 213),\n ('month', 212),\n ('glad', 212),\n ('myself', 212),\n ('disappointed', 211),\n ('try', 210),\n ('here', 209),\n ('favorite', 209),\n ('upgrade', 209),\n ('actually', 208),\n ('stuff', 208),\n ('fact', 208),\n ('model', 208),\n ('friday', 207),\n ('birthday', 206),\n ('change', 205),\n ('wrong', 205),\n ('page', 205),\n ('point', 204),\n ('replacement', 203),\n ('isnt', 203),\n ('ereader', 203),\n ('gave', 202),\n ('took', 201),\n ('couple', 200),\n ('kindles', 200),\n ('previous', 199),\n ('takes', 199),\n ('email', 199),\n ('carry', 199),\n ('us', 198),\n ('nothing', 197),\n ('lasts', 195),\n ('half', 193),\n ('done', 193),\n ('computer', 193),\n ('cannot', 191),\n ('ordered', 190),\n ('three', 190),\n ('satisfied', 189),\n ('add', 189),\n ('instead', 188),\n ('help', 188),\n ('experience', 186),\n ('weight', 186),\n ('feature', 186),\n ('probably', 185),\n ('package', 184),\n ('bigger', 184),\n ('larger', 184),\n ('likes', 184),\n ('couldnt', 183),\n ('complaints', 183),\n ('between', 182),\n ('replaced', 182),\n ('resolution', 182),\n ('paperwhite', 182),\n ('exactly', 181),\n ('full', 181),\n ('space', 181),\n ('dead', 180),\n ('charger', 180),\n ('issue', 178),\n ('grandkids', 178),\n ('reason', 177),\n ('ease', 177),\n ('arrived', 176),\n ('wireless', 176),\n ('mouse', 176),\n ('lights', 176),\n ('wonderful', 176),\n ('convenient', 175),\n ('downloaded', 175),\n ('xbox', 174),\n ('learn', 174),\n ('quick', 173),\n ('plenty', 173),\n ('regular', 173),\n ('youre', 172),\n ('perfectly', 172),\n ('next', 172),\n ('gets', 171),\n ('young', 171),\n ('purchasing', 170),\n ('service', 169),\n ('stars', 169),\n ('travel', 169),\n ('sd', 169),\n ('apple', 168),\n ('thank', 167),\n ('option', 167),\n ('plays', 167),\n ('school', 167),\n ('youtube', 167),\n ('save', 166),\n ('large', 165),\n ('keyboard', 165),\n ('smaller', 165),\n ('ago', 164),\n ('expect', 164),\n ('touch', 163),\n ('side', 163),\n ('husband', 163),\n ('wouldnt', 163),\n ('niece', 163),\n ('maybe', 162),\n ('night', 162),\n ('enjoys', 162),\n ('present', 161),\n ('library', 161),\n ('bulk', 160),\n ('original', 160),\n ('described', 159),\n ('anywhere', 158),\n ('id', 158),\n ('spend', 158),\n ('button', 158),\n ('liked', 157),\n ('packaged', 157),\n ('sometimes', 157),\n ('speed', 156),\n ('unit', 155),\n ('lightweight', 155),\n ('amazons', 154),\n ('open', 154),\n ('ability', 154),\n ('received', 154),\n ('grand', 153),\n ('extremely', 153),\n ('load', 153),\n ('options', 153),\n ('started', 152),\n ('advertised', 152),\n ('allows', 152),\n ('dropped', 152),\n ('ads', 151),\n ('often', 150),\n ('fantastic', 150),\n ('during', 150),\n ('nephew', 150),\n ('check', 149),\n ('four', 149),\n ('under', 148),\n ('review', 148),\n ('must', 148),\n ('mother', 148),\n ('away', 146),\n ('short', 146),\n ('9', 146),\n ('choice', 146),\n ('controllers', 145),\n ('fit', 145),\n ('fits', 145),\n ('mostly', 145),\n ('enjoying', 145),\n ('shipping', 144),\n ('trying', 144),\n ('samsung', 144),\n ('hd8', 144),\n ('worry', 143),\n ('pictures', 143),\n ('either', 143),\n ('end', 142),\n ('impressed', 142),\n ('system', 142),\n ('electronics', 141),\n ('bluetooth', 141),\n ('wasnt', 140),\n ('setup', 140),\n ('might', 139),\n ('real', 139),\n ('priced', 139),\n ('limited', 139),\n ('hands', 139),\n ('oasis', 139),\n ('reasonable', 138),\n ('least', 138),\n ('12', 137),\n ('surprised', 136),\n ('break', 135),\n ('charged', 134),\n ('browsing', 134),\n ('100', 133),\n ('daily', 133),\n ('recommended', 133),\n ('people', 133),\n ('ebooks', 133),\n ('believe', 132),\n ('until', 132),\n ('toddler', 131),\n ('edition', 131),\n ('wants', 131),\n ('doing', 130),\n ('member', 130),\n ('surfing', 130),\n ('start', 129),\n ('mine', 129),\n ('taking', 129),\n ('eyes', 129),\n ('buttons', 129),\n ('strong', 128),\n ('update', 128),\n ('someone', 128),\n ('running', 126),\n ('major', 126),\n ('flashlights', 125),\n ('facebook', 125),\n ('plastic', 124),\n ('car', 124),\n ('return', 124),\n ('hes', 124),\n ('protective', 124),\n ('everyday', 123),\n ('inch', 123),\n ('returned', 122),\n ('enjoyed', 122),\n ('handy', 121),\n ('appropriate', 121),\n ('usually', 120),\n ('within', 120),\n ('parents', 120),\n ('rechargeable', 119),\n ('future', 119),\n ('listen', 119),\n ('huge', 119),\n ('past', 118),\n ('friend', 118),\n ('installed', 118),\n ('making', 118),\n ('broke', 118),\n ('paid', 117),\n ('minutes', 117),\n ('bright', 116),\n ('yes', 116),\n ('let', 116),\n ('die', 116),\n ('looks', 116),\n ('generation', 115),\n ('tool', 115),\n ('noticed', 114),\n ('entertained', 114),\n ('mainly', 113),\n ('reliable', 113),\n ('safe', 113),\n ('tech', 113),\n ('continue', 112),\n ('line', 112),\n ('third', 111),\n ('ask', 111),\n ('speakers', 111),\n ('although', 110),\n ('place', 110),\n ('goes', 110),\n ('per', 109),\n ('market', 109),\n ('mini', 109),\n ('candles', 108),\n ('comparable', 108),\n ('room', 108),\n ('fraction', 108),\n ('show', 108),\n ('due', 108),\n ('added', 108),\n ('settings', 108),\n ('led', 107),\n ('tested', 107),\n ('test', 107),\n ('useful', 107),\n ('finally', 107),\n ('sturdy', 107),\n ('gb', 107),\n ('usage', 106),\n ('part', 106),\n ('rather', 106),\n ('solid', 106),\n ('wait', 106),\n ('mode', 106),\n ('adults', 106),\n ('along', 105),\n ('figure', 105),\n ('limit', 105),\n ('downloading', 105),\n ('higher', 104),\n ('perform', 104),\n ('holds', 104),\n ('nook', 104),\n ('included', 103),\n ('install', 103),\n ('shes', 103),\n ('stock', 102),\n ('entertainment', 102),\n ('colors', 102),\n ('table', 101),\n ('normal', 101),\n ('purpose', 101),\n ('operate', 101),\n ('tab', 101),\n ('dollar', 100),\n ('bargain', 100),\n ('white', 100),\n ('duracells', 100),\n ('shopping', 100),\n ('sons', 99),\n ('kind', 99),\n ('friends', 99),\n ('multiple', 99),\n ('soon', 99),\n ('person', 99),\n ('photos', 99),\n ('choose', 99),\n ('fully', 98),\n ('everyone', 98),\n ('left', 98),\n ('compact', 98),\n ('customer', 98),\n ('close', 98),\n ('media', 98),\n ('compare', 97),\n ('packs', 97),\n ('theres', 97),\n ('built', 97),\n ('trips', 97),\n ('limits', 97),\n ('gifts', 96),\n ('runs', 96),\n ('design', 96),\n ('connect', 96),\n ('adult', 96),\n ('port', 96),\n ('os', 96),\n ('setting', 95),\n ('ordering', 94),\n ('arent', 94),\n ('tons', 94),\n ('lower', 94),\n ('helpful', 94),\n ('plug', 94),\n ('controller', 93),\n ('complaint', 93),\n ('fan', 93),\n ('understand', 93),\n ('everywhere', 93),\n ('connection', 93),\n ('streaming', 93),\n ('upgraded', 93),\n ('toy', 92),\n ('gaming', 92),\n ('died', 92),\n ('drops', 92),\n ('emails', 92),\n ('delivery', 91),\n ('20', 91),\n ('alternative', 91),\n ('cool', 91),\n ('difficult', 91),\n ('kept', 91),\n ('offers', 91),\n ('traveling', 91),\n ('blue', 91),\n ('48', 90),\n ('plan', 90),\n ('profile', 90),\n ('graphics', 90),\n ('local', 90),\n ('voice', 90),\n ('owned', 90),\n ('sister', 90),\n ('subscription', 89),\n ('simply', 89),\n ('prices', 89),\n ('trip', 89),\n ('outside', 89),\n ('protection', 89),\n ('comfortable', 89),\n ('handle', 89),\n ('shelf', 88),\n ('holding', 88),\n ('heavy', 88),\n ('allow', 88),\n ('annoying', 88),\n ('ages', 88),\n ('waste', 87),\n ('opened', 87),\n ('alot', 86),\n ('gives', 86),\n ('50', 85),\n ('costco', 85),\n ('special', 85),\n ('daughters', 85),\n ('listening', 85),\n ('purse', 85),\n ('cardboard', 84),\n ('turned', 84),\n ('30', 84),\n ('stores', 83),\n ('drain', 83),\n ('star', 83),\n ('level', 83),\n ('front', 83),\n ('lighter', 83),\n ('freetime', 83),\n ('appear', 82),\n ('hit', 82),\n ('whole', 82),\n ('looked', 81),\n ('constantly', 81),\n ('parent', 81),\n ('questions', 81),\n ('functions', 81),\n ('viewing', 81),\n ('purchases', 80),\n ('weve', 80),\n ('quantity', 80),\n ('pages', 80),\n ('previously', 80),\n ('cable', 80),\n ('delivered', 80),\n ('recently', 80),\n ('paper', 80),\n ('opinion', 79),\n ('16', 79),\n ('ton', 79),\n ('expectations', 79),\n ('similar', 79),\n ('brought', 79),\n ('stream', 79),\n ('otherwise', 79),\n ('ipads', 79),\n ('standard', 78),\n ('15', 78),\n ('sizes', 78),\n ('addition', 78),\n ('later', 78),\n ('idea', 78),\n ('technology', 78),\n ('surf', 78),\n ('capacity', 77),\n ('hour', 77),\n ('nearly', 77),\n ('nicely', 77),\n ('normally', 77),\n ('dad', 77),\n ('guess', 77),\n ('giving', 77),\n ('dollars', 77),\n ('helps', 77),\n ('lock', 77),\n ('thinking', 77),\n ('switch', 76),\n ('based', 76),\n ('twice', 76),\n ('seen', 76),\n ('busy', 76),\n ('drop', 76),\n ('users', 76),\n ('programs', 76),\n ('cameras', 75),\n ('hope', 75),\n ('leak', 75),\n ('stand', 75),\n ('unlimited', 75),\n ('movie', 75),\n ('held', 74),\n ('wrapped', 74),\n ('five', 74),\n ('budget', 74),\n ('number', 74),\n ('told', 74),\n ('bumper', 74),\n ('date', 73),\n ('primarily', 73),\n ('require', 73),\n ('powerful', 73),\n ('mind', 73),\n ('excited', 73),\n ('ready', 73),\n ('itself', 73),\n ('worst', 73),\n ('picked', 73),\n ('crazy', 72),\n ('additional', 72),\n ('applications', 72),\n ('stick', 72),\n ('loaded', 72),\n ('feels', 72),\n ('okay', 71),\n ('lol', 71),\n ('inside', 71),\n ('prefer', 71),\n ('given', 71),\n ('unless', 71),\n ('main', 71),\n ('2nd', 71),\n ('audio', 71),\n ('none', 70),\n ('electronic', 70),\n ('turning', 70),\n ('sharp', 70),\n ('micro', 70),\n ('models', 70),\n ('terrible', 69),\n ('subscribe', 69),\n ('youll', 69),\n ('ended', 69),\n ('office', 69),\n ('responsive', 69),\n ('expandable', 69),\n ('seemed', 68),\n ('digital', 68),\n ('batch', 68),\n ('poor', 68),\n ('knew', 68),\n ('certain', 68),\n ('stopped', 68),\n ('says', 68),\n ('saw', 68),\n ('loving', 68),\n ('aas', 67),\n ('search', 67),\n ('supposed', 67),\n ('figured', 67),\n ('leaked', 67),\n ('various', 67),\n ('news', 67),\n ('road', 67),\n ('functionality', 67),\n ('grandchildren', 67),\n ('software', 67),\n ('interface', 67),\n ('text', 67),\n ('except', 66),\n ('rayovac', 66),\n ('course', 66),\n ('operated', 66),\n ('complain', 66),\n ('stop', 66),\n ('weather', 66),\n ('totally', 66),\n ('designed', 66),\n ('average', 65),\n ('spent', 65),\n ('pick', 65),\n ('world', 65),\n ('keeping', 65),\n ('function', 65),\n ('clarity', 65),\n ('cell', 64),\n ('considering', 64),\n ('gotten', 64),\n ('powered', 64),\n ('move', 64),\n ('smart', 64),\n ('completely', 64),\n ('learned', 64),\n ('reads', 64),\n ('beginner', 64),\n ('view', 64),\n ('3rd', 63),\n ('charges', 63),\n ...]"
     },
     "execution_count": 34,
     "metadata": {},
     "output_type": "execute_result"
    }
   ],
   "source": [
    "# Object from Base Python\n",
    "from collections import Counter\n",
    "\n",
    "# YOUR CODE HERE\n",
    "#raise NotImplementedError()\n",
    "word_counts = Counter()\n",
    "df['tokens'].apply(lambda x: word_counts.update(x))\n",
    "\n",
    "word_counts.most_common()"
   ]
  },
  {
   "cell_type": "markdown",
   "metadata": {
    "id": "TiVHbw6xGErW"
   },
   "source": [
    "Let's create a fuction which takes a corpus of document and returns and dataframe of word counts for us to analyze."
   ]
  },
  {
   "cell_type": "code",
   "execution_count": 35,
   "metadata": {
    "id": "ypyH-_x1GErX"
   },
   "outputs": [],
   "source": [
    "def count(tokens):\n",
    "    \"\"\"\n",
    "    Calculates some basic statistics about tokens in our corpus (i.e. corpus means collections text data)\n",
    "    \"\"\"\n",
    "    # stores the count of each token\n",
    "    word_counts = Counter()\n",
    "    \n",
    "    # stores the number of docs that each token appears in \n",
    "    appears_in = Counter()\n",
    "\n",
    "    total_docs = len(tokens)\n",
    "\n",
    "    for token in tokens:\n",
    "        # stores count of every appearance of a token \n",
    "        word_counts.update(token)\n",
    "        # use set() in order to not count duplicates, thereby count the num of docs that each token appears in\n",
    "        appears_in.update(set(token))\n",
    "\n",
    "    # build word count dataframe\n",
    "    temp = zip(word_counts.keys(), word_counts.values())\n",
    "    wc = pd.DataFrame(temp, columns = ['word', 'count'])\n",
    "\n",
    "    # rank the the word counts\n",
    "    wc['rank'] = wc['count'].rank(method='first', ascending=False)\n",
    "    total = wc['count'].sum()\n",
    "\n",
    "    # calculate the percent total of each token\n",
    "    wc['pct_total'] = wc['count'].apply(lambda token_count: token_count / total)\n",
    "\n",
    "    # calculate the cumulative percent total of word counts \n",
    "    wc = wc.sort_values(by='rank')\n",
    "    wc['cul_pct_total'] = wc['pct_total'].cumsum()\n",
    "\n",
    "    # create dataframe for document stats\n",
    "    t2 = zip(appears_in.keys(), appears_in.values())\n",
    "    ac = pd.DataFrame(t2, columns=['word', 'appears_in'])\n",
    "    \n",
    "    # merge word count stats with doc stats\n",
    "    wc = ac.merge(wc, on='word')\n",
    "\n",
    "    wc['appears_in_pct'] = wc['appears_in'].apply(lambda x: x / total_docs)\n",
    "\n",
    "    return wc.sort_values(by='rank')"
   ]
  },
  {
   "cell_type": "code",
   "execution_count": 36,
   "metadata": {
    "id": "GqqwygrUGErZ"
   },
   "outputs": [],
   "source": [
    "# Use the Function\n",
    "wc  = count(df['tokens'])"
   ]
  },
  {
   "cell_type": "code",
   "execution_count": 37,
   "metadata": {
    "colab": {
     "base_uri": "https://localhost:8080/",
     "height": 204
    },
    "id": "_0EkCpReGEra",
    "outputId": "9a6a6a11-b9ea-49ab-f07e-d8bdadd781c1"
   },
   "outputs": [
    {
     "data": {
      "text/plain": "   word  appears_in  count  rank  pct_total  cul_pct_total  appears_in_pct\n2   the       13185  28836   1.0   0.039350       0.039350        0.465375\n4   and       13731  22302   2.0   0.030434       0.069784        0.484646\n10    i       10301  20588   3.0   0.028095       0.097879        0.363582\n0    to       11312  19537   4.0   0.026661       0.124539        0.399266\n29  for       12101  17918   5.0   0.024451       0.148990        0.427114",
      "text/html": "<div>\n<style scoped>\n    .dataframe tbody tr th:only-of-type {\n        vertical-align: middle;\n    }\n\n    .dataframe tbody tr th {\n        vertical-align: top;\n    }\n\n    .dataframe thead th {\n        text-align: right;\n    }\n</style>\n<table border=\"1\" class=\"dataframe\">\n  <thead>\n    <tr style=\"text-align: right;\">\n      <th></th>\n      <th>word</th>\n      <th>appears_in</th>\n      <th>count</th>\n      <th>rank</th>\n      <th>pct_total</th>\n      <th>cul_pct_total</th>\n      <th>appears_in_pct</th>\n    </tr>\n  </thead>\n  <tbody>\n    <tr>\n      <th>2</th>\n      <td>the</td>\n      <td>13185</td>\n      <td>28836</td>\n      <td>1.0</td>\n      <td>0.039350</td>\n      <td>0.039350</td>\n      <td>0.465375</td>\n    </tr>\n    <tr>\n      <th>4</th>\n      <td>and</td>\n      <td>13731</td>\n      <td>22302</td>\n      <td>2.0</td>\n      <td>0.030434</td>\n      <td>0.069784</td>\n      <td>0.484646</td>\n    </tr>\n    <tr>\n      <th>10</th>\n      <td>i</td>\n      <td>10301</td>\n      <td>20588</td>\n      <td>3.0</td>\n      <td>0.028095</td>\n      <td>0.097879</td>\n      <td>0.363582</td>\n    </tr>\n    <tr>\n      <th>0</th>\n      <td>to</td>\n      <td>11312</td>\n      <td>19537</td>\n      <td>4.0</td>\n      <td>0.026661</td>\n      <td>0.124539</td>\n      <td>0.399266</td>\n    </tr>\n    <tr>\n      <th>29</th>\n      <td>for</td>\n      <td>12101</td>\n      <td>17918</td>\n      <td>5.0</td>\n      <td>0.024451</td>\n      <td>0.148990</td>\n      <td>0.427114</td>\n    </tr>\n  </tbody>\n</table>\n</div>"
     },
     "execution_count": 37,
     "metadata": {},
     "output_type": "execute_result"
    }
   ],
   "source": [
    "wc.head()"
   ]
  },
  {
   "cell_type": "code",
   "execution_count": 38,
   "metadata": {
    "colab": {
     "base_uri": "https://localhost:8080/",
     "height": 279
    },
    "id": "u9kI5BjnGErc",
    "outputId": "8622477c-d7c7-4d6c-c58e-994ae23b65ee"
   },
   "outputs": [
    {
     "data": {
      "text/plain": "<Figure size 432x288 with 1 Axes>",
      "image/png": "[encoded data removed]"
     },
     "metadata": {
      "needs_background": "light"
     },
     "output_type": "display_data"
    }
   ],
   "source": [
    "import seaborn as sns\n",
    "\n",
    "# Cumulative Distribution Plot\n",
    "sns.lineplot(x='rank', y='cul_pct_total', data=wc);"
   ]
  },
  {
   "cell_type": "code",
   "execution_count": 39,
   "metadata": {
    "colab": {
     "base_uri": "https://localhost:8080/",
     "height": 34
    },
    "id": "GKpixh5DGEre",
    "outputId": "0611cd25-46ce-4e16-edd3-d1ae2ca09e92"
   },
   "outputs": [
    {
     "data": {
      "text/plain": "0.6012123263182888"
     },
     "execution_count": 39,
     "metadata": {},
     "output_type": "execute_result"
    }
   ],
   "source": [
    "wc[wc['rank'] <= 100]['cul_pct_total'].max()"
   ]
  },
  {
   "cell_type": "code",
   "execution_count": 40,
   "metadata": {
    "colab": {
     "base_uri": "https://localhost:8080/",
     "height": 248
    },
    "id": "-yuCq8nuGErg",
    "outputId": "a4d60c06-06a5-47cc-84ad-cd1faa8d30de"
   },
   "outputs": [
    {
     "data": {
      "text/plain": "<Figure size 432x288 with 1 Axes>",
      "image/png": "[encoded data removed]"
     },
     "metadata": {
      "needs_background": "light"
     },
     "output_type": "display_data"
    }
   ],
   "source": [
    "import squarify\n",
    "import matplotlib.pyplot as plt\n",
    "\n",
    "wc_top20 = wc[wc['rank'] <= 20]\n",
    "\n",
    "squarify.plot(sizes=wc_top20['pct_total'], label=wc_top20['word'], alpha=.8 )\n",
    "plt.axis('off')\n",
    "plt.show()"
   ]
  },
  {
   "cell_type": "markdown",
   "metadata": {
    "id": "XIXSsYI_GEri"
   },
   "source": [
    "### Processing Raw Text with Spacy\n",
    "\n",
    "Spacy's datamodel for documents is unique among NLP libraries. Instead of storing the documents components in various data structures, Spacy indexes components and simply stores the lookup information. \n",
    "\n",
    "This is often why Spacy is considered to be more production grade than library like NLTK."
   ]
  },
  {
   "cell_type": "code",
   "execution_count": 41,
   "metadata": {
    "id": "Y0l_8Q_-GEri"
   },
   "outputs": [],
   "source": [
    "import spacy\n",
    "\n",
    "nlp = spacy.load('en_core_web_lg')"
   ]
  },
  {
   "cell_type": "code",
   "execution_count": 42,
   "metadata": {
    "id": "4qlRt5SIGErk"
   },
   "outputs": [],
   "source": [
    "sample = \"\"\"\n",
    "Natural Language Processing Summary\n",
    "The field of study that focuses on the interactions between human language and computers is called Natural Language Processing, or NLP for short. It sits at the intersection of computer science, artificial intelligence, and computational linguistics (Wikipedia).\n",
    "\n",
    "“Nat­ur­al Lan­guage Pro­cessing is a field that cov­ers com­puter un­der­stand­ing and ma­nip­u­la­tion of hu­man lan­guage, and it’s ripe with pos­sib­il­it­ies for news­gath­er­ing,” Anthony Pesce said in Natural Language Processing in the kitchen. “You usu­ally hear about it in the con­text of ana­lyz­ing large pools of legis­la­tion or other doc­u­ment sets, at­tempt­ing to dis­cov­er pat­terns or root out cor­rup­tion.”\n",
    "\"\"\""
   ]
  },
  {
   "cell_type": "code",
   "execution_count": 43,
   "metadata": {
    "id": "FjA1TF9vGErl"
   },
   "outputs": [],
   "source": [
    "doc = nlp(sample)"
   ]
  },
  {
   "cell_type": "code",
   "execution_count": 46,
   "metadata": {
    "deletable": false,
    "id": "ZBa99HsYGErn",
    "nbgrader": {
     "cell_type": "code",
     "checksum": "81b7eb7803a81637e2acde6779d1452a",
     "grade": false,
     "grade_id": "cell-fc63dad59954bbff",
     "locked": false,
     "schema_version": 3,
     "solution": true,
     "task": false
    }
   },
   "outputs": [
    {
     "ename": "KeyboardInterrupt",
     "evalue": "",
     "output_type": "error",
     "traceback": [
      "\u001B[0;31m---------------------------------------------------------------------------\u001B[0m",
      "\u001B[0;31mKeyboardInterrupt\u001B[0m                         Traceback (most recent call last)",
      "\u001B[0;32m/var/folders/mg/_r0tzxlj51xd5dqszvs8fvth0000gn/T/ipykernel_2954/2749569649.py\u001B[0m in \u001B[0;36m<module>\u001B[0;34m\u001B[0m\n\u001B[1;32m      3\u001B[0m \u001B[0;31m# YOUR CODE HERE\u001B[0m\u001B[0;34m\u001B[0m\u001B[0;34m\u001B[0m\u001B[0m\n\u001B[1;32m      4\u001B[0m \u001B[0mspacy_tokens\u001B[0m \u001B[0;34m=\u001B[0m \u001B[0;34m[\u001B[0m\u001B[0;34m]\u001B[0m\u001B[0;34m\u001B[0m\u001B[0m\n\u001B[0;32m----> 5\u001B[0;31m \u001B[0;32mfor\u001B[0m \u001B[0mdoc\u001B[0m \u001B[0;32min\u001B[0m \u001B[0mnlp\u001B[0m\u001B[0;34m.\u001B[0m\u001B[0mpipe\u001B[0m\u001B[0;34m(\u001B[0m\u001B[0mdf\u001B[0m\u001B[0;34m[\u001B[0m\u001B[0;34m'reviews.text'\u001B[0m\u001B[0;34m]\u001B[0m\u001B[0;34m,\u001B[0m \u001B[0mdisable\u001B[0m\u001B[0;34m=\u001B[0m\u001B[0;34m[\u001B[0m\u001B[0;34m'parser'\u001B[0m\u001B[0;34m,\u001B[0m \u001B[0;34m'tagger'\u001B[0m\u001B[0;34m,\u001B[0m \u001B[0;34m'ner'\u001B[0m\u001B[0;34m,\u001B[0m \u001B[0;34m'POS'\u001B[0m\u001B[0;34m]\u001B[0m\u001B[0;34m)\u001B[0m\u001B[0;34m:\u001B[0m\u001B[0;34m\u001B[0m\u001B[0m\n\u001B[0m\u001B[1;32m      6\u001B[0m     \u001B[0mdoc_tokens\u001B[0m \u001B[0;34m=\u001B[0m \u001B[0;34m[\u001B[0m\u001B[0;34m]\u001B[0m\u001B[0;34m\u001B[0m\u001B[0m\n\u001B[1;32m      7\u001B[0m     \u001B[0;32mfor\u001B[0m \u001B[0mtokens\u001B[0m \u001B[0;32min\u001B[0m \u001B[0mdoc\u001B[0m\u001B[0;34m:\u001B[0m\u001B[0;34m\u001B[0m\u001B[0m\n",
      "\u001B[0;32m/opt/anaconda3/envs/Unit_4/lib/python3.7/site-packages/spacy/language.py\u001B[0m in \u001B[0;36mpipe\u001B[0;34m(self, texts, as_tuples, n_threads, batch_size, disable, cleanup, component_cfg, n_process)\u001B[0m\n\u001B[1;32m    814\u001B[0m         \u001B[0moriginal_strings_data\u001B[0m \u001B[0;34m=\u001B[0m \u001B[0;32mNone\u001B[0m\u001B[0;34m\u001B[0m\u001B[0m\n\u001B[1;32m    815\u001B[0m         \u001B[0mnr_seen\u001B[0m \u001B[0;34m=\u001B[0m \u001B[0;36m0\u001B[0m\u001B[0;34m\u001B[0m\u001B[0m\n\u001B[0;32m--> 816\u001B[0;31m         \u001B[0;32mfor\u001B[0m \u001B[0mdoc\u001B[0m \u001B[0;32min\u001B[0m \u001B[0mdocs\u001B[0m\u001B[0;34m:\u001B[0m\u001B[0;34m\u001B[0m\u001B[0m\n\u001B[0m\u001B[1;32m    817\u001B[0m             \u001B[0;32myield\u001B[0m \u001B[0mdoc\u001B[0m\u001B[0;34m\u001B[0m\u001B[0m\n\u001B[1;32m    818\u001B[0m             \u001B[0;32mif\u001B[0m \u001B[0mcleanup\u001B[0m\u001B[0;34m:\u001B[0m\u001B[0;34m\u001B[0m\u001B[0m\n",
      "\u001B[0;32m/opt/anaconda3/envs/Unit_4/lib/python3.7/site-packages/spacy/language.py\u001B[0m in \u001B[0;36m<genexpr>\u001B[0;34m(.0)\u001B[0m\n\u001B[1;32m    799\u001B[0m         \u001B[0;32melse\u001B[0m\u001B[0;34m:\u001B[0m\u001B[0;34m\u001B[0m\u001B[0m\n\u001B[1;32m    800\u001B[0m             \u001B[0;31m# if n_process == 1, no processes are forked.\u001B[0m\u001B[0;34m\u001B[0m\u001B[0;34m\u001B[0m\u001B[0m\n\u001B[0;32m--> 801\u001B[0;31m             \u001B[0mdocs\u001B[0m \u001B[0;34m=\u001B[0m \u001B[0;34m(\u001B[0m\u001B[0mself\u001B[0m\u001B[0;34m.\u001B[0m\u001B[0mmake_doc\u001B[0m\u001B[0;34m(\u001B[0m\u001B[0mtext\u001B[0m\u001B[0;34m)\u001B[0m \u001B[0;32mfor\u001B[0m \u001B[0mtext\u001B[0m \u001B[0;32min\u001B[0m \u001B[0mtexts\u001B[0m\u001B[0;34m)\u001B[0m\u001B[0;34m\u001B[0m\u001B[0m\n\u001B[0m\u001B[1;32m    802\u001B[0m             \u001B[0;32mfor\u001B[0m \u001B[0mpipe\u001B[0m \u001B[0;32min\u001B[0m \u001B[0mpipes\u001B[0m\u001B[0;34m:\u001B[0m\u001B[0;34m\u001B[0m\u001B[0m\n\u001B[1;32m    803\u001B[0m                 \u001B[0mdocs\u001B[0m \u001B[0;34m=\u001B[0m \u001B[0mpipe\u001B[0m\u001B[0;34m(\u001B[0m\u001B[0mdocs\u001B[0m\u001B[0;34m)\u001B[0m\u001B[0;34m\u001B[0m\u001B[0m\n",
      "\u001B[0;32m/opt/anaconda3/envs/Unit_4/lib/python3.7/site-packages/spacy/language.py\u001B[0m in \u001B[0;36mmake_doc\u001B[0;34m(self, text)\u001B[0m\n\u001B[1;32m    451\u001B[0m \u001B[0;34m\u001B[0m\u001B[0m\n\u001B[1;32m    452\u001B[0m     \u001B[0;32mdef\u001B[0m \u001B[0mmake_doc\u001B[0m\u001B[0;34m(\u001B[0m\u001B[0mself\u001B[0m\u001B[0;34m,\u001B[0m \u001B[0mtext\u001B[0m\u001B[0;34m)\u001B[0m\u001B[0;34m:\u001B[0m\u001B[0;34m\u001B[0m\u001B[0m\n\u001B[0;32m--> 453\u001B[0;31m         \u001B[0;32mreturn\u001B[0m \u001B[0mself\u001B[0m\u001B[0;34m.\u001B[0m\u001B[0mtokenizer\u001B[0m\u001B[0;34m(\u001B[0m\u001B[0mtext\u001B[0m\u001B[0;34m)\u001B[0m\u001B[0;34m\u001B[0m\u001B[0m\n\u001B[0m\u001B[1;32m    454\u001B[0m \u001B[0;34m\u001B[0m\u001B[0m\n\u001B[1;32m    455\u001B[0m     \u001B[0;32mdef\u001B[0m \u001B[0m_format_docs_and_golds\u001B[0m\u001B[0;34m(\u001B[0m\u001B[0mself\u001B[0m\u001B[0;34m,\u001B[0m \u001B[0mdocs\u001B[0m\u001B[0;34m,\u001B[0m \u001B[0mgolds\u001B[0m\u001B[0;34m)\u001B[0m\u001B[0;34m:\u001B[0m\u001B[0;34m\u001B[0m\u001B[0m\n",
      "\u001B[0;32mtokenizer.pyx\u001B[0m in \u001B[0;36mspacy.tokenizer.Tokenizer.__call__\u001B[0;34m()\u001B[0m\n",
      "\u001B[0;32mdoc.pyx\u001B[0m in \u001B[0;36mspacy.tokens.doc.Doc.__init__\u001B[0;34m()\u001B[0m\n",
      "\u001B[0;32mdoc.pyx\u001B[0m in \u001B[0;36mspacy.tokens.doc._get_chunker\u001B[0;34m()\u001B[0m\n",
      "\u001B[0;32m/opt/anaconda3/envs/Unit_4/lib/python3.7/site-packages/spacy/util.py\u001B[0m in \u001B[0;36mget_lang_class\u001B[0;34m(lang)\u001B[0m\n\u001B[1;32m     68\u001B[0m     \"\"\"\n\u001B[1;32m     69\u001B[0m     \u001B[0;31m# Check if language is registered / entry point is available\u001B[0m\u001B[0;34m\u001B[0m\u001B[0;34m\u001B[0m\u001B[0m\n\u001B[0;32m---> 70\u001B[0;31m     \u001B[0;32mif\u001B[0m \u001B[0mlang\u001B[0m \u001B[0;32min\u001B[0m \u001B[0mregistry\u001B[0m\u001B[0;34m.\u001B[0m\u001B[0mlanguages\u001B[0m\u001B[0;34m:\u001B[0m\u001B[0;34m\u001B[0m\u001B[0m\n\u001B[0m\u001B[1;32m     71\u001B[0m         \u001B[0;32mreturn\u001B[0m \u001B[0mregistry\u001B[0m\u001B[0;34m.\u001B[0m\u001B[0mlanguages\u001B[0m\u001B[0;34m.\u001B[0m\u001B[0mget\u001B[0m\u001B[0;34m(\u001B[0m\u001B[0mlang\u001B[0m\u001B[0;34m)\u001B[0m\u001B[0;34m\u001B[0m\u001B[0m\n\u001B[1;32m     72\u001B[0m     \u001B[0;32melse\u001B[0m\u001B[0;34m:\u001B[0m\u001B[0;34m\u001B[0m\u001B[0m\n",
      "\u001B[0;32m/opt/anaconda3/envs/Unit_4/lib/python3.7/site-packages/catalogue.py\u001B[0m in \u001B[0;36m__contains__\u001B[0;34m(self, name)\u001B[0m\n\u001B[1;32m     54\u001B[0m         \"\"\"\n\u001B[1;32m     55\u001B[0m         \u001B[0mnamespace\u001B[0m \u001B[0;34m=\u001B[0m \u001B[0mtuple\u001B[0m\u001B[0;34m(\u001B[0m\u001B[0mlist\u001B[0m\u001B[0;34m(\u001B[0m\u001B[0mself\u001B[0m\u001B[0;34m.\u001B[0m\u001B[0mnamespace\u001B[0m\u001B[0;34m)\u001B[0m \u001B[0;34m+\u001B[0m \u001B[0;34m[\u001B[0m\u001B[0mname\u001B[0m\u001B[0;34m]\u001B[0m\u001B[0;34m)\u001B[0m\u001B[0;34m\u001B[0m\u001B[0m\n\u001B[0;32m---> 56\u001B[0;31m         \u001B[0mhas_entry_point\u001B[0m \u001B[0;34m=\u001B[0m \u001B[0mself\u001B[0m\u001B[0;34m.\u001B[0m\u001B[0mentry_points\u001B[0m \u001B[0;32mand\u001B[0m \u001B[0mself\u001B[0m\u001B[0;34m.\u001B[0m\u001B[0mget_entry_point\u001B[0m\u001B[0;34m(\u001B[0m\u001B[0mname\u001B[0m\u001B[0;34m)\u001B[0m\u001B[0;34m\u001B[0m\u001B[0m\n\u001B[0m\u001B[1;32m     57\u001B[0m         \u001B[0;32mreturn\u001B[0m \u001B[0mhas_entry_point\u001B[0m \u001B[0;32mor\u001B[0m \u001B[0mnamespace\u001B[0m \u001B[0;32min\u001B[0m \u001B[0mREGISTRY\u001B[0m\u001B[0;34m\u001B[0m\u001B[0m\n\u001B[1;32m     58\u001B[0m \u001B[0;34m\u001B[0m\u001B[0m\n",
      "\u001B[0;32m/opt/anaconda3/envs/Unit_4/lib/python3.7/site-packages/catalogue.py\u001B[0m in \u001B[0;36mget_entry_point\u001B[0;34m(self, name, default)\u001B[0m\n\u001B[1;32m    136\u001B[0m         \u001B[0mRETURNS\u001B[0m \u001B[0;34m(\u001B[0m\u001B[0mAny\u001B[0m\u001B[0;34m)\u001B[0m\u001B[0;34m:\u001B[0m \u001B[0mThe\u001B[0m \u001B[0mloaded\u001B[0m \u001B[0mentry\u001B[0m \u001B[0mpoint\u001B[0m \u001B[0;32mor\u001B[0m \u001B[0mthe\u001B[0m \u001B[0mdefault\u001B[0m \u001B[0mvalue\u001B[0m\u001B[0;34m.\u001B[0m\u001B[0;34m\u001B[0m\u001B[0m\n\u001B[1;32m    137\u001B[0m         \"\"\"\n\u001B[0;32m--> 138\u001B[0;31m         \u001B[0;32mfor\u001B[0m \u001B[0mentry_point\u001B[0m \u001B[0;32min\u001B[0m \u001B[0mAVAILABLE_ENTRY_POINTS\u001B[0m\u001B[0;34m.\u001B[0m\u001B[0mget\u001B[0m\u001B[0;34m(\u001B[0m\u001B[0mself\u001B[0m\u001B[0;34m.\u001B[0m\u001B[0mentry_point_namespace\u001B[0m\u001B[0;34m,\u001B[0m \u001B[0;34m[\u001B[0m\u001B[0;34m]\u001B[0m\u001B[0;34m)\u001B[0m\u001B[0;34m:\u001B[0m\u001B[0;34m\u001B[0m\u001B[0m\n\u001B[0m\u001B[1;32m    139\u001B[0m             \u001B[0;32mif\u001B[0m \u001B[0mentry_point\u001B[0m\u001B[0;34m.\u001B[0m\u001B[0mname\u001B[0m \u001B[0;34m==\u001B[0m \u001B[0mname\u001B[0m\u001B[0;34m:\u001B[0m\u001B[0;34m\u001B[0m\u001B[0m\n\u001B[1;32m    140\u001B[0m                 \u001B[0;32mreturn\u001B[0m \u001B[0mentry_point\u001B[0m\u001B[0;34m.\u001B[0m\u001B[0mload\u001B[0m\u001B[0;34m(\u001B[0m\u001B[0;34m)\u001B[0m\u001B[0;34m\u001B[0m\u001B[0m\n",
      "\u001B[0;32m/opt/anaconda3/envs/Unit_4/lib/python3.7/site-packages/importlib_metadata/__init__.py\u001B[0m in \u001B[0;36mget\u001B[0;34m(self, name, default)\u001B[0m\n\u001B[1;32m    309\u001B[0m \u001B[0;34m\u001B[0m\u001B[0m\n\u001B[1;32m    310\u001B[0m     \u001B[0;32mdef\u001B[0m \u001B[0mget\u001B[0m\u001B[0;34m(\u001B[0m\u001B[0mself\u001B[0m\u001B[0;34m,\u001B[0m \u001B[0mname\u001B[0m\u001B[0;34m,\u001B[0m \u001B[0mdefault\u001B[0m\u001B[0;34m=\u001B[0m\u001B[0;32mNone\u001B[0m\u001B[0;34m)\u001B[0m\u001B[0;34m:\u001B[0m\u001B[0;34m\u001B[0m\u001B[0m\n\u001B[0;32m--> 311\u001B[0;31m         \u001B[0mflake8_bypass\u001B[0m\u001B[0;34m(\u001B[0m\u001B[0mself\u001B[0m\u001B[0;34m.\u001B[0m\u001B[0m_warn\u001B[0m\u001B[0;34m)\u001B[0m\u001B[0;34m(\u001B[0m\u001B[0;34m)\u001B[0m\u001B[0;34m\u001B[0m\u001B[0m\n\u001B[0m\u001B[1;32m    312\u001B[0m         \u001B[0;32mreturn\u001B[0m \u001B[0msuper\u001B[0m\u001B[0;34m(\u001B[0m\u001B[0;34m)\u001B[0m\u001B[0;34m.\u001B[0m\u001B[0mget\u001B[0m\u001B[0;34m(\u001B[0m\u001B[0mname\u001B[0m\u001B[0;34m,\u001B[0m \u001B[0mdefault\u001B[0m\u001B[0;34m)\u001B[0m\u001B[0;34m\u001B[0m\u001B[0m\n\u001B[1;32m    313\u001B[0m \u001B[0;34m\u001B[0m\u001B[0m\n",
      "\u001B[0;32m/opt/anaconda3/envs/Unit_4/lib/python3.7/site-packages/importlib_metadata/__init__.py\u001B[0m in \u001B[0;36mflake8_bypass\u001B[0;34m(func)\u001B[0m\n\u001B[1;32m    270\u001B[0m     \u001B[0;32mimport\u001B[0m \u001B[0minspect\u001B[0m\u001B[0;34m\u001B[0m\u001B[0m\n\u001B[1;32m    271\u001B[0m \u001B[0;34m\u001B[0m\u001B[0m\n\u001B[0;32m--> 272\u001B[0;31m     \u001B[0mis_flake8\u001B[0m \u001B[0;34m=\u001B[0m \u001B[0many\u001B[0m\u001B[0;34m(\u001B[0m\u001B[0;34m'flake8'\u001B[0m \u001B[0;32min\u001B[0m \u001B[0mstr\u001B[0m\u001B[0;34m(\u001B[0m\u001B[0mframe\u001B[0m\u001B[0;34m.\u001B[0m\u001B[0mfilename\u001B[0m\u001B[0;34m)\u001B[0m \u001B[0;32mfor\u001B[0m \u001B[0mframe\u001B[0m \u001B[0;32min\u001B[0m \u001B[0minspect\u001B[0m\u001B[0;34m.\u001B[0m\u001B[0mstack\u001B[0m\u001B[0;34m(\u001B[0m\u001B[0;34m)\u001B[0m\u001B[0;34m[\u001B[0m\u001B[0;34m:\u001B[0m\u001B[0;36m5\u001B[0m\u001B[0;34m]\u001B[0m\u001B[0;34m)\u001B[0m\u001B[0;34m\u001B[0m\u001B[0m\n\u001B[0m\u001B[1;32m    273\u001B[0m     \u001B[0;32mreturn\u001B[0m \u001B[0mfunc\u001B[0m \u001B[0;32mif\u001B[0m \u001B[0;32mnot\u001B[0m \u001B[0mis_flake8\u001B[0m \u001B[0;32melse\u001B[0m \u001B[0;32mlambda\u001B[0m\u001B[0;34m:\u001B[0m \u001B[0;32mNone\u001B[0m\u001B[0;34m\u001B[0m\u001B[0m\n\u001B[1;32m    274\u001B[0m \u001B[0;34m\u001B[0m\u001B[0m\n",
      "\u001B[0;32m/opt/anaconda3/envs/Unit_4/lib/python3.7/inspect.py\u001B[0m in \u001B[0;36mstack\u001B[0;34m(context)\u001B[0m\n\u001B[1;32m   1504\u001B[0m \u001B[0;32mdef\u001B[0m \u001B[0mstack\u001B[0m\u001B[0;34m(\u001B[0m\u001B[0mcontext\u001B[0m\u001B[0;34m=\u001B[0m\u001B[0;36m1\u001B[0m\u001B[0;34m)\u001B[0m\u001B[0;34m:\u001B[0m\u001B[0;34m\u001B[0m\u001B[0m\n\u001B[1;32m   1505\u001B[0m     \u001B[0;34m\"\"\"Return a list of records for the stack above the caller's frame.\"\"\"\u001B[0m\u001B[0;34m\u001B[0m\u001B[0m\n\u001B[0;32m-> 1506\u001B[0;31m     \u001B[0;32mreturn\u001B[0m \u001B[0mgetouterframes\u001B[0m\u001B[0;34m(\u001B[0m\u001B[0msys\u001B[0m\u001B[0;34m.\u001B[0m\u001B[0m_getframe\u001B[0m\u001B[0;34m(\u001B[0m\u001B[0;36m1\u001B[0m\u001B[0;34m)\u001B[0m\u001B[0;34m,\u001B[0m \u001B[0mcontext\u001B[0m\u001B[0;34m)\u001B[0m\u001B[0;34m\u001B[0m\u001B[0m\n\u001B[0m\u001B[1;32m   1507\u001B[0m \u001B[0;34m\u001B[0m\u001B[0m\n\u001B[1;32m   1508\u001B[0m \u001B[0;32mdef\u001B[0m \u001B[0mtrace\u001B[0m\u001B[0;34m(\u001B[0m\u001B[0mcontext\u001B[0m\u001B[0;34m=\u001B[0m\u001B[0;36m1\u001B[0m\u001B[0;34m)\u001B[0m\u001B[0;34m:\u001B[0m\u001B[0;34m\u001B[0m\u001B[0m\n",
      "\u001B[0;32m/opt/anaconda3/envs/Unit_4/lib/python3.7/inspect.py\u001B[0m in \u001B[0;36mgetouterframes\u001B[0;34m(frame, context)\u001B[0m\n\u001B[1;32m   1481\u001B[0m     \u001B[0mframelist\u001B[0m \u001B[0;34m=\u001B[0m \u001B[0;34m[\u001B[0m\u001B[0;34m]\u001B[0m\u001B[0;34m\u001B[0m\u001B[0m\n\u001B[1;32m   1482\u001B[0m     \u001B[0;32mwhile\u001B[0m \u001B[0mframe\u001B[0m\u001B[0;34m:\u001B[0m\u001B[0;34m\u001B[0m\u001B[0m\n\u001B[0;32m-> 1483\u001B[0;31m         \u001B[0mframeinfo\u001B[0m \u001B[0;34m=\u001B[0m \u001B[0;34m(\u001B[0m\u001B[0mframe\u001B[0m\u001B[0;34m,\u001B[0m\u001B[0;34m)\u001B[0m \u001B[0;34m+\u001B[0m \u001B[0mgetframeinfo\u001B[0m\u001B[0;34m(\u001B[0m\u001B[0mframe\u001B[0m\u001B[0;34m,\u001B[0m \u001B[0mcontext\u001B[0m\u001B[0;34m)\u001B[0m\u001B[0;34m\u001B[0m\u001B[0m\n\u001B[0m\u001B[1;32m   1484\u001B[0m         \u001B[0mframelist\u001B[0m\u001B[0;34m.\u001B[0m\u001B[0mappend\u001B[0m\u001B[0;34m(\u001B[0m\u001B[0mFrameInfo\u001B[0m\u001B[0;34m(\u001B[0m\u001B[0;34m*\u001B[0m\u001B[0mframeinfo\u001B[0m\u001B[0;34m)\u001B[0m\u001B[0;34m)\u001B[0m\u001B[0;34m\u001B[0m\u001B[0m\n\u001B[1;32m   1485\u001B[0m         \u001B[0mframe\u001B[0m \u001B[0;34m=\u001B[0m \u001B[0mframe\u001B[0m\u001B[0;34m.\u001B[0m\u001B[0mf_back\u001B[0m\u001B[0;34m\u001B[0m\u001B[0m\n",
      "\u001B[0;32m/opt/anaconda3/envs/Unit_4/lib/python3.7/inspect.py\u001B[0m in \u001B[0;36mgetframeinfo\u001B[0;34m(frame, context)\u001B[0m\n\u001B[1;32m   1455\u001B[0m         \u001B[0mstart\u001B[0m \u001B[0;34m=\u001B[0m \u001B[0mlineno\u001B[0m \u001B[0;34m-\u001B[0m \u001B[0;36m1\u001B[0m \u001B[0;34m-\u001B[0m \u001B[0mcontext\u001B[0m\u001B[0;34m//\u001B[0m\u001B[0;36m2\u001B[0m\u001B[0;34m\u001B[0m\u001B[0m\n\u001B[1;32m   1456\u001B[0m         \u001B[0;32mtry\u001B[0m\u001B[0;34m:\u001B[0m\u001B[0;34m\u001B[0m\u001B[0m\n\u001B[0;32m-> 1457\u001B[0;31m             \u001B[0mlines\u001B[0m\u001B[0;34m,\u001B[0m \u001B[0mlnum\u001B[0m \u001B[0;34m=\u001B[0m \u001B[0mfindsource\u001B[0m\u001B[0;34m(\u001B[0m\u001B[0mframe\u001B[0m\u001B[0;34m)\u001B[0m\u001B[0;34m\u001B[0m\u001B[0m\n\u001B[0m\u001B[1;32m   1458\u001B[0m         \u001B[0;32mexcept\u001B[0m \u001B[0mOSError\u001B[0m\u001B[0;34m:\u001B[0m\u001B[0;34m\u001B[0m\u001B[0m\n\u001B[1;32m   1459\u001B[0m             \u001B[0mlines\u001B[0m \u001B[0;34m=\u001B[0m \u001B[0mindex\u001B[0m \u001B[0;34m=\u001B[0m \u001B[0;32mNone\u001B[0m\u001B[0;34m\u001B[0m\u001B[0m\n",
      "\u001B[0;32m/opt/anaconda3/envs/Unit_4/lib/python3.7/inspect.py\u001B[0m in \u001B[0;36mfindsource\u001B[0;34m(object)\u001B[0m\n\u001B[1;32m    778\u001B[0m             \u001B[0;32mraise\u001B[0m \u001B[0mOSError\u001B[0m\u001B[0;34m(\u001B[0m\u001B[0;34m'source code not available'\u001B[0m\u001B[0;34m)\u001B[0m\u001B[0;34m\u001B[0m\u001B[0m\n\u001B[1;32m    779\u001B[0m \u001B[0;34m\u001B[0m\u001B[0m\n\u001B[0;32m--> 780\u001B[0;31m     \u001B[0mmodule\u001B[0m \u001B[0;34m=\u001B[0m \u001B[0mgetmodule\u001B[0m\u001B[0;34m(\u001B[0m\u001B[0mobject\u001B[0m\u001B[0;34m,\u001B[0m \u001B[0mfile\u001B[0m\u001B[0;34m)\u001B[0m\u001B[0;34m\u001B[0m\u001B[0m\n\u001B[0m\u001B[1;32m    781\u001B[0m     \u001B[0;32mif\u001B[0m \u001B[0mmodule\u001B[0m\u001B[0;34m:\u001B[0m\u001B[0;34m\u001B[0m\u001B[0m\n\u001B[1;32m    782\u001B[0m         \u001B[0mlines\u001B[0m \u001B[0;34m=\u001B[0m \u001B[0mlinecache\u001B[0m\u001B[0;34m.\u001B[0m\u001B[0mgetlines\u001B[0m\u001B[0;34m(\u001B[0m\u001B[0mfile\u001B[0m\u001B[0;34m,\u001B[0m \u001B[0mmodule\u001B[0m\u001B[0;34m.\u001B[0m\u001B[0m__dict__\u001B[0m\u001B[0;34m)\u001B[0m\u001B[0;34m\u001B[0m\u001B[0m\n",
      "\u001B[0;32m/opt/anaconda3/envs/Unit_4/lib/python3.7/inspect.py\u001B[0m in \u001B[0;36mgetmodule\u001B[0;34m(object, _filename)\u001B[0m\n\u001B[1;32m    731\u001B[0m     \u001B[0;31m# Copy sys.modules in order to cope with changes while iterating\u001B[0m\u001B[0;34m\u001B[0m\u001B[0;34m\u001B[0m\u001B[0m\n\u001B[1;32m    732\u001B[0m     \u001B[0;32mfor\u001B[0m \u001B[0mmodname\u001B[0m\u001B[0;34m,\u001B[0m \u001B[0mmodule\u001B[0m \u001B[0;32min\u001B[0m \u001B[0mlist\u001B[0m\u001B[0;34m(\u001B[0m\u001B[0msys\u001B[0m\u001B[0;34m.\u001B[0m\u001B[0mmodules\u001B[0m\u001B[0;34m.\u001B[0m\u001B[0mitems\u001B[0m\u001B[0;34m(\u001B[0m\u001B[0;34m)\u001B[0m\u001B[0;34m)\u001B[0m\u001B[0;34m:\u001B[0m\u001B[0;34m\u001B[0m\u001B[0m\n\u001B[0;32m--> 733\u001B[0;31m         \u001B[0;32mif\u001B[0m \u001B[0mismodule\u001B[0m\u001B[0;34m(\u001B[0m\u001B[0mmodule\u001B[0m\u001B[0;34m)\u001B[0m \u001B[0;32mand\u001B[0m \u001B[0mhasattr\u001B[0m\u001B[0;34m(\u001B[0m\u001B[0mmodule\u001B[0m\u001B[0;34m,\u001B[0m \u001B[0;34m'__file__'\u001B[0m\u001B[0;34m)\u001B[0m\u001B[0;34m:\u001B[0m\u001B[0;34m\u001B[0m\u001B[0m\n\u001B[0m\u001B[1;32m    734\u001B[0m             \u001B[0mf\u001B[0m \u001B[0;34m=\u001B[0m \u001B[0mmodule\u001B[0m\u001B[0;34m.\u001B[0m\u001B[0m__file__\u001B[0m\u001B[0;34m\u001B[0m\u001B[0m\n\u001B[1;32m    735\u001B[0m             \u001B[0;32mif\u001B[0m \u001B[0mf\u001B[0m \u001B[0;34m==\u001B[0m \u001B[0m_filesbymodname\u001B[0m\u001B[0;34m.\u001B[0m\u001B[0mget\u001B[0m\u001B[0;34m(\u001B[0m\u001B[0mmodname\u001B[0m\u001B[0;34m,\u001B[0m \u001B[0;32mNone\u001B[0m\u001B[0;34m)\u001B[0m\u001B[0;34m:\u001B[0m\u001B[0;34m\u001B[0m\u001B[0m\n",
      "\u001B[0;32m/opt/anaconda3/envs/Unit_4/lib/python3.7/inspect.py\u001B[0m in \u001B[0;36mismodule\u001B[0;34m(object)\u001B[0m\n\u001B[1;32m     68\u001B[0m         \u001B[0m__doc__\u001B[0m         \u001B[0mdocumentation\u001B[0m \u001B[0mstring\u001B[0m\u001B[0;34m\u001B[0m\u001B[0m\n\u001B[1;32m     69\u001B[0m         __file__        filename (missing for built-in modules)\"\"\"\n\u001B[0;32m---> 70\u001B[0;31m     \u001B[0;32mreturn\u001B[0m \u001B[0misinstance\u001B[0m\u001B[0;34m(\u001B[0m\u001B[0mobject\u001B[0m\u001B[0;34m,\u001B[0m \u001B[0mtypes\u001B[0m\u001B[0;34m.\u001B[0m\u001B[0mModuleType\u001B[0m\u001B[0;34m)\u001B[0m\u001B[0;34m\u001B[0m\u001B[0m\n\u001B[0m\u001B[1;32m     71\u001B[0m \u001B[0;34m\u001B[0m\u001B[0m\n\u001B[1;32m     72\u001B[0m \u001B[0;32mdef\u001B[0m \u001B[0misclass\u001B[0m\u001B[0;34m(\u001B[0m\u001B[0mobject\u001B[0m\u001B[0;34m)\u001B[0m\u001B[0;34m:\u001B[0m\u001B[0;34m\u001B[0m\u001B[0m\n",
      "\u001B[0;31mKeyboardInterrupt\u001B[0m: "
     ]
    }
   ],
   "source": [
    "# create a tokenizer using spacy\n",
    "\n",
    "# YOUR CODE HERE\n",
    "spacy_tokens = []\n",
    "for doc in nlp.pipe(df['reviews.text'], disable=['parser', 'tagger', 'ner', 'POS']):\n",
    "    doc_tokens = []\n",
    "    for tokens in doc:\n",
    "        doc_tokens.append(tokens.text)\n",
    "    spacy_tokens.append(doc_tokens)\n",
    "\n",
    "df['spacy_tokens'] = spacy_tokens\n",
    "df['spacy_tokens']"
   ]
  },
  {
   "cell_type": "code",
   "execution_count": null,
   "outputs": [],
   "source": [
    "wc = wc[wc['rank'] <= 20]\n",
    "\n",
    "squarify.plot(sizes=wc_top20['pct_total'], label=wc_top20['word'], alpha=.8 )\n",
    "plt.axis('off')\n",
    "plt.show()"
   ],
   "metadata": {
    "collapsed": false,
    "pycharm": {
     "name": "#%%\n"
    }
   }
  },
  {
   "cell_type": "markdown",
   "metadata": {
    "id": "FS-IuYRdGEr3",
    "toc-hr-collapsed": true
   },
   "source": [
    "## Challenge\n",
    "\n",
    "In the module project, you will apply tokenization to another set of review data and produce visualizations of those tokens. "
   ]
  },
  {
   "cell_type": "markdown",
   "metadata": {
    "id": "qy-JQ3VUGEr6",
    "toc-hr-collapsed": true
   },
   "source": [
    "# Stop Words (Learn)\n",
    "<a id=\"p2\"></a>"
   ]
  },
  {
   "cell_type": "markdown",
   "metadata": {
    "id": "APfLF769GEr6"
   },
   "source": [
    "## Overview\n",
    "Section Agenda\n",
    "- What are they?\n",
    "- How do we get rid of them using Spacy?\n",
    "- Visualization\n",
    "- Libraries of Stop Words\n",
    "- Extending Stop Words\n",
    "- Statistical trimming\n",
    "\n",
    "If the visualizations above, you began to notice a pattern. Most of the words don't really add much to our understanding of product reviews. Words such as \"I\", \"and\", \"of\", etc. have almost no semantic meaning to us. We call these useless words \"stop words,\" because we should 'stop' ourselves from including them in the analysis. \n",
    "\n",
    "Most NLP libraries have built in lists of stop words that common english words: conjunctions, articles, adverbs, pronouns, and common verbs. The best practice, however, is to extend/customize these standard english stopwords for your problem's domain. If I am studying political science, I may want to exclude the word \"politics\" from my analysis; it's so common it does not add to my understanding. "
   ]
  },
  {
   "cell_type": "markdown",
   "metadata": {
    "id": "7b5yWU9hGEr7",
    "toc-hr-collapsed": true
   },
   "source": [
    "## Follow Along \n",
    "\n",
    "### Default Stop Words\n",
    "Let's take a look at the standard stop words that came with our Spacy model:"
   ]
  },
  {
   "cell_type": "code",
   "execution_count": 47,
   "metadata": {
    "colab": {
     "base_uri": "https://localhost:8080/",
     "height": 1000
    },
    "collapsed": true,
    "id": "zeOqLNAhGEr7",
    "jupyter": {
     "outputs_hidden": true
    },
    "outputId": "fc3f6f19-ae76-44e0-9351-eabe86837e8d"
   },
   "outputs": [
    {
     "data": {
      "text/plain": "{\"'d\",\n \"'ll\",\n \"'m\",\n \"'re\",\n \"'s\",\n \"'ve\",\n 'a',\n 'about',\n 'above',\n 'across',\n 'after',\n 'afterwards',\n 'again',\n 'against',\n 'all',\n 'almost',\n 'alone',\n 'along',\n 'already',\n 'also',\n 'although',\n 'always',\n 'am',\n 'among',\n 'amongst',\n 'amount',\n 'an',\n 'and',\n 'another',\n 'any',\n 'anyhow',\n 'anyone',\n 'anything',\n 'anyway',\n 'anywhere',\n 'are',\n 'around',\n 'as',\n 'at',\n 'back',\n 'be',\n 'became',\n 'because',\n 'become',\n 'becomes',\n 'becoming',\n 'been',\n 'before',\n 'beforehand',\n 'behind',\n 'being',\n 'below',\n 'beside',\n 'besides',\n 'between',\n 'beyond',\n 'both',\n 'bottom',\n 'but',\n 'by',\n 'ca',\n 'call',\n 'can',\n 'cannot',\n 'could',\n 'did',\n 'do',\n 'does',\n 'doing',\n 'done',\n 'down',\n 'due',\n 'during',\n 'each',\n 'eight',\n 'either',\n 'eleven',\n 'else',\n 'elsewhere',\n 'empty',\n 'enough',\n 'even',\n 'ever',\n 'every',\n 'everyone',\n 'everything',\n 'everywhere',\n 'except',\n 'few',\n 'fifteen',\n 'fifty',\n 'first',\n 'five',\n 'for',\n 'former',\n 'formerly',\n 'forty',\n 'four',\n 'from',\n 'front',\n 'full',\n 'further',\n 'get',\n 'give',\n 'go',\n 'had',\n 'has',\n 'have',\n 'he',\n 'hence',\n 'her',\n 'here',\n 'hereafter',\n 'hereby',\n 'herein',\n 'hereupon',\n 'hers',\n 'herself',\n 'him',\n 'himself',\n 'his',\n 'how',\n 'however',\n 'hundred',\n 'i',\n 'if',\n 'in',\n 'indeed',\n 'into',\n 'is',\n 'it',\n 'its',\n 'itself',\n 'just',\n 'keep',\n 'last',\n 'latter',\n 'latterly',\n 'least',\n 'less',\n 'made',\n 'make',\n 'many',\n 'may',\n 'me',\n 'meanwhile',\n 'might',\n 'mine',\n 'more',\n 'moreover',\n 'most',\n 'mostly',\n 'move',\n 'much',\n 'must',\n 'my',\n 'myself',\n \"n't\",\n 'name',\n 'namely',\n 'neither',\n 'never',\n 'nevertheless',\n 'next',\n 'nine',\n 'no',\n 'nobody',\n 'none',\n 'noone',\n 'nor',\n 'not',\n 'nothing',\n 'now',\n 'nowhere',\n 'n‘t',\n 'n’t',\n 'of',\n 'off',\n 'often',\n 'on',\n 'once',\n 'one',\n 'only',\n 'onto',\n 'or',\n 'other',\n 'others',\n 'otherwise',\n 'our',\n 'ours',\n 'ourselves',\n 'out',\n 'over',\n 'own',\n 'part',\n 'per',\n 'perhaps',\n 'please',\n 'put',\n 'quite',\n 'rather',\n 're',\n 'really',\n 'regarding',\n 'same',\n 'say',\n 'see',\n 'seem',\n 'seemed',\n 'seeming',\n 'seems',\n 'serious',\n 'several',\n 'she',\n 'should',\n 'show',\n 'side',\n 'since',\n 'six',\n 'sixty',\n 'so',\n 'some',\n 'somehow',\n 'someone',\n 'something',\n 'sometime',\n 'sometimes',\n 'somewhere',\n 'still',\n 'such',\n 'take',\n 'ten',\n 'than',\n 'that',\n 'the',\n 'their',\n 'them',\n 'themselves',\n 'then',\n 'thence',\n 'there',\n 'thereafter',\n 'thereby',\n 'therefore',\n 'therein',\n 'thereupon',\n 'these',\n 'they',\n 'third',\n 'this',\n 'those',\n 'though',\n 'three',\n 'through',\n 'throughout',\n 'thru',\n 'thus',\n 'to',\n 'together',\n 'too',\n 'top',\n 'toward',\n 'towards',\n 'twelve',\n 'twenty',\n 'two',\n 'under',\n 'unless',\n 'until',\n 'up',\n 'upon',\n 'us',\n 'used',\n 'using',\n 'various',\n 'very',\n 'via',\n 'was',\n 'we',\n 'well',\n 'were',\n 'what',\n 'whatever',\n 'when',\n 'whence',\n 'whenever',\n 'where',\n 'whereafter',\n 'whereas',\n 'whereby',\n 'wherein',\n 'whereupon',\n 'wherever',\n 'whether',\n 'which',\n 'while',\n 'whither',\n 'who',\n 'whoever',\n 'whole',\n 'whom',\n 'whose',\n 'why',\n 'will',\n 'with',\n 'within',\n 'without',\n 'would',\n 'yet',\n 'you',\n 'your',\n 'yours',\n 'yourself',\n 'yourselves',\n '‘d',\n '‘ll',\n '‘m',\n '‘re',\n '‘s',\n '‘ve',\n '’d',\n '’ll',\n '’m',\n '’re',\n '’s',\n '’ve'}"
     },
     "execution_count": 47,
     "metadata": {},
     "output_type": "execute_result"
    }
   ],
   "source": [
    "# Spacy's Default Stop Words\n",
    "nlp.Defaults.stop_words"
   ]
  },
  {
   "cell_type": "code",
   "execution_count": null,
   "metadata": {
    "deletable": false,
    "id": "gYnQfN9TGEr9",
    "nbgrader": {
     "cell_type": "code",
     "checksum": "659d58e18d2e1352236109ea3597cd08",
     "grade": false,
     "grade_id": "cell-6786f165c68a0aa6",
     "locked": false,
     "schema_version": 3,
     "solution": true,
     "task": false
    }
   },
   "outputs": [],
   "source": [
    "# Use spacy to create a tokenizer that removes stop words\n",
    "\n",
    "# YOUR CODE HERE\n",
    "spacy_tokens = []\n",
    "for doc in nlp.pipe(df['reviews.text'], disable=['parser', 'tagger', 'ner', 'POS']):\n",
    "    doc_tokens = []\n",
    "    for tokens in doc:\n",
    "        if (not tokens.is_stop) & (not tokens.is_punct) & (len(tokens.text) > 2):\n",
    "            doc_tokens.append(tokens.text)\n",
    "    spacy_tokens.append(doc_tokens)\n",
    "\n",
    "df['spacy_tokens_nostop'] = spacy_tokens\n",
    "\n",
    "wc = count(df)"
   ]
  },
  {
   "cell_type": "markdown",
   "metadata": {
    "id": "wW7qoSu_GEsD"
   },
   "source": [
    "### Extending Stop Words"
   ]
  },
  {
   "cell_type": "code",
   "execution_count": null,
   "metadata": {
    "colab": {
     "base_uri": "https://localhost:8080/",
     "height": 34
    },
    "id": "MxLUxpRvGEsD",
    "outputId": "b30d3b87-1e0f-46f1-b444-51a475803152"
   },
   "outputs": [],
   "source": [
    "print(type(nlp.Defaults.stop_words))"
   ]
  },
  {
   "cell_type": "code",
   "execution_count": 54,
   "metadata": {
    "id": "7D6R_35SGEsF"
   },
   "outputs": [],
   "source": [
    "STOP_WORDS = nlp.Defaults.stop_words.union(['batteries','I', 'amazon', 'i', 'Amazon', 'it', \"it's\", 'it.', 'the', 'this',])"
   ]
  },
  {
   "cell_type": "code",
   "execution_count": null,
   "metadata": {
    "deletable": false,
    "id": "0JOoLRyUGEsJ",
    "nbgrader": {
     "cell_type": "code",
     "checksum": "068a4f6cd4bebc5c8cbc74372c41a905",
     "grade": false,
     "grade_id": "cell-37cd0e460b63ff43",
     "locked": false,
     "schema_version": 3,
     "solution": true,
     "task": false
    }
   },
   "outputs": [],
   "source": [
    "# use spacy to create a tokenizer that removes stopwords using STOP_WORDS\n",
    "\n",
    "# YOUR CODE HERE\n",
    "spacy_tokens = []\n",
    "for doc in nlp.pipe(df['reviews.text'], disable=['parser', 'tagger', 'ner', 'POS']):\n",
    "    doc_tokens = []\n",
    "    for tokens in doc:\n",
    "        if (tokens not in STOP_WORDS) & (not tokens.is_punct) & (len(tokens.text) > 2):\n",
    "            doc_tokens.append(tokens.text)\n",
    "    spacy_tokens.append(doc_tokens)\n",
    "\n",
    "df['spacy_tokens_nostop'] = spacy_tokens"
   ]
  },
  {
   "cell_type": "markdown",
   "metadata": {
    "id": "55BKEXW6GEsQ"
   },
   "source": [
    "### Statistical Trimming\n",
    "\n",
    "So far, we have talked about stop word in relation to either broad english words or domain specific stop words. Another common approach to stop word removal is via statistical trimming. The basic idea: preserve the words that give the most about of variation in your data. \n",
    "\n",
    "Do you remember this graph?"
   ]
  },
  {
   "cell_type": "code",
   "execution_count": 48,
   "metadata": {
    "colab": {
     "base_uri": "https://localhost:8080/",
     "height": 279
    },
    "id": "m7M5bXwUGEsQ",
    "outputId": "841a517d-7e36-4410-d030-263eb09da596"
   },
   "outputs": [
    {
     "data": {
      "text/plain": "<Figure size 432x288 with 1 Axes>",
      "image/png": "[encoded data removed]"
     },
     "metadata": {
      "needs_background": "light"
     },
     "output_type": "display_data"
    }
   ],
   "source": [
    "sns.lineplot(x='rank', y='cul_pct_total', data=wc);"
   ]
  },
  {
   "cell_type": "markdown",
   "metadata": {
    "id": "NSY5DHLKGEsS"
   },
   "source": [
    "This graph tells us that only a *handful* of words represented 80% of words in the overall corpus. We can interpret this in two ways: \n",
    "1. The words that appear most frequently may not provide any insight into the mean on the documents since they are so prevalent. \n",
    "2. Words that appear infrequency (at the end of the graph) also probably do not add much value, because the are mentioned so rarely. \n",
    "\n",
    "Let's take a look at the words at the bottom and the top and make a decision for ourselves:"
   ]
  },
  {
   "cell_type": "code",
   "execution_count": 49,
   "metadata": {
    "colab": {
     "base_uri": "https://localhost:8080/",
     "height": 280
    },
    "id": "evsmVP2VGEsV",
    "outputId": "e83b1d0c-1ddf-4310-b820-e82647c0fcef"
   },
   "outputs": [
    {
     "data": {
      "text/plain": "<Figure size 432x288 with 1 Axes>",
      "image/png": "[encoded data removed]"
     },
     "metadata": {
      "needs_background": "light"
     },
     "output_type": "display_data"
    }
   ],
   "source": [
    "# Frequency of appears in documents\n",
    "sns.distplot(wc['appears_in_pct']);"
   ]
  },
  {
   "cell_type": "code",
   "execution_count": 50,
   "metadata": {
    "colab": {
     "base_uri": "https://localhost:8080/",
     "height": 280
    },
    "id": "dJkyvXn0GEsX",
    "outputId": "dbfefb88-13d1-4152-f804-ea063f73f631"
   },
   "outputs": [
    {
     "data": {
      "text/plain": "<Figure size 432x288 with 1 Axes>",
      "image/png": "[encoded data removed]"
     },
     "metadata": {
      "needs_background": "light"
     },
     "output_type": "display_data"
    }
   ],
   "source": [
    "# Tree-Map w/ Words that appear in a least 2.5% of documents. \n",
    "\n",
    "wc = wc[wc['appears_in_pct'] >= 0.025]\n",
    "\n",
    "sns.distplot(wc['appears_in_pct']);"
   ]
  },
  {
   "cell_type": "markdown",
   "metadata": {
    "id": "riFOSWTuGEsa"
   },
   "source": [
    "## Challenge\n",
    "\n",
    "In the module project, you will apply stop word removal to a new corpus. You will focus on applying dictionary based stop word removal, but as a stretch goal, you should consider applying statistical stopword trimming. "
   ]
  },
  {
   "cell_type": "markdown",
   "metadata": {
    "id": "xh6NpgGhGEsa",
    "toc-hr-collapsed": true
   },
   "source": [
    "# Stemming & Lemmatization (Learn)\n",
    "<a id=\"p3\"></a>"
   ]
  },
  {
   "cell_type": "markdown",
   "metadata": {
    "id": "82BICah4GEsa",
    "toc-hr-collapsed": false
   },
   "source": [
    "## Overview\n",
    "\n",
    "You can see from our example above there is still some normalization to do to get a clean analysis. You notice that there many words (*i.e.* 'batteries', 'battery') which share the same root word. We can use either the process of stemming or lemmatization to trim our words down to the 'root' word. \n",
    "\n",
    "__Section Agenda__:\n",
    "\n",
    "- Which is which\n",
    "- why use one v. other\n",
    "- show side by side visualizations \n",
    "- how to do it in spacy & nltk\n",
    "- introduce PoS in here as well"
   ]
  },
  {
   "cell_type": "markdown",
   "metadata": {
    "id": "Unc5QrF4GEsb",
    "toc-hr-collapsed": true
   },
   "source": [
    "## Follow Along"
   ]
  },
  {
   "cell_type": "markdown",
   "metadata": {
    "id": "-2qObh4HGEsb",
    "toc-hr-collapsed": true
   },
   "source": [
    "### Stemming\n",
    "\n",
    "> *a process for removing the commoner morphological and inflexional endings from words in English. Its main use is as part of a term normalisation process that is usually done when setting up Information Retrieval systems.* - [Martin Porter](https://tartarus.org/martin/PorterStemmer/)\n",
    "\n",
    "Some examples include:\n",
    "- 'ing'\n",
    "- 'ed'\n",
    "- 's'\n",
    "\n",
    "These rules are by no means comprehensive, but they are somewhere to start. Most stemming is done by well documented algorithms such as Porter, Snowball, and Dawson. Porter and its newer version Snowball are the most popular stemming algorithms today. For more information on various stemming algorithms check out [*\"A Comparative Study of Stemming Algorithms\"*](https://pdfs.semanticscholar.org/1c0c/0fa35d4ff8a2f925eb955e48d655494bd167.pdf) \n",
    "\n",
    "\n",
    "Spacy does not do stemming out of the box, but instead uses a different technique called *lemmatization* which we will discuss in the next section. Let's turn to an antique python package `nltk` for stemming. "
   ]
  },
  {
   "cell_type": "code",
   "execution_count": 51,
   "metadata": {
    "colab": {
     "base_uri": "https://localhost:8080/",
     "height": 85
    },
    "id": "o7z49DWNGEsb",
    "outputId": "b181a9b8-ff70-4bd4-be2a-1cf92098710c"
   },
   "outputs": [
    {
     "name": "stdout",
     "output_type": "stream",
     "text": [
      "is\n",
      "wa\n",
      "be\n",
      "are\n"
     ]
    }
   ],
   "source": [
    "from nltk.stem import PorterStemmer\n",
    "\n",
    "ps = PorterStemmer()\n",
    "\n",
    "words = [\"is\", \"was\", \"be\", \"are\"]\n",
    "\n",
    "for word in words:\n",
    "    print(ps.stem(word))"
   ]
  },
  {
   "cell_type": "markdown",
   "metadata": {
    "id": "xkPTDh-dGEsd"
   },
   "source": [
    "### Two Minute Challenge\n",
    "\n",
    "Apply the Porter stemming algorithm to the tokens in the `df` dataframe. Visualize the results in the tree graph we have been using for this session."
   ]
  },
  {
   "cell_type": "code",
   "execution_count": 55,
   "metadata": {
    "deletable": false,
    "id": "sCrtEa_uGEsd",
    "nbgrader": {
     "cell_type": "code",
     "checksum": "492b5c13a834b2ce914c350efb369854",
     "grade": false,
     "grade_id": "cell-5944a38ffd47803f",
     "locked": false,
     "schema_version": 3,
     "solution": true,
     "task": false
    }
   },
   "outputs": [
    {
     "name": "stderr",
     "output_type": "stream",
     "text": [
      "100%|██████████| 28332/28332 [00:07<00:00, 3948.53it/s]\n"
     ]
    }
   ],
   "source": [
    "# YOUR CODE HERE\n",
    "from tqdm import tqdm\n",
    "tqdm.pandas()\n",
    "\n",
    "ps = PorterStemmer()\n",
    "\n",
    "def get_stems(text):\n",
    "    temp = [ps.stem(w.lower()) for w in text.split() if w not in STOP_WORDS]\n",
    "\n",
    "df['stems'] = df['reviews.text'].progress_apply(get_stems)\n",
    "\n",
    "wc_top20 = wc[wc['rank'] <= 20]\n",
    "\n",
    "..."
   ]
  },
  {
   "cell_type": "markdown",
   "metadata": {
    "id": "HU96W_PnGEsg",
    "toc-hr-collapsed": false
   },
   "source": [
    "### Lemmatization\n",
    "\n",
    "You notice immediately that results are kinda funky - words just oddly chopped off. The Porter algorithm did exactly what it knows to do: chop off endings. Stemming works well in applications where humans don't have to worry about reading the results. Search engines and more broadly information retrieval algorithms use stemming. Why? Because it's fast. \n",
    "\n",
    "Lemmatization on the other hand is more methodical. The goal is to transform a word into its base form called a lemma. Plural nouns with funky spellings get transformed to singular tense. Verbs are all transformed to the transitive. Nice tidy data for a visualization. :) However, this tidy data can come at computational cost. Spacy does a pretty freaking good job of it though. Let's take a look:"
   ]
  },
  {
   "cell_type": "code",
   "execution_count": 56,
   "metadata": {
    "colab": {
     "base_uri": "https://localhost:8080/",
     "height": 204
    },
    "id": "c1uvFqG9GEsg",
    "outputId": "fd1c2125-c6d9-44e8-a03c-edf3cb4006c0"
   },
   "outputs": [
    {
     "name": "stdout",
     "output_type": "stream",
     "text": [
      "men    man\n",
      "man    man\n",
      "women    woman\n",
      "woman    woman\n",
      "wolf    wolf\n",
      "wolves    wolf\n",
      "run    run\n",
      "runs    run\n",
      "running    run\n"
     ]
    }
   ],
   "source": [
    "sent = \"men man women woman wolf wolves run runs running\"\n",
    "doc = nlp(sent)\n",
    "\n",
    "# Lemma Attributes\n",
    "for token in doc:\n",
    "    print(token.text, \"  \", token.lemma_)"
   ]
  },
  {
   "cell_type": "code",
   "execution_count": 59,
   "metadata": {
    "deletable": false,
    "id": "sjt7J4RsGEsh",
    "nbgrader": {
     "cell_type": "code",
     "checksum": "ca7ddfb773402c65d8f76dd921bd3389",
     "grade": false,
     "grade_id": "cell-792ac177c78518bc",
     "locked": false,
     "schema_version": 3,
     "solution": true,
     "task": false
    }
   },
   "outputs": [],
   "source": [
    "# Wrap it all in a function\n",
    "def get_lemmas(text):\n",
    "\n",
    "    lemmas = []\n",
    "    \n",
    "    doc = nlp(text)\n",
    "    \n",
    "    # YOUR CODE HERE\n",
    "    for tokens in doc:\n",
    "        if (tokens not in STOP_WORDS) & (tokens.is_punct != True):\n",
    "            lemmas.append(tokens.lemma_.lower())\n",
    "    \n",
    "    return lemmas"
   ]
  },
  {
   "cell_type": "code",
   "execution_count": 61,
   "metadata": {
    "id": "P0RL6T5OGEsi"
   },
   "outputs": [
    {
     "name": "stderr",
     "output_type": "stream",
     "text": [
      "100%|██████████| 28332/28332 [20:49<00:00, 22.68it/s] \n"
     ]
    }
   ],
   "source": [
    "df['lemmas'] = df['reviews.text'].progress_apply(get_lemmas)  # Might take a few minutes!"
   ]
  },
  {
   "cell_type": "code",
   "execution_count": 62,
   "metadata": {
    "colab": {
     "base_uri": "https://localhost:8080/",
     "height": 119
    },
    "id": "V50IDI9_GEsj",
    "outputId": "91cd8059-235e-4e4c-ec87-c67c962d3548"
   },
   "outputs": [
    {
     "data": {
      "text/plain": "                                              lemmas  \\\n0  [-pron-, order, 3, of, -pron-, and, one, of, t...   \n1  [bulk, be, always, the, less, expensive, way, ...   \n2  [well, -pron-, be, not, duracell, but, for, th...   \n3  [seem, to, work, as, well, as, name, brand, ba...   \n4  [these, battery, be, very, long, last, the, pr...   \n\n                                        reviews.text  \n0  I order 3 of them and one of the item is bad q...  \n1  Bulk is always the less expensive way to go fo...  \n2  Well they are not Duracell but for the price i...  \n3  Seem to work as well as name brand batteries a...  \n4  These batteries are very long lasting the pric...  ",
      "text/html": "<div>\n<style scoped>\n    .dataframe tbody tr th:only-of-type {\n        vertical-align: middle;\n    }\n\n    .dataframe tbody tr th {\n        vertical-align: top;\n    }\n\n    .dataframe thead th {\n        text-align: right;\n    }\n</style>\n<table border=\"1\" class=\"dataframe\">\n  <thead>\n    <tr style=\"text-align: right;\">\n      <th></th>\n      <th>lemmas</th>\n      <th>reviews.text</th>\n    </tr>\n  </thead>\n  <tbody>\n    <tr>\n      <th>0</th>\n      <td>[-pron-, order, 3, of, -pron-, and, one, of, t...</td>\n      <td>I order 3 of them and one of the item is bad q...</td>\n    </tr>\n    <tr>\n      <th>1</th>\n      <td>[bulk, be, always, the, less, expensive, way, ...</td>\n      <td>Bulk is always the less expensive way to go fo...</td>\n    </tr>\n    <tr>\n      <th>2</th>\n      <td>[well, -pron-, be, not, duracell, but, for, th...</td>\n      <td>Well they are not Duracell but for the price i...</td>\n    </tr>\n    <tr>\n      <th>3</th>\n      <td>[seem, to, work, as, well, as, name, brand, ba...</td>\n      <td>Seem to work as well as name brand batteries a...</td>\n    </tr>\n    <tr>\n      <th>4</th>\n      <td>[these, battery, be, very, long, last, the, pr...</td>\n      <td>These batteries are very long lasting the pric...</td>\n    </tr>\n  </tbody>\n</table>\n</div>"
     },
     "execution_count": 62,
     "metadata": {},
     "output_type": "execute_result"
    }
   ],
   "source": [
    "cols = ['lemmas', 'reviews.text']\n",
    "df[cols].head()"
   ]
  },
  {
   "cell_type": "code",
   "execution_count": null,
   "metadata": {
    "colab": {
     "base_uri": "https://localhost:8080/",
     "height": 248
    },
    "id": "D4FNmpcNGEsl",
    "outputId": "5236c048-395c-408b-bf46-e6dbec91f2bc"
   },
   "outputs": [],
   "source": [
    "wc = count(df['lemmas'])\n",
    "wc_top20 = wc[wc['rank'] <= 20]\n",
    "\n",
    "squarify.plot(sizes=wc_top20['pct_total'], label=wc_top20['word'], alpha=.8 )\n",
    "plt.axis('off')\n",
    "plt.show()"
   ]
  },
  {
   "cell_type": "markdown",
   "metadata": {
    "id": "G_0hfUbGGEsn"
   },
   "source": [
    "## Challenge\n",
    "\n",
    "You should know how to apply lemmatization with Spacy to a corpus of text. "
   ]
  },
  {
   "cell_type": "markdown",
   "metadata": {
    "id": "TV0MV3qqGEso"
   },
   "source": [
    "# Review\n",
    "\n",
    "In this module project, you've seen us apply Natural Language Processing techniques (tokenization, stopword removal, and lemmatization) to a corpus of Amazon text reviews. We analyzed those reviews using these techniques and discovered that Amazon customers are generally satisfied with the battery life of Amazon products and generally appear satisfied. \n",
    "\n",
    "You will apply similar techniques to today's [module project assignment](LS_DS_411_Text_Data_Assignment.ipynb) to analyze coffee shop reviews from yelp. Remember that the techniques of processing the text are just the beginning. There are many ways to slice and dice the data. "
   ]
  },
  {
   "cell_type": "markdown",
   "metadata": {
    "id": "sf2wyGutGEso"
   },
   "source": [
    "# Sources\n",
    "\n",
    "* Spacy 101 - https://course.spacy.io\n",
    "* NLTK Book - https://www.nltk.org/book/\n",
    "* An Introduction to Information Retrieval - https://nlp.stanford.edu/IR-book/pdf/irbookonlinereading.pdf"
   ]
  },
  {
   "cell_type": "markdown",
   "metadata": {
    "id": "TIXFuZCEGEso",
    "toc-hr-collapsed": true
   },
   "source": [
    "## Advanced Resources & Techniques\n",
    "- Named Entity Recognition (NER)\n",
    "- Dependcy Trees \n",
    "- Generators\n",
    "- the major libraries (NLTK, Spacy, Gensim)"
   ]
  }
 ],
 "metadata": {
  "colab": {
   "collapsed_sections": [],
   "name": "COLAB VERSION LS_DS_411_Text Data_Lecture.ipynb",
   "provenance": []
  },
  "kernelspec": {
   "name": "unit_4p",
   "language": "python",
   "display_name": "Unit_4 (Python3)"
  },
  "language_info": {
   "codemirror_mode": {
    "name": "ipython",
    "version": 3
   },
   "file_extension": ".py",
   "mimetype": "text/x-python",
   "name": "python",
   "nbconvert_exporter": "python",
   "pygments_lexer": "ipython3",
   "version": "3.7.0"
  },
  "toc-autonumbering": false,
  "toc-showcode": false,
  "toc-showmarkdowntxt": false
 },
 "nbformat": 4,
 "nbformat_minor": 4
}