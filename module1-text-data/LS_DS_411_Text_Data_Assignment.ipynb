{
 "cells": [
  {
   "cell_type": "markdown",
   "metadata": {},
   "source": [
    "<img align=\"left\" src=\"https://lever-client-logos.s3.amazonaws.com/864372b1-534c-480e-acd5-9711f850815c-1524247202159.png\" width=200>\n",
    "<br></br>\n",
    "<br></br>\n",
    "\n",
    "# Natural Language Processing (NLP)\n",
    "## *Data Science Unit 4 Sprint 1 Assignment 1*\n",
    "\n",
    "Your goal in this assignment: find the attributes of the best & worst coffee shops in the dataset. The text is fairly raw: dates in the review, extra words in the `star_rating` column, etc. You'll probably want to clean that stuff up for a better analysis. \n",
    "\n",
    "Analyze the corpus of text using text visualizations of token frequency. Try cleaning the data as much as possible. Try the following techniques: \n",
    "- Lemmatization\n",
    "- Custom stopword removal\n",
    "\n",
    "Keep in mind the attributes of good tokens. Once you have a solid baseline, layer in the star rating in your visualization(s). Key part of this assignment - produce a write-up of the attributes of the best and worst coffee shops. Based on your analysis, what makes the best the best and the worst the worst. Use graphs and numbesr from your analysis to support your conclusions. There should be plenty of markdown cells! :coffee:"
   ]
  },
  {
   "cell_type": "code",
   "execution_count": 5,
   "metadata": {},
   "outputs": [
    {
     "data": {
      "image/jpeg": "[encoded data removed]",
      "text/html": [
       "\n",
       "        <iframe\n",
       "            width=\"400\"\n",
       "            height=\"300\"\n",
       "            src=\"https://www.youtube.com/embed/Jml7NVYm8cs\"\n",
       "            frameborder=\"0\"\n",
       "            allowfullscreen\n",
       "        ></iframe>\n",
       "        "
      ],
      "text/plain": [
       "<IPython.lib.display.YouTubeVideo at 0x1243479e8>"
      ]
     },
     "execution_count": 5,
     "metadata": {},
     "output_type": "execute_result"
    }
   ],
   "source": [
    "from IPython.display import YouTubeVideo\n",
    "\n",
    "YouTubeVideo('Jml7NVYm8cs')"
   ]
  },
  {
   "cell_type": "code",
   "execution_count": 2,
   "metadata": {},
   "outputs": [
    {
     "data": {
      "text/plain": [
       "'/Users/jonathansokoll/Documents/lambda/DS-Unit-4-Sprint-1-NLP/module1-text-data'"
      ]
     },
     "execution_count": 2,
     "metadata": {},
     "output_type": "execute_result"
    }
   ],
   "source": [
    "%pwd"
   ]
  },
  {
   "cell_type": "code",
   "execution_count": 11,
   "metadata": {},
   "outputs": [
    {
     "data": {
      "text/plain": "                  coffee_shop_name  \\\n0  The Factory - Cafe With a Soul    \n1  The Factory - Cafe With a Soul    \n2  The Factory - Cafe With a Soul    \n3  The Factory - Cafe With a Soul    \n4  The Factory - Cafe With a Soul    \n\n                                    full_review_text        star_rating  \n0   11/25/2016 1 check-in Love love loved the atm...   5.0 star rating   \n1   12/2/2016 Listed in Date Night: Austin, Ambia...   4.0 star rating   \n2   11/30/2016 1 check-in Listed in Brunch Spots ...   4.0 star rating   \n3   11/25/2016 Very cool decor! Good drinks Nice ...   2.0 star rating   \n4   12/3/2016 1 check-in They are located within ...   4.0 star rating   ",
      "text/html": "<div>\n<style scoped>\n    .dataframe tbody tr th:only-of-type {\n        vertical-align: middle;\n    }\n\n    .dataframe tbody tr th {\n        vertical-align: top;\n    }\n\n    .dataframe thead th {\n        text-align: right;\n    }\n</style>\n<table border=\"1\" class=\"dataframe\">\n  <thead>\n    <tr style=\"text-align: right;\">\n      <th></th>\n      <th>coffee_shop_name</th>\n      <th>full_review_text</th>\n      <th>star_rating</th>\n    </tr>\n  </thead>\n  <tbody>\n    <tr>\n      <th>0</th>\n      <td>The Factory - Cafe With a Soul</td>\n      <td>11/25/2016 1 check-in Love love loved the atm...</td>\n      <td>5.0 star rating</td>\n    </tr>\n    <tr>\n      <th>1</th>\n      <td>The Factory - Cafe With a Soul</td>\n      <td>12/2/2016 Listed in Date Night: Austin, Ambia...</td>\n      <td>4.0 star rating</td>\n    </tr>\n    <tr>\n      <th>2</th>\n      <td>The Factory - Cafe With a Soul</td>\n      <td>11/30/2016 1 check-in Listed in Brunch Spots ...</td>\n      <td>4.0 star rating</td>\n    </tr>\n    <tr>\n      <th>3</th>\n      <td>The Factory - Cafe With a Soul</td>\n      <td>11/25/2016 Very cool decor! Good drinks Nice ...</td>\n      <td>2.0 star rating</td>\n    </tr>\n    <tr>\n      <th>4</th>\n      <td>The Factory - Cafe With a Soul</td>\n      <td>12/3/2016 1 check-in They are located within ...</td>\n      <td>4.0 star rating</td>\n    </tr>\n  </tbody>\n</table>\n</div>"
     },
     "execution_count": 11,
     "metadata": {},
     "output_type": "execute_result"
    }
   ],
   "source": [
    "import pandas as pd\n",
    "from pandas_profiling import ProfileReport\n",
    "\n",
    "url = \"https://raw.githubusercontent.com/LambdaSchool/DS-Unit-4-Sprint-1-NLP/main/module1-text-data/data/yelp_coffeeshop_review_data.csv\"\n",
    "\n",
    "shops = pd.read_csv(url)\n",
    "shops.head()"
   ]
  },
  {
   "cell_type": "code",
   "execution_count": 14,
   "metadata": {},
   "outputs": [
    {
     "data": {
      "text/plain": "Index(['coffee_shop_name', 'full_review_text', 'star_rating'], dtype='object')"
     },
     "execution_count": 14,
     "metadata": {},
     "output_type": "execute_result"
    }
   ],
   "source": [
    "# Start here\n",
    "shops.columns"
   ]
  },
  {
   "cell_type": "code",
   "execution_count": 16,
   "outputs": [
    {
     "name": "stderr",
     "output_type": "stream",
     "text": [
      "Exception ignored in: <function tqdm.__del__ at 0x7fdc368506a8>\n",
      "Traceback (most recent call last):\n",
      "  File \"/opt/anaconda3/envs/Unit_4/lib/python3.7/site-packages/tqdm/std.py\", line 1152, in __del__\n",
      "    self.close()\n",
      "  File \"/opt/anaconda3/envs/Unit_4/lib/python3.7/site-packages/tqdm/notebook.py\", line 283, in close\n",
      "    self.disp(bar_style='danger', check_delay=False)\n",
      "AttributeError: 'tqdm' object has no attribute 'disp'\n",
      "Exception ignored in: <function tqdm.__del__ at 0x7fdc368506a8>\n",
      "Traceback (most recent call last):\n",
      "  File \"/opt/anaconda3/envs/Unit_4/lib/python3.7/site-packages/tqdm/std.py\", line 1152, in __del__\n",
      "    self.close()\n",
      "  File \"/opt/anaconda3/envs/Unit_4/lib/python3.7/site-packages/tqdm/notebook.py\", line 283, in close\n",
      "    self.disp(bar_style='danger', check_delay=False)\n",
      "AttributeError: 'tqdm' object has no attribute 'disp'\n",
      "Exception ignored in: <function tqdm.__del__ at 0x7fdc368506a8>\n",
      "Traceback (most recent call last):\n",
      "  File \"/opt/anaconda3/envs/Unit_4/lib/python3.7/site-packages/tqdm/std.py\", line 1152, in __del__\n",
      "    self.close()\n",
      "  File \"/opt/anaconda3/envs/Unit_4/lib/python3.7/site-packages/tqdm/notebook.py\", line 283, in close\n",
      "    self.disp(bar_style='danger', check_delay=False)\n",
      "AttributeError: 'tqdm' object has no attribute 'disp'\n"
     ]
    }
   ],
   "source": [
    "import spacy\n",
    "\n",
    "nlp = spacy.load('en_core_web_md')\n",
    "\n"
   ],
   "metadata": {
    "collapsed": false,
    "pycharm": {
     "name": "#%%\n"
    }
   }
  },
  {
   "cell_type": "code",
   "execution_count": 80,
   "outputs": [],
   "source": [
    "STOP_WORDS = nlp.Defaults.stop_words.union(['coffee'])\n",
    "\n",
    "spacy_tokens = []\n",
    "\n",
    "# Tokenize the text reviews\n",
    "\n",
    "for doc in nlp.pipe(shops['full_review_text']):\n",
    "    doc_tokens = []\n",
    "    for t in doc:\n",
    "        if (t.text.lower() not in STOP_WORDS) & (t.is_punct == False) & (len(t.text) > 2):\n",
    "            doc_tokens.append(t.text)\n",
    "    spacy_tokens.append(doc_tokens)\n",
    "\n"
   ],
   "metadata": {
    "collapsed": false,
    "pycharm": {
     "name": "#%%\n"
    }
   }
  },
  {
   "cell_type": "code",
   "execution_count": 81,
   "outputs": [
    {
     "data": {
      "text/plain": "                  coffee_shop_name  \\\n0  The Factory - Cafe With a Soul    \n1  The Factory - Cafe With a Soul    \n2  The Factory - Cafe With a Soul    \n3  The Factory - Cafe With a Soul    \n4  The Factory - Cafe With a Soul    \n\n                                    full_review_text        star_rating  \\\n0   11/25/2016 1 check-in Love love loved the atm...   5.0 star rating    \n1   12/2/2016 Listed in Date Night: Austin, Ambia...   4.0 star rating    \n2   11/30/2016 1 check-in Listed in Brunch Spots ...   4.0 star rating    \n3   11/25/2016 Very cool decor! Good drinks Nice ...   2.0 star rating    \n4   12/3/2016 1 check-in They are located within ...   4.0 star rating    \n\n                                    review_tokenized  \n0  [11/25/2016, check, Love, love, loved, atmosph...  \n1  [12/2/2016, Listed, Date, Night, Austin, Ambia...  \n2  [11/30/2016, check, Listed, Brunch, Spots, lov...  \n3  [11/25/2016, cool, decor, Good, drinks, Nice, ...  \n4  [12/3/2016, check, located, Northcross, mall, ...  ",
      "text/html": "<div>\n<style scoped>\n    .dataframe tbody tr th:only-of-type {\n        vertical-align: middle;\n    }\n\n    .dataframe tbody tr th {\n        vertical-align: top;\n    }\n\n    .dataframe thead th {\n        text-align: right;\n    }\n</style>\n<table border=\"1\" class=\"dataframe\">\n  <thead>\n    <tr style=\"text-align: right;\">\n      <th></th>\n      <th>coffee_shop_name</th>\n      <th>full_review_text</th>\n      <th>star_rating</th>\n      <th>review_tokenized</th>\n    </tr>\n  </thead>\n  <tbody>\n    <tr>\n      <th>0</th>\n      <td>The Factory - Cafe With a Soul</td>\n      <td>11/25/2016 1 check-in Love love loved the atm...</td>\n      <td>5.0 star rating</td>\n      <td>[11/25/2016, check, Love, love, loved, atmosph...</td>\n    </tr>\n    <tr>\n      <th>1</th>\n      <td>The Factory - Cafe With a Soul</td>\n      <td>12/2/2016 Listed in Date Night: Austin, Ambia...</td>\n      <td>4.0 star rating</td>\n      <td>[12/2/2016, Listed, Date, Night, Austin, Ambia...</td>\n    </tr>\n    <tr>\n      <th>2</th>\n      <td>The Factory - Cafe With a Soul</td>\n      <td>11/30/2016 1 check-in Listed in Brunch Spots ...</td>\n      <td>4.0 star rating</td>\n      <td>[11/30/2016, check, Listed, Brunch, Spots, lov...</td>\n    </tr>\n    <tr>\n      <th>3</th>\n      <td>The Factory - Cafe With a Soul</td>\n      <td>11/25/2016 Very cool decor! Good drinks Nice ...</td>\n      <td>2.0 star rating</td>\n      <td>[11/25/2016, cool, decor, Good, drinks, Nice, ...</td>\n    </tr>\n    <tr>\n      <th>4</th>\n      <td>The Factory - Cafe With a Soul</td>\n      <td>12/3/2016 1 check-in They are located within ...</td>\n      <td>4.0 star rating</td>\n      <td>[12/3/2016, check, located, Northcross, mall, ...</td>\n    </tr>\n  </tbody>\n</table>\n</div>"
     },
     "execution_count": 81,
     "metadata": {},
     "output_type": "execute_result"
    }
   ],
   "source": [
    "df = shops.copy()\n",
    "df['review_tokenized'] = spacy_tokens\n",
    "df.head()"
   ],
   "metadata": {
    "collapsed": false,
    "pycharm": {
     "name": "#%%\n"
    }
   }
  },
  {
   "cell_type": "code",
   "execution_count": 61,
   "outputs": [],
   "source": [
    "import re\n",
    "\n",
    "# get the ratings as the first 3 characters in df['star_rating']\n",
    "ratings = []\n",
    "\n",
    "df['ratings'] = df['star_rating'].apply(lambda x: re.sub('[a-zA-Z ]', '', x))\n",
    "df[['ratings', 'star_rating']]\n",
    "df['ratings'] = df['ratings'].astype(float)"
   ],
   "metadata": {
    "collapsed": false,
    "pycharm": {
     "name": "#%%\n"
    }
   }
  },
  {
   "cell_type": "code",
   "execution_count": 49,
   "outputs": [
    {
     "data": {
      "text/plain": "<AxesSubplot:xlabel='ratings', ylabel='Count'>"
     },
     "execution_count": 49,
     "metadata": {},
     "output_type": "execute_result"
    },
    {
     "data": {
      "text/plain": "<Figure size 432x288 with 1 Axes>",
      "image/png": "[encoded data removed]"
     },
     "metadata": {
      "needs_background": "light"
     },
     "output_type": "display_data"
    }
   ],
   "source": [
    "# EDA\n",
    "\n",
    "df.coffee_shop_name.unique()\n",
    "\n",
    "import seaborn as sns\n",
    "sns.histplot(df['ratings'])\n",
    "\n"
   ],
   "metadata": {
    "collapsed": false,
    "pycharm": {
     "name": "#%%\n"
    }
   }
  },
  {
   "cell_type": "code",
   "execution_count": 68,
   "outputs": [
    {
     "data": {
      "text/plain": "                        coffee_shop_name  avg_ratings  num_ratings\n1   The Marvelous Vintage Tea Party Co.      5.000000           10\n71        Lola Savannah Coffee Downtown      5.000000            4\n20                Mañana Coffee & Juice      4.848485           33\n10                         Brian’s Brew      4.844444           45\n27  Third Coast Coffee Roasting Company      4.821429           56\n..                                   ...          ...          ...\n61                            Stinson’s      3.810000          100\n59       Kick Butt Coffee Music & Booze      3.720000          100\n63                                Pacha      3.690000          100\n64          Strange Brew, Austin Coffee      3.600000          100\n50                 Once Over Coffee Bar      3.370000          100\n\n[79 rows x 3 columns]",
      "text/html": "<div>\n<style scoped>\n    .dataframe tbody tr th:only-of-type {\n        vertical-align: middle;\n    }\n\n    .dataframe tbody tr th {\n        vertical-align: top;\n    }\n\n    .dataframe thead th {\n        text-align: right;\n    }\n</style>\n<table border=\"1\" class=\"dataframe\">\n  <thead>\n    <tr style=\"text-align: right;\">\n      <th></th>\n      <th>coffee_shop_name</th>\n      <th>avg_ratings</th>\n      <th>num_ratings</th>\n    </tr>\n  </thead>\n  <tbody>\n    <tr>\n      <th>1</th>\n      <td>The Marvelous Vintage Tea Party Co.</td>\n      <td>5.000000</td>\n      <td>10</td>\n    </tr>\n    <tr>\n      <th>71</th>\n      <td>Lola Savannah Coffee Downtown</td>\n      <td>5.000000</td>\n      <td>4</td>\n    </tr>\n    <tr>\n      <th>20</th>\n      <td>Mañana Coffee &amp; Juice</td>\n      <td>4.848485</td>\n      <td>33</td>\n    </tr>\n    <tr>\n      <th>10</th>\n      <td>Brian’s Brew</td>\n      <td>4.844444</td>\n      <td>45</td>\n    </tr>\n    <tr>\n      <th>27</th>\n      <td>Third Coast Coffee Roasting Company</td>\n      <td>4.821429</td>\n      <td>56</td>\n    </tr>\n    <tr>\n      <th>...</th>\n      <td>...</td>\n      <td>...</td>\n      <td>...</td>\n    </tr>\n    <tr>\n      <th>61</th>\n      <td>Stinson’s</td>\n      <td>3.810000</td>\n      <td>100</td>\n    </tr>\n    <tr>\n      <th>59</th>\n      <td>Kick Butt Coffee Music &amp; Booze</td>\n      <td>3.720000</td>\n      <td>100</td>\n    </tr>\n    <tr>\n      <th>63</th>\n      <td>Pacha</td>\n      <td>3.690000</td>\n      <td>100</td>\n    </tr>\n    <tr>\n      <th>64</th>\n      <td>Strange Brew, Austin Coffee</td>\n      <td>3.600000</td>\n      <td>100</td>\n    </tr>\n    <tr>\n      <th>50</th>\n      <td>Once Over Coffee Bar</td>\n      <td>3.370000</td>\n      <td>100</td>\n    </tr>\n  </tbody>\n</table>\n<p>79 rows × 3 columns</p>\n</div>"
     },
     "execution_count": 68,
     "metadata": {},
     "output_type": "execute_result"
    }
   ],
   "source": [
    "### Analysing the coffee shops by rating\n",
    "import numpy as np\n",
    "\n",
    "# Average rating per restaraunt\n",
    "df_unique = pd.DataFrame(df['coffee_shop_name'].unique(), columns=['coffee_shop_name'])\n",
    "\n",
    "avg_ratings = [np.mean(df[df['coffee_shop_name'] == x]['ratings']) for x in df_unique['coffee_shop_name']]\n",
    "df_unique['avg_ratings'] = avg_ratings\n",
    "\n",
    "\n",
    "\n",
    "# adding number of ratings\n",
    "\n",
    "count = [len(df[df['coffee_shop_name'] == x]['ratings']) for x in df_unique['coffee_shop_name']]\n",
    "df_unique['num_ratings'] = count\n",
    "df_unique.sort_values(by='avg_ratings', ascending=False)"
   ],
   "metadata": {
    "collapsed": false,
    "pycharm": {
     "name": "#%%\n"
    }
   }
  },
  {
   "cell_type": "code",
   "execution_count": 84,
   "outputs": [
    {
     "data": {
      "text/plain": "            word  appears_in  count     rank  pct_total  cul_pct_total  \\\n137        place        3640   5401      1.0   0.015533       0.015533   \n227         good        2573   3585      2.0   0.010310       0.025843   \n25         check        3100   3284      3.0   0.009444       0.035287   \n175         like        2098   3026      4.0   0.008702       0.043989   \n136        great        2277   2975      5.0   0.008556       0.052545   \n...          ...         ...    ...      ...        ...            ...   \n23094    roomier           1      1  23095.0   0.000003       0.999988   \n23093   windowed           1      1  23096.0   0.000003       0.999991   \n23096  actuality           1      1  23097.0   0.000003       0.999994   \n23095      crass           1      1  23098.0   0.000003       0.999997   \n23098  digestion           1      1  23099.0   0.000003       1.000000   \n\n       appears_in_pct  \n137          0.477941  \n227          0.337841  \n25           0.407038  \n175          0.275473  \n136          0.298976  \n...               ...  \n23094        0.000131  \n23093        0.000131  \n23096        0.000131  \n23095        0.000131  \n23098        0.000131  \n\n[23099 rows x 7 columns]",
      "text/html": "<div>\n<style scoped>\n    .dataframe tbody tr th:only-of-type {\n        vertical-align: middle;\n    }\n\n    .dataframe tbody tr th {\n        vertical-align: top;\n    }\n\n    .dataframe thead th {\n        text-align: right;\n    }\n</style>\n<table border=\"1\" class=\"dataframe\">\n  <thead>\n    <tr style=\"text-align: right;\">\n      <th></th>\n      <th>word</th>\n      <th>appears_in</th>\n      <th>count</th>\n      <th>rank</th>\n      <th>pct_total</th>\n      <th>cul_pct_total</th>\n      <th>appears_in_pct</th>\n    </tr>\n  </thead>\n  <tbody>\n    <tr>\n      <th>137</th>\n      <td>place</td>\n      <td>3640</td>\n      <td>5401</td>\n      <td>1.0</td>\n      <td>0.015533</td>\n      <td>0.015533</td>\n      <td>0.477941</td>\n    </tr>\n    <tr>\n      <th>227</th>\n      <td>good</td>\n      <td>2573</td>\n      <td>3585</td>\n      <td>2.0</td>\n      <td>0.010310</td>\n      <td>0.025843</td>\n      <td>0.337841</td>\n    </tr>\n    <tr>\n      <th>25</th>\n      <td>check</td>\n      <td>3100</td>\n      <td>3284</td>\n      <td>3.0</td>\n      <td>0.009444</td>\n      <td>0.035287</td>\n      <td>0.407038</td>\n    </tr>\n    <tr>\n      <th>175</th>\n      <td>like</td>\n      <td>2098</td>\n      <td>3026</td>\n      <td>4.0</td>\n      <td>0.008702</td>\n      <td>0.043989</td>\n      <td>0.275473</td>\n    </tr>\n    <tr>\n      <th>136</th>\n      <td>great</td>\n      <td>2277</td>\n      <td>2975</td>\n      <td>5.0</td>\n      <td>0.008556</td>\n      <td>0.052545</td>\n      <td>0.298976</td>\n    </tr>\n    <tr>\n      <th>...</th>\n      <td>...</td>\n      <td>...</td>\n      <td>...</td>\n      <td>...</td>\n      <td>...</td>\n      <td>...</td>\n      <td>...</td>\n    </tr>\n    <tr>\n      <th>23094</th>\n      <td>roomier</td>\n      <td>1</td>\n      <td>1</td>\n      <td>23095.0</td>\n      <td>0.000003</td>\n      <td>0.999988</td>\n      <td>0.000131</td>\n    </tr>\n    <tr>\n      <th>23093</th>\n      <td>windowed</td>\n      <td>1</td>\n      <td>1</td>\n      <td>23096.0</td>\n      <td>0.000003</td>\n      <td>0.999991</td>\n      <td>0.000131</td>\n    </tr>\n    <tr>\n      <th>23096</th>\n      <td>actuality</td>\n      <td>1</td>\n      <td>1</td>\n      <td>23097.0</td>\n      <td>0.000003</td>\n      <td>0.999994</td>\n      <td>0.000131</td>\n    </tr>\n    <tr>\n      <th>23095</th>\n      <td>crass</td>\n      <td>1</td>\n      <td>1</td>\n      <td>23098.0</td>\n      <td>0.000003</td>\n      <td>0.999997</td>\n      <td>0.000131</td>\n    </tr>\n    <tr>\n      <th>23098</th>\n      <td>digestion</td>\n      <td>1</td>\n      <td>1</td>\n      <td>23099.0</td>\n      <td>0.000003</td>\n      <td>1.000000</td>\n      <td>0.000131</td>\n    </tr>\n  </tbody>\n</table>\n<p>23099 rows × 7 columns</p>\n</div>"
     },
     "execution_count": 84,
     "metadata": {},
     "output_type": "execute_result"
    }
   ],
   "source": [
    "### Analysing the coffee shops by tokens\n",
    "from collections import Counter\n",
    "\n",
    "def count(tokens):\n",
    "    \"\"\"\n",
    "    Calculates some basic statistics about tokens in our corpus (i.e. corpus means collections text data)\n",
    "    \"\"\"\n",
    "    # stores the count of each token\n",
    "    word_counts = Counter()\n",
    "\n",
    "    # stores the number of docs that each token appears in\n",
    "    appears_in = Counter()\n",
    "\n",
    "    total_docs = len(tokens)\n",
    "\n",
    "    for token in tokens:\n",
    "        # stores count of every appearance of a token\n",
    "        word_counts.update(token)\n",
    "        # use set() in order to not count duplicates, thereby count the num of docs that each token appears in\n",
    "        appears_in.update(set(token))\n",
    "\n",
    "    # build word count dataframe\n",
    "    temp = zip(word_counts.keys(), word_counts.values())\n",
    "    wc = pd.DataFrame(temp, columns = ['word', 'count'])\n",
    "\n",
    "    # rank the the word counts\n",
    "    wc['rank'] = wc['count'].rank(method='first', ascending=False)\n",
    "    total = wc['count'].sum()\n",
    "\n",
    "    # calculate the percent total of each token\n",
    "    wc['pct_total'] = wc['count'].apply(lambda token_count: token_count / total)\n",
    "\n",
    "    # calculate the cumulative percent total of word counts\n",
    "    wc = wc.sort_values(by='rank')\n",
    "    wc['cul_pct_total'] = wc['pct_total'].cumsum()\n",
    "\n",
    "    # create dataframe for document stats\n",
    "    t2 = zip(appears_in.keys(), appears_in.values())\n",
    "    ac = pd.DataFrame(t2, columns=['word', 'appears_in'])\n",
    "\n",
    "    # merge word count stats with doc stats\n",
    "    wc = ac.merge(wc, on='word')\n",
    "\n",
    "    wc['appears_in_pct'] = wc['appears_in'].apply(lambda x: x / total_docs)\n",
    "\n",
    "    return wc.sort_values(by='rank')\n",
    "\n",
    "count(df['review_tokenized'])"
   ],
   "metadata": {
    "collapsed": false,
    "pycharm": {
     "name": "#%%\n"
    }
   }
  },
  {
   "cell_type": "markdown",
   "source": [
    "### Now it's time to lemmatize the tokens\n",
    "\n"
   ],
   "metadata": {
    "collapsed": false,
    "pycharm": {
     "name": "#%% md\n"
    }
   }
  },
  {
   "cell_type": "code",
   "execution_count": 99,
   "outputs": [
    {
     "ename": "KeyboardInterrupt",
     "evalue": "",
     "output_type": "error",
     "traceback": [
      "\u001B[0;31m---------------------------------------------------------------------------\u001B[0m",
      "\u001B[0;31mKeyboardInterrupt\u001B[0m                         Traceback (most recent call last)",
      "\u001B[0;32m/var/folders/mg/_r0tzxlj51xd5dqszvs8fvth0000gn/T/ipykernel_4730/1529774706.py\u001B[0m in \u001B[0;36m<module>\u001B[0;34m\u001B[0m\n\u001B[1;32m     10\u001B[0m         \u001B[0mdoc_lemmas\u001B[0m\u001B[0;34m.\u001B[0m\u001B[0mappend\u001B[0m\u001B[0;34m(\u001B[0m\u001B[0mlemmas\u001B[0m\u001B[0;34m)\u001B[0m\u001B[0;34m\u001B[0m\u001B[0m\n\u001B[1;32m     11\u001B[0m \u001B[0;34m\u001B[0m\u001B[0m\n\u001B[0;32m---> 12\u001B[0;31m \u001B[0mdf\u001B[0m\u001B[0;34m[\u001B[0m\u001B[0;34m'token_lemmas'\u001B[0m\u001B[0;34m]\u001B[0m \u001B[0;34m=\u001B[0m \u001B[0mdf\u001B[0m\u001B[0;34m[\u001B[0m\u001B[0;34m'full_review_text'\u001B[0m\u001B[0;34m]\u001B[0m\u001B[0;34m.\u001B[0m\u001B[0mapply\u001B[0m\u001B[0;34m(\u001B[0m\u001B[0mget_lemmas\u001B[0m\u001B[0;34m)\u001B[0m\u001B[0;34m\u001B[0m\u001B[0m\n\u001B[0m\u001B[1;32m     13\u001B[0m \u001B[0;34m\u001B[0m\u001B[0m\n\u001B[1;32m     14\u001B[0m \u001B[0mcols\u001B[0m \u001B[0;34m=\u001B[0m \u001B[0;34m[\u001B[0m\u001B[0;34m'full_review_text'\u001B[0m\u001B[0;34m,\u001B[0m \u001B[0;34m'token_lemmas'\u001B[0m\u001B[0;34m]\u001B[0m\u001B[0;34m\u001B[0m\u001B[0m\n",
      "\u001B[0;32m/opt/anaconda3/envs/Unit_4/lib/python3.7/site-packages/pandas/core/series.py\u001B[0m in \u001B[0;36mapply\u001B[0;34m(self, func, convert_dtype, args, **kwds)\u001B[0m\n\u001B[1;32m   4211\u001B[0m             \u001B[0;32melse\u001B[0m\u001B[0;34m:\u001B[0m\u001B[0;34m\u001B[0m\u001B[0m\n\u001B[1;32m   4212\u001B[0m                 \u001B[0mvalues\u001B[0m \u001B[0;34m=\u001B[0m \u001B[0mself\u001B[0m\u001B[0;34m.\u001B[0m\u001B[0mastype\u001B[0m\u001B[0;34m(\u001B[0m\u001B[0mobject\u001B[0m\u001B[0;34m)\u001B[0m\u001B[0;34m.\u001B[0m\u001B[0m_values\u001B[0m\u001B[0;34m\u001B[0m\u001B[0m\n\u001B[0;32m-> 4213\u001B[0;31m                 \u001B[0mmapped\u001B[0m \u001B[0;34m=\u001B[0m \u001B[0mlib\u001B[0m\u001B[0;34m.\u001B[0m\u001B[0mmap_infer\u001B[0m\u001B[0;34m(\u001B[0m\u001B[0mvalues\u001B[0m\u001B[0;34m,\u001B[0m \u001B[0mf\u001B[0m\u001B[0;34m,\u001B[0m \u001B[0mconvert\u001B[0m\u001B[0;34m=\u001B[0m\u001B[0mconvert_dtype\u001B[0m\u001B[0;34m)\u001B[0m\u001B[0;34m\u001B[0m\u001B[0m\n\u001B[0m\u001B[1;32m   4214\u001B[0m \u001B[0;34m\u001B[0m\u001B[0m\n\u001B[1;32m   4215\u001B[0m         \u001B[0;32mif\u001B[0m \u001B[0mlen\u001B[0m\u001B[0;34m(\u001B[0m\u001B[0mmapped\u001B[0m\u001B[0;34m)\u001B[0m \u001B[0;32mand\u001B[0m \u001B[0misinstance\u001B[0m\u001B[0;34m(\u001B[0m\u001B[0mmapped\u001B[0m\u001B[0;34m[\u001B[0m\u001B[0;36m0\u001B[0m\u001B[0;34m]\u001B[0m\u001B[0;34m,\u001B[0m \u001B[0mSeries\u001B[0m\u001B[0;34m)\u001B[0m\u001B[0;34m:\u001B[0m\u001B[0;34m\u001B[0m\u001B[0m\n",
      "\u001B[0;32mpandas/_libs/lib.pyx\u001B[0m in \u001B[0;36mpandas._libs.lib.map_infer\u001B[0;34m()\u001B[0m\n",
      "\u001B[0;32m/var/folders/mg/_r0tzxlj51xd5dqszvs8fvth0000gn/T/ipykernel_4730/1529774706.py\u001B[0m in \u001B[0;36mget_lemmas\u001B[0;34m(text)\u001B[0m\n\u001B[1;32m      3\u001B[0m \u001B[0;32mdef\u001B[0m \u001B[0mget_lemmas\u001B[0m\u001B[0;34m(\u001B[0m\u001B[0mtext\u001B[0m\u001B[0;34m)\u001B[0m\u001B[0;34m:\u001B[0m\u001B[0;34m\u001B[0m\u001B[0m\n\u001B[1;32m      4\u001B[0m     \u001B[0mdoc_lemmas\u001B[0m \u001B[0;34m=\u001B[0m \u001B[0;34m[\u001B[0m\u001B[0;34m]\u001B[0m\u001B[0;34m\u001B[0m\u001B[0m\n\u001B[0;32m----> 5\u001B[0;31m     \u001B[0;32mfor\u001B[0m \u001B[0mdoc\u001B[0m \u001B[0;32min\u001B[0m \u001B[0mnlp\u001B[0m\u001B[0;34m.\u001B[0m\u001B[0mpipe\u001B[0m\u001B[0;34m(\u001B[0m\u001B[0mtext\u001B[0m\u001B[0;34m)\u001B[0m\u001B[0;34m:\u001B[0m\u001B[0;34m\u001B[0m\u001B[0m\n\u001B[0m\u001B[1;32m      6\u001B[0m         \u001B[0mlemmas\u001B[0m \u001B[0;34m=\u001B[0m \u001B[0;34m[\u001B[0m\u001B[0;34m]\u001B[0m\u001B[0;34m\u001B[0m\u001B[0m\n\u001B[1;32m      7\u001B[0m         \u001B[0;32mfor\u001B[0m \u001B[0mtoken\u001B[0m \u001B[0;32min\u001B[0m \u001B[0mdoc\u001B[0m\u001B[0;34m:\u001B[0m\u001B[0;34m\u001B[0m\u001B[0m\n",
      "\u001B[0;32m/opt/anaconda3/envs/Unit_4/lib/python3.7/site-packages/spacy/language.py\u001B[0m in \u001B[0;36mpipe\u001B[0;34m(self, texts, as_tuples, n_threads, batch_size, disable, cleanup, component_cfg, n_process)\u001B[0m\n\u001B[1;32m    814\u001B[0m         \u001B[0moriginal_strings_data\u001B[0m \u001B[0;34m=\u001B[0m \u001B[0;32mNone\u001B[0m\u001B[0;34m\u001B[0m\u001B[0m\n\u001B[1;32m    815\u001B[0m         \u001B[0mnr_seen\u001B[0m \u001B[0;34m=\u001B[0m \u001B[0;36m0\u001B[0m\u001B[0;34m\u001B[0m\u001B[0m\n\u001B[0;32m--> 816\u001B[0;31m         \u001B[0;32mfor\u001B[0m \u001B[0mdoc\u001B[0m \u001B[0;32min\u001B[0m \u001B[0mdocs\u001B[0m\u001B[0;34m:\u001B[0m\u001B[0;34m\u001B[0m\u001B[0m\n\u001B[0m\u001B[1;32m    817\u001B[0m             \u001B[0;32myield\u001B[0m \u001B[0mdoc\u001B[0m\u001B[0;34m\u001B[0m\u001B[0m\n\u001B[1;32m    818\u001B[0m             \u001B[0;32mif\u001B[0m \u001B[0mcleanup\u001B[0m\u001B[0;34m:\u001B[0m\u001B[0;34m\u001B[0m\u001B[0m\n",
      "\u001B[0;32mnn_parser.pyx\u001B[0m in \u001B[0;36mpipe\u001B[0;34m()\u001B[0m\n",
      "\u001B[0;32m/opt/anaconda3/envs/Unit_4/lib/python3.7/site-packages/spacy/util.py\u001B[0m in \u001B[0;36mminibatch\u001B[0;34m(items, size)\u001B[0m\n\u001B[1;32m    479\u001B[0m     \u001B[0;32mwhile\u001B[0m \u001B[0;32mTrue\u001B[0m\u001B[0;34m:\u001B[0m\u001B[0;34m\u001B[0m\u001B[0m\n\u001B[1;32m    480\u001B[0m         \u001B[0mbatch_size\u001B[0m \u001B[0;34m=\u001B[0m \u001B[0mnext\u001B[0m\u001B[0;34m(\u001B[0m\u001B[0msize_\u001B[0m\u001B[0;34m)\u001B[0m\u001B[0;34m\u001B[0m\u001B[0m\n\u001B[0;32m--> 481\u001B[0;31m         \u001B[0mbatch\u001B[0m \u001B[0;34m=\u001B[0m \u001B[0mlist\u001B[0m\u001B[0;34m(\u001B[0m\u001B[0mitertools\u001B[0m\u001B[0;34m.\u001B[0m\u001B[0mislice\u001B[0m\u001B[0;34m(\u001B[0m\u001B[0mitems\u001B[0m\u001B[0;34m,\u001B[0m \u001B[0mint\u001B[0m\u001B[0;34m(\u001B[0m\u001B[0mbatch_size\u001B[0m\u001B[0;34m)\u001B[0m\u001B[0;34m)\u001B[0m\u001B[0;34m)\u001B[0m\u001B[0;34m\u001B[0m\u001B[0m\n\u001B[0m\u001B[1;32m    482\u001B[0m         \u001B[0;32mif\u001B[0m \u001B[0mlen\u001B[0m\u001B[0;34m(\u001B[0m\u001B[0mbatch\u001B[0m\u001B[0;34m)\u001B[0m \u001B[0;34m==\u001B[0m \u001B[0;36m0\u001B[0m\u001B[0;34m:\u001B[0m\u001B[0;34m\u001B[0m\u001B[0m\n\u001B[1;32m    483\u001B[0m             \u001B[0;32mbreak\u001B[0m\u001B[0;34m\u001B[0m\u001B[0m\n",
      "\u001B[0;32mnn_parser.pyx\u001B[0m in \u001B[0;36mpipe\u001B[0;34m()\u001B[0m\n",
      "\u001B[0;32m/opt/anaconda3/envs/Unit_4/lib/python3.7/site-packages/spacy/util.py\u001B[0m in \u001B[0;36mminibatch\u001B[0;34m(items, size)\u001B[0m\n\u001B[1;32m    479\u001B[0m     \u001B[0;32mwhile\u001B[0m \u001B[0;32mTrue\u001B[0m\u001B[0;34m:\u001B[0m\u001B[0;34m\u001B[0m\u001B[0m\n\u001B[1;32m    480\u001B[0m         \u001B[0mbatch_size\u001B[0m \u001B[0;34m=\u001B[0m \u001B[0mnext\u001B[0m\u001B[0;34m(\u001B[0m\u001B[0msize_\u001B[0m\u001B[0;34m)\u001B[0m\u001B[0;34m\u001B[0m\u001B[0m\n\u001B[0;32m--> 481\u001B[0;31m         \u001B[0mbatch\u001B[0m \u001B[0;34m=\u001B[0m \u001B[0mlist\u001B[0m\u001B[0;34m(\u001B[0m\u001B[0mitertools\u001B[0m\u001B[0;34m.\u001B[0m\u001B[0mislice\u001B[0m\u001B[0;34m(\u001B[0m\u001B[0mitems\u001B[0m\u001B[0;34m,\u001B[0m \u001B[0mint\u001B[0m\u001B[0;34m(\u001B[0m\u001B[0mbatch_size\u001B[0m\u001B[0;34m)\u001B[0m\u001B[0;34m)\u001B[0m\u001B[0;34m)\u001B[0m\u001B[0;34m\u001B[0m\u001B[0m\n\u001B[0m\u001B[1;32m    482\u001B[0m         \u001B[0;32mif\u001B[0m \u001B[0mlen\u001B[0m\u001B[0;34m(\u001B[0m\u001B[0mbatch\u001B[0m\u001B[0;34m)\u001B[0m \u001B[0;34m==\u001B[0m \u001B[0;36m0\u001B[0m\u001B[0;34m:\u001B[0m\u001B[0;34m\u001B[0m\u001B[0m\n\u001B[1;32m    483\u001B[0m             \u001B[0;32mbreak\u001B[0m\u001B[0;34m\u001B[0m\u001B[0m\n",
      "\u001B[0;32mpipes.pyx\u001B[0m in \u001B[0;36mpipe\u001B[0;34m()\u001B[0m\n",
      "\u001B[0;32m/opt/anaconda3/envs/Unit_4/lib/python3.7/site-packages/spacy/util.py\u001B[0m in \u001B[0;36mminibatch\u001B[0;34m(items, size)\u001B[0m\n\u001B[1;32m    479\u001B[0m     \u001B[0;32mwhile\u001B[0m \u001B[0;32mTrue\u001B[0m\u001B[0;34m:\u001B[0m\u001B[0;34m\u001B[0m\u001B[0m\n\u001B[1;32m    480\u001B[0m         \u001B[0mbatch_size\u001B[0m \u001B[0;34m=\u001B[0m \u001B[0mnext\u001B[0m\u001B[0;34m(\u001B[0m\u001B[0msize_\u001B[0m\u001B[0;34m)\u001B[0m\u001B[0;34m\u001B[0m\u001B[0m\n\u001B[0;32m--> 481\u001B[0;31m         \u001B[0mbatch\u001B[0m \u001B[0;34m=\u001B[0m \u001B[0mlist\u001B[0m\u001B[0;34m(\u001B[0m\u001B[0mitertools\u001B[0m\u001B[0;34m.\u001B[0m\u001B[0mislice\u001B[0m\u001B[0;34m(\u001B[0m\u001B[0mitems\u001B[0m\u001B[0;34m,\u001B[0m \u001B[0mint\u001B[0m\u001B[0;34m(\u001B[0m\u001B[0mbatch_size\u001B[0m\u001B[0;34m)\u001B[0m\u001B[0;34m)\u001B[0m\u001B[0;34m)\u001B[0m\u001B[0;34m\u001B[0m\u001B[0m\n\u001B[0m\u001B[1;32m    482\u001B[0m         \u001B[0;32mif\u001B[0m \u001B[0mlen\u001B[0m\u001B[0;34m(\u001B[0m\u001B[0mbatch\u001B[0m\u001B[0;34m)\u001B[0m \u001B[0;34m==\u001B[0m \u001B[0;36m0\u001B[0m\u001B[0;34m:\u001B[0m\u001B[0;34m\u001B[0m\u001B[0m\n\u001B[1;32m    483\u001B[0m             \u001B[0;32mbreak\u001B[0m\u001B[0;34m\u001B[0m\u001B[0m\n",
      "\u001B[0;32m/opt/anaconda3/envs/Unit_4/lib/python3.7/site-packages/spacy/language.py\u001B[0m in \u001B[0;36m<genexpr>\u001B[0;34m(.0)\u001B[0m\n\u001B[1;32m    799\u001B[0m         \u001B[0;32melse\u001B[0m\u001B[0;34m:\u001B[0m\u001B[0;34m\u001B[0m\u001B[0m\n\u001B[1;32m    800\u001B[0m             \u001B[0;31m# if n_process == 1, no processes are forked.\u001B[0m\u001B[0;34m\u001B[0m\u001B[0;34m\u001B[0m\u001B[0m\n\u001B[0;32m--> 801\u001B[0;31m             \u001B[0mdocs\u001B[0m \u001B[0;34m=\u001B[0m \u001B[0;34m(\u001B[0m\u001B[0mself\u001B[0m\u001B[0;34m.\u001B[0m\u001B[0mmake_doc\u001B[0m\u001B[0;34m(\u001B[0m\u001B[0mtext\u001B[0m\u001B[0;34m)\u001B[0m \u001B[0;32mfor\u001B[0m \u001B[0mtext\u001B[0m \u001B[0;32min\u001B[0m \u001B[0mtexts\u001B[0m\u001B[0;34m)\u001B[0m\u001B[0;34m\u001B[0m\u001B[0m\n\u001B[0m\u001B[1;32m    802\u001B[0m             \u001B[0;32mfor\u001B[0m \u001B[0mpipe\u001B[0m \u001B[0;32min\u001B[0m \u001B[0mpipes\u001B[0m\u001B[0;34m:\u001B[0m\u001B[0;34m\u001B[0m\u001B[0m\n\u001B[1;32m    803\u001B[0m                 \u001B[0mdocs\u001B[0m \u001B[0;34m=\u001B[0m \u001B[0mpipe\u001B[0m\u001B[0;34m(\u001B[0m\u001B[0mdocs\u001B[0m\u001B[0;34m)\u001B[0m\u001B[0;34m\u001B[0m\u001B[0m\n",
      "\u001B[0;32m/opt/anaconda3/envs/Unit_4/lib/python3.7/site-packages/spacy/language.py\u001B[0m in \u001B[0;36mmake_doc\u001B[0;34m(self, text)\u001B[0m\n\u001B[1;32m    451\u001B[0m \u001B[0;34m\u001B[0m\u001B[0m\n\u001B[1;32m    452\u001B[0m     \u001B[0;32mdef\u001B[0m \u001B[0mmake_doc\u001B[0m\u001B[0;34m(\u001B[0m\u001B[0mself\u001B[0m\u001B[0;34m,\u001B[0m \u001B[0mtext\u001B[0m\u001B[0;34m)\u001B[0m\u001B[0;34m:\u001B[0m\u001B[0;34m\u001B[0m\u001B[0m\n\u001B[0;32m--> 453\u001B[0;31m         \u001B[0;32mreturn\u001B[0m \u001B[0mself\u001B[0m\u001B[0;34m.\u001B[0m\u001B[0mtokenizer\u001B[0m\u001B[0;34m(\u001B[0m\u001B[0mtext\u001B[0m\u001B[0;34m)\u001B[0m\u001B[0;34m\u001B[0m\u001B[0m\n\u001B[0m\u001B[1;32m    454\u001B[0m \u001B[0;34m\u001B[0m\u001B[0m\n\u001B[1;32m    455\u001B[0m     \u001B[0;32mdef\u001B[0m \u001B[0m_format_docs_and_golds\u001B[0m\u001B[0;34m(\u001B[0m\u001B[0mself\u001B[0m\u001B[0;34m,\u001B[0m \u001B[0mdocs\u001B[0m\u001B[0;34m,\u001B[0m \u001B[0mgolds\u001B[0m\u001B[0;34m)\u001B[0m\u001B[0;34m:\u001B[0m\u001B[0;34m\u001B[0m\u001B[0m\n",
      "\u001B[0;32mtokenizer.pyx\u001B[0m in \u001B[0;36mspacy.tokenizer.Tokenizer.__call__\u001B[0;34m()\u001B[0m\n",
      "\u001B[0;32mdoc.pyx\u001B[0m in \u001B[0;36mspacy.tokens.doc.Doc.__init__\u001B[0;34m()\u001B[0m\n",
      "\u001B[0;32mdoc.pyx\u001B[0m in \u001B[0;36mspacy.tokens.doc._get_chunker\u001B[0;34m()\u001B[0m\n",
      "\u001B[0;32m/opt/anaconda3/envs/Unit_4/lib/python3.7/site-packages/spacy/util.py\u001B[0m in \u001B[0;36mget_lang_class\u001B[0;34m(lang)\u001B[0m\n\u001B[1;32m     68\u001B[0m     \"\"\"\n\u001B[1;32m     69\u001B[0m     \u001B[0;31m# Check if language is registered / entry point is available\u001B[0m\u001B[0;34m\u001B[0m\u001B[0;34m\u001B[0m\u001B[0m\n\u001B[0;32m---> 70\u001B[0;31m     \u001B[0;32mif\u001B[0m \u001B[0mlang\u001B[0m \u001B[0;32min\u001B[0m \u001B[0mregistry\u001B[0m\u001B[0;34m.\u001B[0m\u001B[0mlanguages\u001B[0m\u001B[0;34m:\u001B[0m\u001B[0;34m\u001B[0m\u001B[0m\n\u001B[0m\u001B[1;32m     71\u001B[0m         \u001B[0;32mreturn\u001B[0m \u001B[0mregistry\u001B[0m\u001B[0;34m.\u001B[0m\u001B[0mlanguages\u001B[0m\u001B[0;34m.\u001B[0m\u001B[0mget\u001B[0m\u001B[0;34m(\u001B[0m\u001B[0mlang\u001B[0m\u001B[0;34m)\u001B[0m\u001B[0;34m\u001B[0m\u001B[0m\n\u001B[1;32m     72\u001B[0m     \u001B[0;32melse\u001B[0m\u001B[0;34m:\u001B[0m\u001B[0;34m\u001B[0m\u001B[0m\n",
      "\u001B[0;32m/opt/anaconda3/envs/Unit_4/lib/python3.7/site-packages/catalogue.py\u001B[0m in \u001B[0;36m__contains__\u001B[0;34m(self, name)\u001B[0m\n\u001B[1;32m     54\u001B[0m         \"\"\"\n\u001B[1;32m     55\u001B[0m         \u001B[0mnamespace\u001B[0m \u001B[0;34m=\u001B[0m \u001B[0mtuple\u001B[0m\u001B[0;34m(\u001B[0m\u001B[0mlist\u001B[0m\u001B[0;34m(\u001B[0m\u001B[0mself\u001B[0m\u001B[0;34m.\u001B[0m\u001B[0mnamespace\u001B[0m\u001B[0;34m)\u001B[0m \u001B[0;34m+\u001B[0m \u001B[0;34m[\u001B[0m\u001B[0mname\u001B[0m\u001B[0;34m]\u001B[0m\u001B[0;34m)\u001B[0m\u001B[0;34m\u001B[0m\u001B[0m\n\u001B[0;32m---> 56\u001B[0;31m         \u001B[0mhas_entry_point\u001B[0m \u001B[0;34m=\u001B[0m \u001B[0mself\u001B[0m\u001B[0;34m.\u001B[0m\u001B[0mentry_points\u001B[0m \u001B[0;32mand\u001B[0m \u001B[0mself\u001B[0m\u001B[0;34m.\u001B[0m\u001B[0mget_entry_point\u001B[0m\u001B[0;34m(\u001B[0m\u001B[0mname\u001B[0m\u001B[0;34m)\u001B[0m\u001B[0;34m\u001B[0m\u001B[0m\n\u001B[0m\u001B[1;32m     57\u001B[0m         \u001B[0;32mreturn\u001B[0m \u001B[0mhas_entry_point\u001B[0m \u001B[0;32mor\u001B[0m \u001B[0mnamespace\u001B[0m \u001B[0;32min\u001B[0m \u001B[0mREGISTRY\u001B[0m\u001B[0;34m\u001B[0m\u001B[0m\n\u001B[1;32m     58\u001B[0m \u001B[0;34m\u001B[0m\u001B[0m\n",
      "\u001B[0;32m/opt/anaconda3/envs/Unit_4/lib/python3.7/site-packages/catalogue.py\u001B[0m in \u001B[0;36mget_entry_point\u001B[0;34m(self, name, default)\u001B[0m\n\u001B[1;32m    136\u001B[0m         \u001B[0mRETURNS\u001B[0m \u001B[0;34m(\u001B[0m\u001B[0mAny\u001B[0m\u001B[0;34m)\u001B[0m\u001B[0;34m:\u001B[0m \u001B[0mThe\u001B[0m \u001B[0mloaded\u001B[0m \u001B[0mentry\u001B[0m \u001B[0mpoint\u001B[0m \u001B[0;32mor\u001B[0m \u001B[0mthe\u001B[0m \u001B[0mdefault\u001B[0m \u001B[0mvalue\u001B[0m\u001B[0;34m.\u001B[0m\u001B[0;34m\u001B[0m\u001B[0m\n\u001B[1;32m    137\u001B[0m         \"\"\"\n\u001B[0;32m--> 138\u001B[0;31m         \u001B[0;32mfor\u001B[0m \u001B[0mentry_point\u001B[0m \u001B[0;32min\u001B[0m \u001B[0mAVAILABLE_ENTRY_POINTS\u001B[0m\u001B[0;34m.\u001B[0m\u001B[0mget\u001B[0m\u001B[0;34m(\u001B[0m\u001B[0mself\u001B[0m\u001B[0;34m.\u001B[0m\u001B[0mentry_point_namespace\u001B[0m\u001B[0;34m,\u001B[0m \u001B[0;34m[\u001B[0m\u001B[0;34m]\u001B[0m\u001B[0;34m)\u001B[0m\u001B[0;34m:\u001B[0m\u001B[0;34m\u001B[0m\u001B[0m\n\u001B[0m\u001B[1;32m    139\u001B[0m             \u001B[0;32mif\u001B[0m \u001B[0mentry_point\u001B[0m\u001B[0;34m.\u001B[0m\u001B[0mname\u001B[0m \u001B[0;34m==\u001B[0m \u001B[0mname\u001B[0m\u001B[0;34m:\u001B[0m\u001B[0;34m\u001B[0m\u001B[0m\n\u001B[1;32m    140\u001B[0m                 \u001B[0;32mreturn\u001B[0m \u001B[0mentry_point\u001B[0m\u001B[0;34m.\u001B[0m\u001B[0mload\u001B[0m\u001B[0;34m(\u001B[0m\u001B[0;34m)\u001B[0m\u001B[0;34m\u001B[0m\u001B[0m\n",
      "\u001B[0;32m/opt/anaconda3/envs/Unit_4/lib/python3.7/site-packages/importlib_metadata/__init__.py\u001B[0m in \u001B[0;36mget\u001B[0;34m(self, name, default)\u001B[0m\n\u001B[1;32m    309\u001B[0m \u001B[0;34m\u001B[0m\u001B[0m\n\u001B[1;32m    310\u001B[0m     \u001B[0;32mdef\u001B[0m \u001B[0mget\u001B[0m\u001B[0;34m(\u001B[0m\u001B[0mself\u001B[0m\u001B[0;34m,\u001B[0m \u001B[0mname\u001B[0m\u001B[0;34m,\u001B[0m \u001B[0mdefault\u001B[0m\u001B[0;34m=\u001B[0m\u001B[0;32mNone\u001B[0m\u001B[0;34m)\u001B[0m\u001B[0;34m:\u001B[0m\u001B[0;34m\u001B[0m\u001B[0m\n\u001B[0;32m--> 311\u001B[0;31m         \u001B[0mflake8_bypass\u001B[0m\u001B[0;34m(\u001B[0m\u001B[0mself\u001B[0m\u001B[0;34m.\u001B[0m\u001B[0m_warn\u001B[0m\u001B[0;34m)\u001B[0m\u001B[0;34m(\u001B[0m\u001B[0;34m)\u001B[0m\u001B[0;34m\u001B[0m\u001B[0m\n\u001B[0m\u001B[1;32m    312\u001B[0m         \u001B[0;32mreturn\u001B[0m \u001B[0msuper\u001B[0m\u001B[0;34m(\u001B[0m\u001B[0;34m)\u001B[0m\u001B[0;34m.\u001B[0m\u001B[0mget\u001B[0m\u001B[0;34m(\u001B[0m\u001B[0mname\u001B[0m\u001B[0;34m,\u001B[0m \u001B[0mdefault\u001B[0m\u001B[0;34m)\u001B[0m\u001B[0;34m\u001B[0m\u001B[0m\n\u001B[1;32m    313\u001B[0m \u001B[0;34m\u001B[0m\u001B[0m\n",
      "\u001B[0;32m/opt/anaconda3/envs/Unit_4/lib/python3.7/site-packages/importlib_metadata/__init__.py\u001B[0m in \u001B[0;36mflake8_bypass\u001B[0;34m(func)\u001B[0m\n\u001B[1;32m    270\u001B[0m     \u001B[0;32mimport\u001B[0m \u001B[0minspect\u001B[0m\u001B[0;34m\u001B[0m\u001B[0m\n\u001B[1;32m    271\u001B[0m \u001B[0;34m\u001B[0m\u001B[0m\n\u001B[0;32m--> 272\u001B[0;31m     \u001B[0mis_flake8\u001B[0m \u001B[0;34m=\u001B[0m \u001B[0many\u001B[0m\u001B[0;34m(\u001B[0m\u001B[0;34m'flake8'\u001B[0m \u001B[0;32min\u001B[0m \u001B[0mstr\u001B[0m\u001B[0;34m(\u001B[0m\u001B[0mframe\u001B[0m\u001B[0;34m.\u001B[0m\u001B[0mfilename\u001B[0m\u001B[0;34m)\u001B[0m \u001B[0;32mfor\u001B[0m \u001B[0mframe\u001B[0m \u001B[0;32min\u001B[0m \u001B[0minspect\u001B[0m\u001B[0;34m.\u001B[0m\u001B[0mstack\u001B[0m\u001B[0;34m(\u001B[0m\u001B[0;34m)\u001B[0m\u001B[0;34m[\u001B[0m\u001B[0;34m:\u001B[0m\u001B[0;36m5\u001B[0m\u001B[0;34m]\u001B[0m\u001B[0;34m)\u001B[0m\u001B[0;34m\u001B[0m\u001B[0m\n\u001B[0m\u001B[1;32m    273\u001B[0m     \u001B[0;32mreturn\u001B[0m \u001B[0mfunc\u001B[0m \u001B[0;32mif\u001B[0m \u001B[0;32mnot\u001B[0m \u001B[0mis_flake8\u001B[0m \u001B[0;32melse\u001B[0m \u001B[0;32mlambda\u001B[0m\u001B[0;34m:\u001B[0m \u001B[0;32mNone\u001B[0m\u001B[0;34m\u001B[0m\u001B[0m\n\u001B[1;32m    274\u001B[0m \u001B[0;34m\u001B[0m\u001B[0m\n",
      "\u001B[0;32m/opt/anaconda3/envs/Unit_4/lib/python3.7/inspect.py\u001B[0m in \u001B[0;36mstack\u001B[0;34m(context)\u001B[0m\n\u001B[1;32m   1504\u001B[0m \u001B[0;32mdef\u001B[0m \u001B[0mstack\u001B[0m\u001B[0;34m(\u001B[0m\u001B[0mcontext\u001B[0m\u001B[0;34m=\u001B[0m\u001B[0;36m1\u001B[0m\u001B[0;34m)\u001B[0m\u001B[0;34m:\u001B[0m\u001B[0;34m\u001B[0m\u001B[0m\n\u001B[1;32m   1505\u001B[0m     \u001B[0;34m\"\"\"Return a list of records for the stack above the caller's frame.\"\"\"\u001B[0m\u001B[0;34m\u001B[0m\u001B[0m\n\u001B[0;32m-> 1506\u001B[0;31m     \u001B[0;32mreturn\u001B[0m \u001B[0mgetouterframes\u001B[0m\u001B[0;34m(\u001B[0m\u001B[0msys\u001B[0m\u001B[0;34m.\u001B[0m\u001B[0m_getframe\u001B[0m\u001B[0;34m(\u001B[0m\u001B[0;36m1\u001B[0m\u001B[0;34m)\u001B[0m\u001B[0;34m,\u001B[0m \u001B[0mcontext\u001B[0m\u001B[0;34m)\u001B[0m\u001B[0;34m\u001B[0m\u001B[0m\n\u001B[0m\u001B[1;32m   1507\u001B[0m \u001B[0;34m\u001B[0m\u001B[0m\n\u001B[1;32m   1508\u001B[0m \u001B[0;32mdef\u001B[0m \u001B[0mtrace\u001B[0m\u001B[0;34m(\u001B[0m\u001B[0mcontext\u001B[0m\u001B[0;34m=\u001B[0m\u001B[0;36m1\u001B[0m\u001B[0;34m)\u001B[0m\u001B[0;34m:\u001B[0m\u001B[0;34m\u001B[0m\u001B[0m\n",
      "\u001B[0;32m/opt/anaconda3/envs/Unit_4/lib/python3.7/inspect.py\u001B[0m in \u001B[0;36mgetouterframes\u001B[0;34m(frame, context)\u001B[0m\n\u001B[1;32m   1481\u001B[0m     \u001B[0mframelist\u001B[0m \u001B[0;34m=\u001B[0m \u001B[0;34m[\u001B[0m\u001B[0;34m]\u001B[0m\u001B[0;34m\u001B[0m\u001B[0m\n\u001B[1;32m   1482\u001B[0m     \u001B[0;32mwhile\u001B[0m \u001B[0mframe\u001B[0m\u001B[0;34m:\u001B[0m\u001B[0;34m\u001B[0m\u001B[0m\n\u001B[0;32m-> 1483\u001B[0;31m         \u001B[0mframeinfo\u001B[0m \u001B[0;34m=\u001B[0m \u001B[0;34m(\u001B[0m\u001B[0mframe\u001B[0m\u001B[0;34m,\u001B[0m\u001B[0;34m)\u001B[0m \u001B[0;34m+\u001B[0m \u001B[0mgetframeinfo\u001B[0m\u001B[0;34m(\u001B[0m\u001B[0mframe\u001B[0m\u001B[0;34m,\u001B[0m \u001B[0mcontext\u001B[0m\u001B[0;34m)\u001B[0m\u001B[0;34m\u001B[0m\u001B[0m\n\u001B[0m\u001B[1;32m   1484\u001B[0m         \u001B[0mframelist\u001B[0m\u001B[0;34m.\u001B[0m\u001B[0mappend\u001B[0m\u001B[0;34m(\u001B[0m\u001B[0mFrameInfo\u001B[0m\u001B[0;34m(\u001B[0m\u001B[0;34m*\u001B[0m\u001B[0mframeinfo\u001B[0m\u001B[0;34m)\u001B[0m\u001B[0;34m)\u001B[0m\u001B[0;34m\u001B[0m\u001B[0m\n\u001B[1;32m   1485\u001B[0m         \u001B[0mframe\u001B[0m \u001B[0;34m=\u001B[0m \u001B[0mframe\u001B[0m\u001B[0;34m.\u001B[0m\u001B[0mf_back\u001B[0m\u001B[0;34m\u001B[0m\u001B[0m\n",
      "\u001B[0;32m/opt/anaconda3/envs/Unit_4/lib/python3.7/inspect.py\u001B[0m in \u001B[0;36mgetframeinfo\u001B[0;34m(frame, context)\u001B[0m\n\u001B[1;32m   1455\u001B[0m         \u001B[0mstart\u001B[0m \u001B[0;34m=\u001B[0m \u001B[0mlineno\u001B[0m \u001B[0;34m-\u001B[0m \u001B[0;36m1\u001B[0m \u001B[0;34m-\u001B[0m \u001B[0mcontext\u001B[0m\u001B[0;34m//\u001B[0m\u001B[0;36m2\u001B[0m\u001B[0;34m\u001B[0m\u001B[0m\n\u001B[1;32m   1456\u001B[0m         \u001B[0;32mtry\u001B[0m\u001B[0;34m:\u001B[0m\u001B[0;34m\u001B[0m\u001B[0m\n\u001B[0;32m-> 1457\u001B[0;31m             \u001B[0mlines\u001B[0m\u001B[0;34m,\u001B[0m \u001B[0mlnum\u001B[0m \u001B[0;34m=\u001B[0m \u001B[0mfindsource\u001B[0m\u001B[0;34m(\u001B[0m\u001B[0mframe\u001B[0m\u001B[0;34m)\u001B[0m\u001B[0;34m\u001B[0m\u001B[0m\n\u001B[0m\u001B[1;32m   1458\u001B[0m         \u001B[0;32mexcept\u001B[0m \u001B[0mOSError\u001B[0m\u001B[0;34m:\u001B[0m\u001B[0;34m\u001B[0m\u001B[0m\n\u001B[1;32m   1459\u001B[0m             \u001B[0mlines\u001B[0m \u001B[0;34m=\u001B[0m \u001B[0mindex\u001B[0m \u001B[0;34m=\u001B[0m \u001B[0;32mNone\u001B[0m\u001B[0;34m\u001B[0m\u001B[0m\n",
      "\u001B[0;32m/opt/anaconda3/envs/Unit_4/lib/python3.7/inspect.py\u001B[0m in \u001B[0;36mfindsource\u001B[0;34m(object)\u001B[0m\n\u001B[1;32m    766\u001B[0m     is raised if the source code cannot be retrieved.\"\"\"\n\u001B[1;32m    767\u001B[0m \u001B[0;34m\u001B[0m\u001B[0m\n\u001B[0;32m--> 768\u001B[0;31m     \u001B[0mfile\u001B[0m \u001B[0;34m=\u001B[0m \u001B[0mgetsourcefile\u001B[0m\u001B[0;34m(\u001B[0m\u001B[0mobject\u001B[0m\u001B[0;34m)\u001B[0m\u001B[0;34m\u001B[0m\u001B[0m\n\u001B[0m\u001B[1;32m    769\u001B[0m     \u001B[0;32mif\u001B[0m \u001B[0mfile\u001B[0m\u001B[0;34m:\u001B[0m\u001B[0;34m\u001B[0m\u001B[0m\n\u001B[1;32m    770\u001B[0m         \u001B[0;31m# Invalidate cache if needed.\u001B[0m\u001B[0;34m\u001B[0m\u001B[0;34m\u001B[0m\u001B[0m\n",
      "\u001B[0;32m/opt/anaconda3/envs/Unit_4/lib/python3.7/inspect.py\u001B[0m in \u001B[0;36mgetsourcefile\u001B[0;34m(object)\u001B[0m\n\u001B[1;32m    694\u001B[0m         \u001B[0;32mreturn\u001B[0m \u001B[0mfilename\u001B[0m\u001B[0;34m\u001B[0m\u001B[0m\n\u001B[1;32m    695\u001B[0m     \u001B[0;31m# only return a non-existent filename if the module has a PEP 302 loader\u001B[0m\u001B[0;34m\u001B[0m\u001B[0;34m\u001B[0m\u001B[0m\n\u001B[0;32m--> 696\u001B[0;31m     \u001B[0;32mif\u001B[0m \u001B[0mgetattr\u001B[0m\u001B[0;34m(\u001B[0m\u001B[0mgetmodule\u001B[0m\u001B[0;34m(\u001B[0m\u001B[0mobject\u001B[0m\u001B[0;34m,\u001B[0m \u001B[0mfilename\u001B[0m\u001B[0;34m)\u001B[0m\u001B[0;34m,\u001B[0m \u001B[0;34m'__loader__'\u001B[0m\u001B[0;34m,\u001B[0m \u001B[0;32mNone\u001B[0m\u001B[0;34m)\u001B[0m \u001B[0;32mis\u001B[0m \u001B[0;32mnot\u001B[0m \u001B[0;32mNone\u001B[0m\u001B[0;34m:\u001B[0m\u001B[0;34m\u001B[0m\u001B[0m\n\u001B[0m\u001B[1;32m    697\u001B[0m         \u001B[0;32mreturn\u001B[0m \u001B[0mfilename\u001B[0m\u001B[0;34m\u001B[0m\u001B[0m\n\u001B[1;32m    698\u001B[0m     \u001B[0;31m# or it is in the linecache\u001B[0m\u001B[0;34m\u001B[0m\u001B[0;34m\u001B[0m\u001B[0m\n",
      "\u001B[0;32m/opt/anaconda3/envs/Unit_4/lib/python3.7/inspect.py\u001B[0m in \u001B[0;36mgetmodule\u001B[0;34m(object, _filename)\u001B[0m\n\u001B[1;32m    730\u001B[0m     \u001B[0;31m# Update the filename to module name cache and check yet again\u001B[0m\u001B[0;34m\u001B[0m\u001B[0;34m\u001B[0m\u001B[0m\n\u001B[1;32m    731\u001B[0m     \u001B[0;31m# Copy sys.modules in order to cope with changes while iterating\u001B[0m\u001B[0;34m\u001B[0m\u001B[0;34m\u001B[0m\u001B[0m\n\u001B[0;32m--> 732\u001B[0;31m     \u001B[0;32mfor\u001B[0m \u001B[0mmodname\u001B[0m\u001B[0;34m,\u001B[0m \u001B[0mmodule\u001B[0m \u001B[0;32min\u001B[0m \u001B[0mlist\u001B[0m\u001B[0;34m(\u001B[0m\u001B[0msys\u001B[0m\u001B[0;34m.\u001B[0m\u001B[0mmodules\u001B[0m\u001B[0;34m.\u001B[0m\u001B[0mitems\u001B[0m\u001B[0;34m(\u001B[0m\u001B[0;34m)\u001B[0m\u001B[0;34m)\u001B[0m\u001B[0;34m:\u001B[0m\u001B[0;34m\u001B[0m\u001B[0m\n\u001B[0m\u001B[1;32m    733\u001B[0m         \u001B[0;32mif\u001B[0m \u001B[0mismodule\u001B[0m\u001B[0;34m(\u001B[0m\u001B[0mmodule\u001B[0m\u001B[0;34m)\u001B[0m \u001B[0;32mand\u001B[0m \u001B[0mhasattr\u001B[0m\u001B[0;34m(\u001B[0m\u001B[0mmodule\u001B[0m\u001B[0;34m,\u001B[0m \u001B[0;34m'__file__'\u001B[0m\u001B[0;34m)\u001B[0m\u001B[0;34m:\u001B[0m\u001B[0;34m\u001B[0m\u001B[0m\n\u001B[1;32m    734\u001B[0m             \u001B[0mf\u001B[0m \u001B[0;34m=\u001B[0m \u001B[0mmodule\u001B[0m\u001B[0;34m.\u001B[0m\u001B[0m__file__\u001B[0m\u001B[0;34m\u001B[0m\u001B[0m\n",
      "\u001B[0;31mKeyboardInterrupt\u001B[0m: "
     ]
    }
   ],
   "source": [
    "STOP_WORDS = nlp.Defaults.stop_words.union(['coffee'])\n",
    "\n",
    "def get_lemmas(text):\n",
    "    doc_lemmas = []\n",
    "    for doc in nlp.pipe(text):\n",
    "        lemmas = []\n",
    "        for token in doc:\n",
    "            if ((t.text.lower() not in STOP_WORDS) and (token.is_punct == False) and (token.pos_ != 'PRON')):\n",
    "                lemmas.append(token.lemma_.lower())\n",
    "        doc_lemmas.append(lemmas)\n",
    "\n",
    "df['token_lemmas'] = df['full_review_text'].apply(get_lemmas)\n",
    "\n",
    "cols = ['full_review_text', 'token_lemmas']\n",
    "df[cols].head()"
   ],
   "metadata": {
    "collapsed": false,
    "pycharm": {
     "name": "#%%\n"
    }
   }
  },
  {
   "cell_type": "code",
   "execution_count": null,
   "outputs": [],
   "source": [
    "import squarify\n",
    "import matplotlib.pyplot as plt\n",
    "\n",
    "wc = count(df['token_lemmas'])\n",
    "wc_top20 = wc[wc['rank'] <= 20]\n",
    "\n",
    "squarify.plot(sizes=wc_top20['pct_total'], label=wc_top20['word'], alpha=.8 )\n",
    "plt.axis('off')\n",
    "plt.show()"
   ],
   "metadata": {
    "collapsed": false,
    "pycharm": {
     "name": "#%%\n"
    }
   }
  },
  {
   "cell_type": "markdown",
   "metadata": {},
   "source": [
    "## How do we want to analyze these coffee shop tokens? \n",
    "\n",
    "- Overall Word / Token Count\n",
    "- View Counts by Rating \n",
    "- *Hint:* a 'bad' coffee shops has a rating betweeen 1 & 3 based on the distribution of ratings. A 'good' coffee shop is a 4 or 5. "
   ]
  },
  {
   "cell_type": "code",
   "execution_count": 93,
   "metadata": {},
   "outputs": [
    {
     "data": {
      "text/plain": "Index(['coffee_shop_name', 'full_review_text', 'star_rating',\n       'review_tokenized'],\n      dtype='object')"
     },
     "execution_count": 93,
     "metadata": {},
     "output_type": "execute_result"
    }
   ],
   "source": [
    "df.columns"
   ]
  },
  {
   "cell_type": "markdown",
   "metadata": {},
   "source": [
    "## Can visualize the words with the greatest difference in counts between 'good' & 'bad'?\n",
    "\n",
    "Couple Notes: \n",
    "- Rel. freq. instead of absolute counts b/c of different numbers of reviews\n",
    "- Only look at the top 5-10 words with the greatest differences\n"
   ]
  },
  {
   "cell_type": "code",
   "execution_count": 46,
   "metadata": {},
   "outputs": [],
   "source": []
  },
  {
   "cell_type": "markdown",
   "metadata": {
    "colab_type": "text",
    "id": "1dCb1q8XphcP",
    "toc-hr-collapsed": true
   },
   "source": [
    "## Stretch Goals\n",
    "\n",
    "* Analyze another corpus of documents - such as Indeed.com job listings ;).\n",
    "* Play with the Spacy API to\n",
    " - Extract Named Entities\n",
    " - Extracting 'noun chunks'\n",
    " - Attempt Document Classification with just Spacy\n",
    " - *Note:* This [course](https://course.spacy.io/) will be of interesting in helping you with these stretch goals. \n",
    "* Try to build a plotly dash app with your text data \n",
    "\n"
   ]
  }
 ],
 "metadata": {
  "colab": {
   "collapsed_sections": [],
   "name": "LS_DS_421_Text_Data_Assignment.ipynb",
   "provenance": [],
   "version": "0.3.2"
  },
  "kernelspec": {
   "name": "unit_4p",
   "language": "python",
   "display_name": "Unit_4 (Python3)"
  },
  "language_info": {
   "codemirror_mode": {
    "name": "ipython",
    "version": 3
   },
   "file_extension": ".py",
   "mimetype": "text/x-python",
   "name": "python",
   "nbconvert_exporter": "python",
   "pygments_lexer": "ipython3",
   "version": "3.7.3"
  },
  "toc-autonumbering": false
 },
 "nbformat": 4,
 "nbformat_minor": 4
}